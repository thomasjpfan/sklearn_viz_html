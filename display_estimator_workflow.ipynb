{
 "cells": [
  {
   "cell_type": "markdown",
   "metadata": {},
   "source": [
    "# Workflow for Visualizing Esiimators\n",
    "\n",
    "We can build a simple pipeline for classification:"
   ]
  },
  {
   "cell_type": "code",
   "execution_count": 1,
   "metadata": {},
   "outputs": [],
   "source": [
    "from sklearn.pipeline import Pipeline\n",
    "from sklearn.decomposition import PCA\n",
    "from sklearn.linear_model import LogisticRegression\n",
    "from sklearn.inspection import display_estimator"
   ]
  },
  {
   "cell_type": "code",
   "execution_count": 2,
   "metadata": {},
   "outputs": [
    {
     "data": {
      "text/html": [
       "<html><head><style>.sk-estimator {  font-family: monospace;  background-color: #f0f8ff;  padding: 0.5em;  margin: 0.25em 0.25em;  border: 1px dotted black;  border-radius: 0.25em;  text-align: center;}.sk-parallel-item::after {  content: \"\";  width: 100%;  border-bottom: 1px solid gray;  flex-grow: 1;}.sk-serial::before {  content: \"\";  position: absolute;  border-left: 1px solid gray;  top: 2em;  bottom: 0;  left: 50%;}.sk-serial {  display: flex;  flex-direction: column;  align-items: center;  float: left;  background: white;}.sk-parallel {  display: flex;  align-items: stretch;  justify-content: center;}.sk-parallel-item {  display: flex;  flex-direction: column;  position: relative;  background: white;}.sk-parallel-item:first-child::after {  align-self: flex-end;  width: 50%;}.sk-parallel-item:last-child::after {  align-self: flex-start;  width: 50%;}.sk-parallel-item:only-child::after {  width: 0;}.sk-dashed-wrapped {  border: 1px dashed gray;  padding: 0 0.25em 0.25em 0.25em;}.sk-label {  min-width: 70%;  font-family: monospace;  font-weight: bold;  background: white;  display: inline-block;  margin: 0 0.5em;}.sk-label-container {  text-align: center;  border: #f0f8ff solid red;}.sk-serial-item {  margin-bottom: 0.25em;  background: white;}.sk-container {  display: flex;  flex-direction: column;  align-items: flex-start;  position: relative;  float: left;}[sk-data-tooltip] {  position: relative;  cursor: pointer;}[sk-data-tooltip]:before {  visibility: hidden;  opacity: 0;  font-weight: 400;  position: absolute;  top: 100%;  left: 0;  padding: 0.5em;  overflow: hidden;  background-color: #f0f8ff;  border: 1px solid gray;  white-space: pre;  content: attr(sk-data-tooltip);  text-align: left;}[sk-data-tooltip]:hover:before {  visibility: visible;  opacity: 1;  z-index: 2;}.sk-top-container {  display: flex;  color: black;  padding-bottom: 2em;}</style></head><body><div class=\"sk-top-container\"><div class=\"sk-container\"><div class=\"sk-serial\"><div class=\"sk-serial-item\"><div class=\"sk-estimator\" sk-data-tooltip=\"PCA()\">PCA</div></div><div class=\"sk-serial-item\"><div class=\"sk-estimator\" sk-data-tooltip=\"LogisticRegression()\">LogisticRegression</div></div></div></div></div></body></html>"
      ],
      "text/plain": [
       "<IPython.core.display.HTML object>"
      ]
     },
     "execution_count": 2,
     "metadata": {},
     "output_type": "execute_result"
    }
   ],
   "source": [
    "pca = PCA()\n",
    "lr = LogisticRegression()\n",
    "pipe1 = Pipeline([\n",
    "    ('pca', PCA()),\n",
    "    ('lr', LogisticRegression())\n",
    "])\n",
    "\n",
    "display_estimator(pipe1)"
   ]
  },
  {
   "cell_type": "markdown",
   "metadata": {},
   "source": [
    "To add a column transformer that handles categories and numerical features:"
   ]
  },
  {
   "cell_type": "code",
   "execution_count": 3,
   "metadata": {},
   "outputs": [],
   "source": [
    "from sklearn.compose import ColumnTransformer\n",
    "from sklearn.impute import SimpleImputer\n",
    "from sklearn.preprocessing import OneHotEncoder\n",
    "from sklearn.preprocessing import StandardScaler"
   ]
  },
  {
   "cell_type": "code",
   "execution_count": 4,
   "metadata": {},
   "outputs": [
    {
     "data": {
      "text/html": [
       "<html><head><style>.sk-estimator {  font-family: monospace;  background-color: #f0f8ff;  padding: 0.5em;  margin: 0.25em 0.25em;  border: 1px dotted black;  border-radius: 0.25em;  text-align: center;}.sk-parallel-item::after {  content: \"\";  width: 100%;  border-bottom: 1px solid gray;  flex-grow: 1;}.sk-serial::before {  content: \"\";  position: absolute;  border-left: 1px solid gray;  top: 2em;  bottom: 0;  left: 50%;}.sk-serial {  display: flex;  flex-direction: column;  align-items: center;  float: left;  background: white;}.sk-parallel {  display: flex;  align-items: stretch;  justify-content: center;}.sk-parallel-item {  display: flex;  flex-direction: column;  position: relative;  background: white;}.sk-parallel-item:first-child::after {  align-self: flex-end;  width: 50%;}.sk-parallel-item:last-child::after {  align-self: flex-start;  width: 50%;}.sk-parallel-item:only-child::after {  width: 0;}.sk-dashed-wrapped {  border: 1px dashed gray;  padding: 0 0.25em 0.25em 0.25em;}.sk-label {  min-width: 70%;  font-family: monospace;  font-weight: bold;  background: white;  display: inline-block;  margin: 0 0.5em;}.sk-label-container {  text-align: center;  border: #f0f8ff solid red;}.sk-serial-item {  margin-bottom: 0.25em;  background: white;}.sk-container {  display: flex;  flex-direction: column;  align-items: flex-start;  position: relative;  float: left;}[sk-data-tooltip] {  position: relative;  cursor: pointer;}[sk-data-tooltip]:before {  visibility: hidden;  opacity: 0;  font-weight: 400;  position: absolute;  top: 100%;  left: 0;  padding: 0.5em;  overflow: hidden;  background-color: #f0f8ff;  border: 1px solid gray;  white-space: pre;  content: attr(sk-data-tooltip);  text-align: left;}[sk-data-tooltip]:hover:before {  visibility: visible;  opacity: 1;  z-index: 2;}.sk-top-container {  display: flex;  color: black;  padding-bottom: 2em;}</style></head><body><div class=\"sk-top-container\"><div class=\"sk-container\"><div class=\"sk-serial\"><div class=\"sk-serial-item sk-dashed-wrapped\"><div class=\"sk-label-container\"><div class=\"sk-label\" sk-data-tooltip=\"ColumnTransformer(transformers=[('cat',&#xa;                                 Pipeline(steps=[('impute',&#xa;                                                  SimpleImputer(fill_value='missing',&#xa;                                                                strategy='constant')),&#xa;                                                 ('onehot',&#xa;                                                  OneHotEncoder(handle_unknown='ignore'))]),&#xa;                                 ['gender', 'age_bracket']),&#xa;                                ('num',&#xa;                                 Pipeline(steps=[('impute', SimpleImputer()),&#xa;                                                 ('scale', StandardScaler())]),&#xa;                                 ['age', 'income'])])\">ColumnTransformer</div></div><div class=\"sk-parallel\"><div class=\"sk-parallel-item\"><div class=\"sk-label-container\"><div class=\"sk-label\" sk-data-tooltip=\"['gender', 'age_bracket']\">cat</div></div><div class=\"sk-serial\"><div class=\"sk-serial\"><div class=\"sk-serial-item\"><div class=\"sk-estimator\" sk-data-tooltip=\"SimpleImputer(fill_value='missing', strategy='constant')\">SimpleImputer</div></div><div class=\"sk-serial-item\"><div class=\"sk-estimator\" sk-data-tooltip=\"OneHotEncoder(handle_unknown='ignore')\">OneHotEncoder</div></div></div></div></div><div class=\"sk-parallel-item\"><div class=\"sk-label-container\"><div class=\"sk-label\" sk-data-tooltip=\"['age', 'income']\">num</div></div><div class=\"sk-serial\"><div class=\"sk-serial\"><div class=\"sk-serial-item\"><div class=\"sk-estimator\" sk-data-tooltip=\"SimpleImputer()\">SimpleImputer</div></div><div class=\"sk-serial-item\"><div class=\"sk-estimator\" sk-data-tooltip=\"StandardScaler()\">StandardScaler</div></div></div></div></div></div></div></div></div></div></body></html>"
      ],
      "text/plain": [
       "<IPython.core.display.HTML object>"
      ]
     },
     "execution_count": 4,
     "metadata": {},
     "output_type": "execute_result"
    }
   ],
   "source": [
    "cat_pipe = Pipeline([\n",
    "    ('impute', SimpleImputer(strategy='constant', fill_value='missing')),\n",
    "    ('onehot', OneHotEncoder(handle_unknown='ignore'))\n",
    "])\n",
    "\n",
    "num_pipe = Pipeline([\n",
    "    ('impute', SimpleImputer()),\n",
    "    ('scale', StandardScaler())\n",
    "])\n",
    "\n",
    "preprcoessor = ColumnTransformer([\n",
    "    ('cat', cat_pipe, ['gender', 'age_bracket']),\n",
    "    ('num', num_pipe, ['age', 'income'])\n",
    "])\n",
    "\n",
    "display_estimator(preprcoessor)"
   ]
  },
  {
   "cell_type": "markdown",
   "metadata": {},
   "source": [
    "Next, we can attached a classifier to this preprocessor:"
   ]
  },
  {
   "cell_type": "code",
   "execution_count": 5,
   "metadata": {},
   "outputs": [
    {
     "data": {
      "text/html": [
       "<html><head><style>.sk-estimator {  font-family: monospace;  background-color: #f0f8ff;  padding: 0.5em;  margin: 0.25em 0.25em;  border: 1px dotted black;  border-radius: 0.25em;  text-align: center;}.sk-parallel-item::after {  content: \"\";  width: 100%;  border-bottom: 1px solid gray;  flex-grow: 1;}.sk-serial::before {  content: \"\";  position: absolute;  border-left: 1px solid gray;  top: 2em;  bottom: 0;  left: 50%;}.sk-serial {  display: flex;  flex-direction: column;  align-items: center;  float: left;  background: white;}.sk-parallel {  display: flex;  align-items: stretch;  justify-content: center;}.sk-parallel-item {  display: flex;  flex-direction: column;  position: relative;  background: white;}.sk-parallel-item:first-child::after {  align-self: flex-end;  width: 50%;}.sk-parallel-item:last-child::after {  align-self: flex-start;  width: 50%;}.sk-parallel-item:only-child::after {  width: 0;}.sk-dashed-wrapped {  border: 1px dashed gray;  padding: 0 0.25em 0.25em 0.25em;}.sk-label {  min-width: 70%;  font-family: monospace;  font-weight: bold;  background: white;  display: inline-block;  margin: 0 0.5em;}.sk-label-container {  text-align: center;  border: #f0f8ff solid red;}.sk-serial-item {  margin-bottom: 0.25em;  background: white;}.sk-container {  display: flex;  flex-direction: column;  align-items: flex-start;  position: relative;  float: left;}[sk-data-tooltip] {  position: relative;  cursor: pointer;}[sk-data-tooltip]:before {  visibility: hidden;  opacity: 0;  font-weight: 400;  position: absolute;  top: 100%;  left: 0;  padding: 0.5em;  overflow: hidden;  background-color: #f0f8ff;  border: 1px solid gray;  white-space: pre;  content: attr(sk-data-tooltip);  text-align: left;}[sk-data-tooltip]:hover:before {  visibility: visible;  opacity: 1;  z-index: 2;}.sk-top-container {  display: flex;  color: black;  padding-bottom: 2em;}</style></head><body><div class=\"sk-top-container\"><div class=\"sk-container\"><div class=\"sk-serial\"><div class=\"sk-serial-item sk-dashed-wrapped\"><div class=\"sk-label-container\"><div class=\"sk-label\" sk-data-tooltip=\"ColumnTransformer(transformers=[('cat',&#xa;                                 Pipeline(steps=[('impute',&#xa;                                                  SimpleImputer(fill_value='missing',&#xa;                                                                strategy='constant')),&#xa;                                                 ('onehot',&#xa;                                                  OneHotEncoder(handle_unknown='ignore'))]),&#xa;                                 ['gender', 'age_bracket']),&#xa;                                ('num',&#xa;                                 Pipeline(steps=[('impute', SimpleImputer()),&#xa;                                                 ('scale', StandardScaler())]),&#xa;                                 ['age', 'income'])])\">preprocessor</div></div><div class=\"sk-parallel\"><div class=\"sk-parallel-item\"><div class=\"sk-label-container\"><div class=\"sk-label\" sk-data-tooltip=\"['gender', 'age_bracket']\">cat</div></div><div class=\"sk-serial\"><div class=\"sk-serial\"><div class=\"sk-serial-item\"><div class=\"sk-estimator\" sk-data-tooltip=\"SimpleImputer(fill_value='missing', strategy='constant')\">SimpleImputer</div></div><div class=\"sk-serial-item\"><div class=\"sk-estimator\" sk-data-tooltip=\"OneHotEncoder(handle_unknown='ignore')\">OneHotEncoder</div></div></div></div></div><div class=\"sk-parallel-item\"><div class=\"sk-label-container\"><div class=\"sk-label\" sk-data-tooltip=\"['age', 'income']\">num</div></div><div class=\"sk-serial\"><div class=\"sk-serial\"><div class=\"sk-serial-item\"><div class=\"sk-estimator\" sk-data-tooltip=\"SimpleImputer()\">SimpleImputer</div></div><div class=\"sk-serial-item\"><div class=\"sk-estimator\" sk-data-tooltip=\"StandardScaler()\">StandardScaler</div></div></div></div></div></div></div><div class=\"sk-serial-item\"><div class=\"sk-estimator\" sk-data-tooltip=\"LogisticRegression()\">LogisticRegression</div></div></div></div></div></body></html>"
      ],
      "text/plain": [
       "<IPython.core.display.HTML object>"
      ]
     },
     "execution_count": 5,
     "metadata": {},
     "output_type": "execute_result"
    }
   ],
   "source": [
    "pipe2 = Pipeline([\n",
    "    ('preprocessor', preprcoessor),\n",
    "    ('lr', lr)\n",
    "])\n",
    "\n",
    "display_estimator(pipe2)"
   ]
  },
  {
   "cell_type": "markdown",
   "metadata": {},
   "source": [
    "We can build a more complicated classifier at the end:"
   ]
  },
  {
   "cell_type": "code",
   "execution_count": 7,
   "metadata": {},
   "outputs": [],
   "source": [
    "from sklearn.ensemble import VotingClassifier\n",
    "from sklearn.ensemble import RandomForestClassifier\n",
    "from sklearn.neural_network import MLPClassifier"
   ]
  },
  {
   "cell_type": "code",
   "execution_count": 8,
   "metadata": {},
   "outputs": [
    {
     "data": {
      "text/html": [
       "<html><head><style>.sk-estimator {  font-family: monospace;  background-color: #f0f8ff;  padding: 0.5em;  margin: 0.25em 0.25em;  border: 1px dotted black;  border-radius: 0.25em;  text-align: center;}.sk-parallel-item::after {  content: \"\";  width: 100%;  border-bottom: 1px solid gray;  flex-grow: 1;}.sk-serial::before {  content: \"\";  position: absolute;  border-left: 1px solid gray;  top: 2em;  bottom: 0;  left: 50%;}.sk-serial {  display: flex;  flex-direction: column;  align-items: center;  float: left;  background: white;}.sk-parallel {  display: flex;  align-items: stretch;  justify-content: center;}.sk-parallel-item {  display: flex;  flex-direction: column;  position: relative;  background: white;}.sk-parallel-item:first-child::after {  align-self: flex-end;  width: 50%;}.sk-parallel-item:last-child::after {  align-self: flex-start;  width: 50%;}.sk-parallel-item:only-child::after {  width: 0;}.sk-dashed-wrapped {  border: 1px dashed gray;  padding: 0 0.25em 0.25em 0.25em;}.sk-label {  min-width: 70%;  font-family: monospace;  font-weight: bold;  background: white;  display: inline-block;  margin: 0 0.5em;}.sk-label-container {  text-align: center;  border: #f0f8ff solid red;}.sk-serial-item {  margin-bottom: 0.25em;  background: white;}.sk-container {  display: flex;  flex-direction: column;  align-items: flex-start;  position: relative;  float: left;}[sk-data-tooltip] {  position: relative;  cursor: pointer;}[sk-data-tooltip]:before {  visibility: hidden;  opacity: 0;  font-weight: 400;  position: absolute;  top: 100%;  left: 0;  padding: 0.5em;  overflow: hidden;  background-color: #f0f8ff;  border: 1px solid gray;  white-space: pre;  content: attr(sk-data-tooltip);  text-align: left;}[sk-data-tooltip]:hover:before {  visibility: visible;  opacity: 1;  z-index: 2;}.sk-top-container {  display: flex;  color: black;  padding-bottom: 2em;}</style></head><body><div class=\"sk-top-container\"><div class=\"sk-container\"><div class=\"sk-serial\"><div class=\"sk-serial-item sk-dashed-wrapped\"><div class=\"sk-label-container\"><div class=\"sk-label\" sk-data-tooltip=\"ColumnTransformer(transformers=[('cat',&#xa;                                 Pipeline(steps=[('impute',&#xa;                                                  SimpleImputer(fill_value='missing',&#xa;                                                                strategy='constant')),&#xa;                                                 ('onehot',&#xa;                                                  OneHotEncoder(handle_unknown='ignore'))]),&#xa;                                 ['gender', 'age_bracket']),&#xa;                                ('num',&#xa;                                 Pipeline(steps=[('impute', SimpleImputer()),&#xa;                                                 ('scale', StandardScaler())]),&#xa;                                 ['age', 'income'])])\">preprocessor</div></div><div class=\"sk-parallel\"><div class=\"sk-parallel-item\"><div class=\"sk-label-container\"><div class=\"sk-label\" sk-data-tooltip=\"['gender', 'age_bracket']\">cat</div></div><div class=\"sk-serial\"><div class=\"sk-serial\"><div class=\"sk-serial-item\"><div class=\"sk-estimator\" sk-data-tooltip=\"SimpleImputer(fill_value='missing', strategy='constant')\">SimpleImputer</div></div><div class=\"sk-serial-item\"><div class=\"sk-estimator\" sk-data-tooltip=\"OneHotEncoder(handle_unknown='ignore')\">OneHotEncoder</div></div></div></div></div><div class=\"sk-parallel-item\"><div class=\"sk-label-container\"><div class=\"sk-label\" sk-data-tooltip=\"['age', 'income']\">num</div></div><div class=\"sk-serial\"><div class=\"sk-serial\"><div class=\"sk-serial-item\"><div class=\"sk-estimator\" sk-data-tooltip=\"SimpleImputer()\">SimpleImputer</div></div><div class=\"sk-serial-item\"><div class=\"sk-estimator\" sk-data-tooltip=\"StandardScaler()\">StandardScaler</div></div></div></div></div></div></div><div class=\"sk-serial-item sk-dashed-wrapped\"><div class=\"sk-label-container\"><div class=\"sk-label\" sk-data-tooltip=\"VotingClassifier(estimators=[('rf', RandomForestClassifier()),&#xa;                             ('mlp', MLPClassifier()),&#xa;                             ('lr', LogisticRegression())])\">clf</div></div><div class=\"sk-parallel\"><div class=\"sk-parallel-item\"><div class=\"sk-label-container\"><div class=\"sk-label\" sk-data-tooltip=\"RandomForestClassifier()\">rf</div></div><div class=\"sk-serial\"><div class=\"sk-serial-item\"><div class=\"sk-estimator\" sk-data-tooltip=\"RandomForestClassifier()\">RandomForestClassifier</div></div></div></div><div class=\"sk-parallel-item\"><div class=\"sk-label-container\"><div class=\"sk-label\" sk-data-tooltip=\"MLPClassifier()\">mlp</div></div><div class=\"sk-serial\"><div class=\"sk-serial-item\"><div class=\"sk-estimator\" sk-data-tooltip=\"MLPClassifier()\">MLPClassifier</div></div></div></div><div class=\"sk-parallel-item\"><div class=\"sk-label-container\"><div class=\"sk-label\" sk-data-tooltip=\"LogisticRegression()\">lr</div></div><div class=\"sk-serial\"><div class=\"sk-serial-item\"><div class=\"sk-estimator\" sk-data-tooltip=\"LogisticRegression()\">LogisticRegression</div></div></div></div></div></div></div></div></div></body></html>"
      ],
      "text/plain": [
       "<IPython.core.display.HTML object>"
      ]
     },
     "execution_count": 8,
     "metadata": {},
     "output_type": "execute_result"
    }
   ],
   "source": [
    "vote_clf = VotingClassifier([\n",
    "    ('rf', RandomForestClassifier()),\n",
    "    ('mlp', MLPClassifier()),\n",
    "    ('lr', LogisticRegression())\n",
    "])\n",
    "\n",
    "pipe3  = Pipeline([\n",
    "    ('preprocessor', preprcoessor),\n",
    "    ('clf', vote_clf)\n",
    "])\n",
    "\n",
    "display_estimator(pipe3)"
   ]
  },
  {
   "cell_type": "markdown",
   "metadata": {},
   "source": [
    "Next, we can do some dimensional reduction with a PCA and a Truncated SVD:"
   ]
  },
  {
   "cell_type": "code",
   "execution_count": 10,
   "metadata": {},
   "outputs": [
    {
     "data": {
      "text/html": [
       "<html><head><style>.sk-estimator {  font-family: monospace;  background-color: #f0f8ff;  padding: 0.5em;  margin: 0.25em 0.25em;  border: 1px dotted black;  border-radius: 0.25em;  text-align: center;}.sk-parallel-item::after {  content: \"\";  width: 100%;  border-bottom: 1px solid gray;  flex-grow: 1;}.sk-serial::before {  content: \"\";  position: absolute;  border-left: 1px solid gray;  top: 2em;  bottom: 0;  left: 50%;}.sk-serial {  display: flex;  flex-direction: column;  align-items: center;  float: left;  background: white;}.sk-parallel {  display: flex;  align-items: stretch;  justify-content: center;}.sk-parallel-item {  display: flex;  flex-direction: column;  position: relative;  background: white;}.sk-parallel-item:first-child::after {  align-self: flex-end;  width: 50%;}.sk-parallel-item:last-child::after {  align-self: flex-start;  width: 50%;}.sk-parallel-item:only-child::after {  width: 0;}.sk-dashed-wrapped {  border: 1px dashed gray;  padding: 0 0.25em 0.25em 0.25em;}.sk-label {  min-width: 70%;  font-family: monospace;  font-weight: bold;  background: white;  display: inline-block;  margin: 0 0.5em;}.sk-label-container {  text-align: center;  border: #f0f8ff solid red;}.sk-serial-item {  margin-bottom: 0.25em;  background: white;}.sk-container {  display: flex;  flex-direction: column;  align-items: flex-start;  position: relative;  float: left;}[sk-data-tooltip] {  position: relative;  cursor: pointer;}[sk-data-tooltip]:before {  visibility: hidden;  opacity: 0;  font-weight: 400;  position: absolute;  top: 100%;  left: 0;  padding: 0.5em;  overflow: hidden;  background-color: #f0f8ff;  border: 1px solid gray;  white-space: pre;  content: attr(sk-data-tooltip);  text-align: left;}[sk-data-tooltip]:hover:before {  visibility: visible;  opacity: 1;  z-index: 2;}.sk-top-container {  display: flex;  color: black;  padding-bottom: 2em;}</style></head><body><div class=\"sk-top-container\"><div class=\"sk-container\"><div class=\"sk-serial\"><div class=\"sk-serial-item sk-dashed-wrapped\"><div class=\"sk-label-container\"><div class=\"sk-label\" sk-data-tooltip=\"ColumnTransformer(transformers=[('cat',&#xa;                                 Pipeline(steps=[('impute',&#xa;                                                  SimpleImputer(fill_value='missing',&#xa;                                                                strategy='constant')),&#xa;                                                 ('onehot',&#xa;                                                  OneHotEncoder(handle_unknown='ignore'))]),&#xa;                                 ['gender', 'age_bracket']),&#xa;                                ('num',&#xa;                                 Pipeline(steps=[('impute', SimpleImputer()),&#xa;                                                 ('scale', StandardScaler())]),&#xa;                                 ['age', 'income'])])\">preprocessor</div></div><div class=\"sk-parallel\"><div class=\"sk-parallel-item\"><div class=\"sk-label-container\"><div class=\"sk-label\" sk-data-tooltip=\"['gender', 'age_bracket']\">cat</div></div><div class=\"sk-serial\"><div class=\"sk-serial\"><div class=\"sk-serial-item\"><div class=\"sk-estimator\" sk-data-tooltip=\"SimpleImputer(fill_value='missing', strategy='constant')\">SimpleImputer</div></div><div class=\"sk-serial-item\"><div class=\"sk-estimator\" sk-data-tooltip=\"OneHotEncoder(handle_unknown='ignore')\">OneHotEncoder</div></div></div></div></div><div class=\"sk-parallel-item\"><div class=\"sk-label-container\"><div class=\"sk-label\" sk-data-tooltip=\"['age', 'income']\">num</div></div><div class=\"sk-serial\"><div class=\"sk-serial\"><div class=\"sk-serial-item\"><div class=\"sk-estimator\" sk-data-tooltip=\"SimpleImputer()\">SimpleImputer</div></div><div class=\"sk-serial-item\"><div class=\"sk-estimator\" sk-data-tooltip=\"StandardScaler()\">StandardScaler</div></div></div></div></div></div></div><div class=\"sk-serial-item sk-dashed-wrapped\"><div class=\"sk-label-container\"><div class=\"sk-label\" sk-data-tooltip=\"FeatureUnion(transformer_list=[('pca', PCA(n_components=1)),&#xa;                               ('svd', TruncatedSVD())])\">dim_reduce</div></div><div class=\"sk-parallel\"><div class=\"sk-parallel-item\"><div class=\"sk-label-container\"><div class=\"sk-label\" sk-data-tooltip=\"PCA(n_components=1)\">pca</div></div><div class=\"sk-serial\"><div class=\"sk-serial-item\"><div class=\"sk-estimator\" sk-data-tooltip=\"PCA(n_components=1)\">PCA</div></div></div></div><div class=\"sk-parallel-item\"><div class=\"sk-label-container\"><div class=\"sk-label\" sk-data-tooltip=\"TruncatedSVD()\">svd</div></div><div class=\"sk-serial\"><div class=\"sk-serial-item\"><div class=\"sk-estimator\" sk-data-tooltip=\"TruncatedSVD()\">TruncatedSVD</div></div></div></div></div></div><div class=\"sk-serial-item sk-dashed-wrapped\"><div class=\"sk-label-container\"><div class=\"sk-label\" sk-data-tooltip=\"VotingClassifier(estimators=[('rf', RandomForestClassifier()),&#xa;                             ('mlp', MLPClassifier()),&#xa;                             ('lr', LogisticRegression())])\">clf</div></div><div class=\"sk-parallel\"><div class=\"sk-parallel-item\"><div class=\"sk-label-container\"><div class=\"sk-label\" sk-data-tooltip=\"RandomForestClassifier()\">rf</div></div><div class=\"sk-serial\"><div class=\"sk-serial-item\"><div class=\"sk-estimator\" sk-data-tooltip=\"RandomForestClassifier()\">RandomForestClassifier</div></div></div></div><div class=\"sk-parallel-item\"><div class=\"sk-label-container\"><div class=\"sk-label\" sk-data-tooltip=\"MLPClassifier()\">mlp</div></div><div class=\"sk-serial\"><div class=\"sk-serial-item\"><div class=\"sk-estimator\" sk-data-tooltip=\"MLPClassifier()\">MLPClassifier</div></div></div></div><div class=\"sk-parallel-item\"><div class=\"sk-label-container\"><div class=\"sk-label\" sk-data-tooltip=\"LogisticRegression()\">lr</div></div><div class=\"sk-serial\"><div class=\"sk-serial-item\"><div class=\"sk-estimator\" sk-data-tooltip=\"LogisticRegression()\">LogisticRegression</div></div></div></div></div></div></div></div></div></body></html>"
      ],
      "text/plain": [
       "<IPython.core.display.HTML object>"
      ]
     },
     "execution_count": 10,
     "metadata": {},
     "output_type": "execute_result"
    }
   ],
   "source": [
    "from sklearn.pipeline import FeatureUnion\n",
    "from sklearn.decomposition import PCA, TruncatedSVD\n",
    "\n",
    "dim_reduce = FeatureUnion([(\"pca\", PCA(n_components=1)),\n",
    "                           (\"svd\", TruncatedSVD(n_components=2))])\n",
    "\n",
    "pipe4 = Pipeline([\n",
    "    ('preprocessor', preprcoessor),\n",
    "    ('dim_reduce', dim_reduce),\n",
    "    ('clf', vote_clf)\n",
    "])\n",
    "\n",
    "display_estimator(pipe4)"
   ]
  }
 ],
 "metadata": {
  "kernelspec": {
   "display_name": "sk-master",
   "language": "python",
   "name": "conda-env-sk-master-py"
  },
  "language_info": {
   "codemirror_mode": {
    "name": "ipython",
    "version": 3
   },
   "file_extension": ".py",
   "mimetype": "text/x-python",
   "name": "python",
   "nbconvert_exporter": "python",
   "pygments_lexer": "ipython3",
   "version": "3.7.3"
  }
 },
 "nbformat": 4,
 "nbformat_minor": 4
}
