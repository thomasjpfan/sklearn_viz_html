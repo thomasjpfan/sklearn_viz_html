{
 "cells": [
  {
   "cell_type": "markdown",
   "metadata": {},
   "source": [
    "# Workflow for Visualizing Esiimators\n",
    "\n",
    "We can build a simple pipeline for classification:"
   ]
  },
  {
   "cell_type": "code",
   "execution_count": 1,
   "metadata": {},
   "outputs": [],
   "source": [
    "from sklearn.pipeline import Pipeline\n",
    "from sklearn.decomposition import PCA\n",
    "from sklearn.linear_model import LogisticRegression\n",
    "from sklearn.model_selection import GridSearchCV"
   ]
  },
  {
   "cell_type": "code",
   "execution_count": 2,
   "metadata": {},
   "outputs": [
    {
     "data": {
      "text/html": [
       "<!DOCTYPE html><html lang=\"en\"><head><title>sklearn-viz</title><style>div.sk-top-container {color: black;background-color: white;}div.sk-toggleable {background-color: white;}label.sk-toggleable__label {cursor: pointer;display: block;width: 100%;margin-bottom: 0;padding: 0.2em 0.3em;box-sizing: border-box;text-align: center;}div.sk-toggleable__content {max-height: 0;max-width: 0;overflow: hidden;text-align: left;background-color: #f0f8ff;}div.sk-toggleable__content pre {margin: 0.2em;color: black;border-radius: 0.25em;background-color: #f0f8ff;}input.sk-toggleable__control:checked~div.sk-toggleable__content {max-height: 200px;max-width: 100%;overflow: auto;}div.sk-estimator input.sk-toggleable__control:checked~label.sk-toggleable__label {background-color: #d4ebff;}div.sk-label input.sk-toggleable__control:checked~label.sk-toggleable__label {background-color: #d4ebff;}input.sk-hidden--visually {border: 0;clip: rect(1px 1px 1px 1px);clip: rect(1px, 1px, 1px, 1px);height: 1px;margin: -1px;overflow: hidden;padding: 0;position: absolute;width: 1px;}div.sk-estimator {font-family: monospace;background-color: #f0f8ff;margin: 0.25em 0.25em;border: 1px dotted black;border-radius: 0.25em;box-sizing: border-box;}div.sk-estimator:hover {background-color: #d4ebff;}div.sk-parallel-item::after {content: \"\";width: 100%;border-bottom: 1px solid gray;flex-grow: 1;}div.sk-label:hover label.sk-toggleable__label {background-color: #d4ebff;}div.sk-serial::before {content: \"\";position: absolute;border-left: 1px solid gray;box-sizing: border-box;top: 2em;bottom: 0;left: 50%;}div.sk-serial {display: flex;flex-direction: column;align-items: center;float: left;background-color: white;}div.sk-serial-item {z-index: 1;}div.sk-parallel {display: flex;align-items: stretch;justify-content: center;background-color: white;}div.sk-parallel-item {display: flex;flex-direction: column;position: relative;background-color: white;}div.sk-parallel-item:first-child::after {align-self: flex-end;width: 50%;}div.sk-parallel-item:last-child::after {align-self: flex-start;width: 50%;}div.sk-parallel-item:only-child::after {width: 0;}div.sk-dashed-wrapped {border: 1px dashed gray;margin: 0 0.2em 0.2em 0.2em;box-sizing: border-box;padding-bottom: 0.2em;background-color: white;}div.sk-label label {font-family: monospace;font-weight: bold;background-color: white;display: inline-block;line-height: 1.2em;}div.sk-label-container {text-align: center;z-index: 1;}div.sk-container {display: flex;flex-direction: column;align-items: flex-start;position: relative;float: left;}</style></head><body><div class=\"sk-top-container\"><div class=\"sk-container\"><div class=\"sk-serial-item\"><div class=\"sk-estimator sk-toggleable\"><input class=\"sk-toggleable__control sk-hidden--visually\" id=\"b23cc456-4c19-4614-b2c8-073bd21b9c94\" type=\"checkbox\" checked><label class=\"sk-toggleable__label\" for=\"b23cc456-4c19-4614-b2c8-073bd21b9c94\">PCA</label><div class=\"sk-toggleable__content\"><pre>PCA(copy=True, iterated_power='auto', n_components=10, random_state=None,\n",
       "    svd_solver='auto', tol=0.0, whiten=False)</pre></div></div></div></div></div></body></html>"
      ],
      "text/plain": [
       "PCA(copy=True, iterated_power='auto', n_components=10, random_state=None,\n",
       "    svd_solver='auto', tol=0.0, whiten=False)"
      ]
     },
     "execution_count": 2,
     "metadata": {},
     "output_type": "execute_result"
    }
   ],
   "source": [
    "pca = PCA(n_components=10)\n",
    "pca"
   ]
  },
  {
   "cell_type": "code",
   "execution_count": 3,
   "metadata": {},
   "outputs": [
    {
     "data": {
      "text/html": [
       "<!DOCTYPE html><html lang=\"en\"><head><title>sklearn-viz</title><style>div.sk-top-container {color: black;background-color: white;}div.sk-toggleable {background-color: white;}label.sk-toggleable__label {cursor: pointer;display: block;width: 100%;margin-bottom: 0;padding: 0.2em 0.3em;box-sizing: border-box;text-align: center;}div.sk-toggleable__content {max-height: 0;max-width: 0;overflow: hidden;text-align: left;background-color: #f0f8ff;}div.sk-toggleable__content pre {margin: 0.2em;color: black;border-radius: 0.25em;background-color: #f0f8ff;}input.sk-toggleable__control:checked~div.sk-toggleable__content {max-height: 200px;max-width: 100%;overflow: auto;}div.sk-estimator input.sk-toggleable__control:checked~label.sk-toggleable__label {background-color: #d4ebff;}div.sk-label input.sk-toggleable__control:checked~label.sk-toggleable__label {background-color: #d4ebff;}input.sk-hidden--visually {border: 0;clip: rect(1px 1px 1px 1px);clip: rect(1px, 1px, 1px, 1px);height: 1px;margin: -1px;overflow: hidden;padding: 0;position: absolute;width: 1px;}div.sk-estimator {font-family: monospace;background-color: #f0f8ff;margin: 0.25em 0.25em;border: 1px dotted black;border-radius: 0.25em;box-sizing: border-box;}div.sk-estimator:hover {background-color: #d4ebff;}div.sk-parallel-item::after {content: \"\";width: 100%;border-bottom: 1px solid gray;flex-grow: 1;}div.sk-label:hover label.sk-toggleable__label {background-color: #d4ebff;}div.sk-serial::before {content: \"\";position: absolute;border-left: 1px solid gray;box-sizing: border-box;top: 2em;bottom: 0;left: 50%;}div.sk-serial {display: flex;flex-direction: column;align-items: center;float: left;background-color: white;}div.sk-serial-item {z-index: 1;}div.sk-parallel {display: flex;align-items: stretch;justify-content: center;background-color: white;}div.sk-parallel-item {display: flex;flex-direction: column;position: relative;background-color: white;}div.sk-parallel-item:first-child::after {align-self: flex-end;width: 50%;}div.sk-parallel-item:last-child::after {align-self: flex-start;width: 50%;}div.sk-parallel-item:only-child::after {width: 0;}div.sk-dashed-wrapped {border: 1px dashed gray;margin: 0 0.2em 0.2em 0.2em;box-sizing: border-box;padding-bottom: 0.2em;background-color: white;}div.sk-label label {font-family: monospace;font-weight: bold;background-color: white;display: inline-block;line-height: 1.2em;}div.sk-label-container {text-align: center;z-index: 1;}div.sk-container {display: flex;flex-direction: column;align-items: flex-start;position: relative;float: left;}</style></head><body><div class=\"sk-top-container\"><div class=\"sk-container\"><div class=\"sk-serial-item sk-dashed-wrapped\"><div class=\"sk-label-container\"><div class=\"sk-label sk-toggleable\"><input class=\"sk-toggleable__control sk-hidden--visually\" id=\"2cad17f5-2bae-40a1-b28d-29b94022fce9\" type=\"checkbox\" ><label class=\"sk-toggleable__label\" for=\"2cad17f5-2bae-40a1-b28d-29b94022fce9\">GridSearchCV</label><div class=\"sk-toggleable__content\"><pre>GridSearchCV(estimator=PCA(n_components=10),\n",
       "             param_grid={'n_components': [1, 2]})</pre></div></div></div><div class=\"sk-parallel\"><div class=\"sk-parallel-item\"><div class=\"sk-serial-item\"><div class=\"sk-estimator sk-toggleable\"><input class=\"sk-toggleable__control sk-hidden--visually\" id=\"82e30e65-b6a5-4a28-a04a-9277c31c16ef\" type=\"checkbox\" ><label class=\"sk-toggleable__label\" for=\"82e30e65-b6a5-4a28-a04a-9277c31c16ef\">PCA</label><div class=\"sk-toggleable__content\"><pre>PCA(n_components=10)</pre></div></div></div></div></div></div></div></div></body></html>"
      ],
      "text/plain": [
       "GridSearchCV(cv=None, error_score=nan,\n",
       "             estimator=PCA(copy=True, iterated_power='auto', n_components=10,\n",
       "                           random_state=None, svd_solver='auto', tol=0.0,\n",
       "                           whiten=False),\n",
       "             iid='deprecated', n_jobs=None, param_grid={'n_components': [1, 2]},\n",
       "             pre_dispatch='2*n_jobs', refit=True, return_train_score=False,\n",
       "             scoring=None, verbose=0)"
      ]
     },
     "execution_count": 3,
     "metadata": {},
     "output_type": "execute_result"
    }
   ],
   "source": [
    "grid = GridSearchCV(pca, {'n_components': [1, 2]})\n",
    "grid"
   ]
  },
  {
   "cell_type": "code",
   "execution_count": 4,
   "metadata": {},
   "outputs": [
    {
     "name": "stdout",
     "output_type": "stream",
     "text": [
      "GridSearchCV(cv=None, error_score=nan,\n",
      "             estimator=PCA(copy=True, iterated_power='auto', n_components=10,\n",
      "                           random_state=None, svd_solver='auto', tol=0.0,\n",
      "                           whiten=False),\n",
      "             iid='deprecated', n_jobs=None, param_grid={'n_components': [1, 2]},\n",
      "             pre_dispatch='2*n_jobs', refit=True, return_train_score=False,\n",
      "             scoring=None, verbose=0)\n"
     ]
    }
   ],
   "source": [
    "print(grid.__repr__())"
   ]
  },
  {
   "cell_type": "code",
   "execution_count": 5,
   "metadata": {},
   "outputs": [
    {
     "data": {
      "text/html": [
       "<!DOCTYPE html><html lang=\"en\"><head><title>sklearn-viz</title><style>div.sk-top-container {color: black;background-color: white;}div.sk-toggleable {background-color: white;}label.sk-toggleable__label {cursor: pointer;display: block;width: 100%;margin-bottom: 0;padding: 0.2em 0.3em;box-sizing: border-box;text-align: center;}div.sk-toggleable__content {max-height: 0;max-width: 0;overflow: hidden;text-align: left;background-color: #f0f8ff;}div.sk-toggleable__content pre {margin: 0.2em;color: black;border-radius: 0.25em;background-color: #f0f8ff;}input.sk-toggleable__control:checked~div.sk-toggleable__content {max-height: 200px;max-width: 100%;overflow: auto;}div.sk-estimator input.sk-toggleable__control:checked~label.sk-toggleable__label {background-color: #d4ebff;}div.sk-label input.sk-toggleable__control:checked~label.sk-toggleable__label {background-color: #d4ebff;}input.sk-hidden--visually {border: 0;clip: rect(1px 1px 1px 1px);clip: rect(1px, 1px, 1px, 1px);height: 1px;margin: -1px;overflow: hidden;padding: 0;position: absolute;width: 1px;}div.sk-estimator {font-family: monospace;background-color: #f0f8ff;margin: 0.25em 0.25em;border: 1px dotted black;border-radius: 0.25em;box-sizing: border-box;}div.sk-estimator:hover {background-color: #d4ebff;}div.sk-parallel-item::after {content: \"\";width: 100%;border-bottom: 1px solid gray;flex-grow: 1;}div.sk-label:hover label.sk-toggleable__label {background-color: #d4ebff;}div.sk-serial::before {content: \"\";position: absolute;border-left: 1px solid gray;box-sizing: border-box;top: 2em;bottom: 0;left: 50%;}div.sk-serial {display: flex;flex-direction: column;align-items: center;float: left;background-color: white;}div.sk-serial-item {z-index: 1;}div.sk-parallel {display: flex;align-items: stretch;justify-content: center;background-color: white;}div.sk-parallel-item {display: flex;flex-direction: column;position: relative;background-color: white;}div.sk-parallel-item:first-child::after {align-self: flex-end;width: 50%;}div.sk-parallel-item:last-child::after {align-self: flex-start;width: 50%;}div.sk-parallel-item:only-child::after {width: 0;}div.sk-dashed-wrapped {border: 1px dashed gray;margin: 0 0.2em 0.2em 0.2em;box-sizing: border-box;padding-bottom: 0.2em;background-color: white;}div.sk-label label {font-family: monospace;font-weight: bold;background-color: white;display: inline-block;line-height: 1.2em;}div.sk-label-container {text-align: center;z-index: 1;}div.sk-container {display: flex;flex-direction: column;align-items: flex-start;position: relative;float: left;}</style></head><body><div class=\"sk-top-container\"><div class=\"sk-container\"><div class=\"sk-serial\"><div class=\"sk-serial-item\"><div class=\"sk-estimator sk-toggleable\"><input class=\"sk-toggleable__control sk-hidden--visually\" id=\"5f92b4f3-9367-4a1f-b2c2-6d47114d3dc1\" type=\"checkbox\" ><label class=\"sk-toggleable__label\" for=\"5f92b4f3-9367-4a1f-b2c2-6d47114d3dc1\">PCA</label><div class=\"sk-toggleable__content\"><pre>PCA()</pre></div></div></div><div class=\"sk-serial-item\"><div class=\"sk-estimator sk-toggleable\"><input class=\"sk-toggleable__control sk-hidden--visually\" id=\"4aec650c-a86e-4626-ae14-4a4ccb3a3c5d\" type=\"checkbox\" ><label class=\"sk-toggleable__label\" for=\"4aec650c-a86e-4626-ae14-4a4ccb3a3c5d\">LogisticRegression</label><div class=\"sk-toggleable__content\"><pre>LogisticRegression()</pre></div></div></div></div></div></div></body></html>"
      ],
      "text/plain": [
       "Pipeline(memory=None,\n",
       "         steps=[('pca',\n",
       "                 PCA(copy=True, iterated_power='auto', n_components=None,\n",
       "                     random_state=None, svd_solver='auto', tol=0.0,\n",
       "                     whiten=False)),\n",
       "                ('lr',\n",
       "                 LogisticRegression(C=1.0, class_weight=None, dual=False,\n",
       "                                    fit_intercept=True, intercept_scaling=1,\n",
       "                                    l1_ratio=None, max_iter=100,\n",
       "                                    multi_class='auto', n_jobs=None,\n",
       "                                    penalty='l2', random_state=None,\n",
       "                                    solver='lbfgs', tol=0.0001, verbose=0,\n",
       "                                    warm_start=False))],\n",
       "         verbose=False)"
      ]
     },
     "execution_count": 5,
     "metadata": {},
     "output_type": "execute_result"
    }
   ],
   "source": [
    "pca = PCA()\n",
    "lr = LogisticRegression()\n",
    "pipe1 = Pipeline([\n",
    "    ('pca', PCA()),\n",
    "    ('lr', LogisticRegression())\n",
    "])\n",
    "\n",
    "pipe1"
   ]
  },
  {
   "cell_type": "markdown",
   "metadata": {},
   "source": [
    "To add a column transformer that handles categories and numerical features:"
   ]
  },
  {
   "cell_type": "code",
   "execution_count": 6,
   "metadata": {},
   "outputs": [],
   "source": [
    "from sklearn.compose import ColumnTransformer\n",
    "from sklearn.impute import SimpleImputer\n",
    "from sklearn.preprocessing import OneHotEncoder\n",
    "from sklearn.preprocessing import StandardScaler"
   ]
  },
  {
   "cell_type": "code",
   "execution_count": 7,
   "metadata": {},
   "outputs": [
    {
     "data": {
      "text/html": [
       "<!DOCTYPE html><html lang=\"en\"><head><title>sklearn-viz</title><style>div.sk-top-container {color: black;background-color: white;}div.sk-toggleable {background-color: white;}label.sk-toggleable__label {cursor: pointer;display: block;width: 100%;margin-bottom: 0;padding: 0.2em 0.3em;box-sizing: border-box;text-align: center;}div.sk-toggleable__content {max-height: 0;max-width: 0;overflow: hidden;text-align: left;background-color: #f0f8ff;}div.sk-toggleable__content pre {margin: 0.2em;color: black;border-radius: 0.25em;background-color: #f0f8ff;}input.sk-toggleable__control:checked~div.sk-toggleable__content {max-height: 200px;max-width: 100%;overflow: auto;}div.sk-estimator input.sk-toggleable__control:checked~label.sk-toggleable__label {background-color: #d4ebff;}div.sk-label input.sk-toggleable__control:checked~label.sk-toggleable__label {background-color: #d4ebff;}input.sk-hidden--visually {border: 0;clip: rect(1px 1px 1px 1px);clip: rect(1px, 1px, 1px, 1px);height: 1px;margin: -1px;overflow: hidden;padding: 0;position: absolute;width: 1px;}div.sk-estimator {font-family: monospace;background-color: #f0f8ff;margin: 0.25em 0.25em;border: 1px dotted black;border-radius: 0.25em;box-sizing: border-box;}div.sk-estimator:hover {background-color: #d4ebff;}div.sk-parallel-item::after {content: \"\";width: 100%;border-bottom: 1px solid gray;flex-grow: 1;}div.sk-label:hover label.sk-toggleable__label {background-color: #d4ebff;}div.sk-serial::before {content: \"\";position: absolute;border-left: 1px solid gray;box-sizing: border-box;top: 2em;bottom: 0;left: 50%;}div.sk-serial {display: flex;flex-direction: column;align-items: center;float: left;background-color: white;}div.sk-serial-item {z-index: 1;}div.sk-parallel {display: flex;align-items: stretch;justify-content: center;background-color: white;}div.sk-parallel-item {display: flex;flex-direction: column;position: relative;background-color: white;}div.sk-parallel-item:first-child::after {align-self: flex-end;width: 50%;}div.sk-parallel-item:last-child::after {align-self: flex-start;width: 50%;}div.sk-parallel-item:only-child::after {width: 0;}div.sk-dashed-wrapped {border: 1px dashed gray;margin: 0 0.2em 0.2em 0.2em;box-sizing: border-box;padding-bottom: 0.2em;background-color: white;}div.sk-label label {font-family: monospace;font-weight: bold;background-color: white;display: inline-block;line-height: 1.2em;}div.sk-label-container {text-align: center;z-index: 1;}div.sk-container {display: flex;flex-direction: column;align-items: flex-start;position: relative;float: left;}</style></head><body><div class=\"sk-top-container\"><div class=\"sk-container\"><div class=\"sk-serial-item sk-dashed-wrapped\"><div class=\"sk-label-container\"><div class=\"sk-label sk-toggleable\"><input class=\"sk-toggleable__control sk-hidden--visually\" id=\"70f61868-00a5-435c-a81a-a9c13ddf7556\" type=\"checkbox\" ><label class=\"sk-toggleable__label\" for=\"70f61868-00a5-435c-a81a-a9c13ddf7556\">ColumnTransformer</label><div class=\"sk-toggleable__content\"><pre>ColumnTransformer(transformers=[('cat',\n",
       "                                 Pipeline(steps=[('impute',\n",
       "                                                  SimpleImputer(fill_value='missing',\n",
       "                                                                strategy='constant')),\n",
       "                                                 ('onehot',\n",
       "                                                  OneHotEncoder(handle_unknown='ignore'))]),\n",
       "                                 ['gender', 'age_bracket']),\n",
       "                                ('num',\n",
       "                                 Pipeline(steps=[('impute', SimpleImputer()),\n",
       "                                                 ('scale', StandardScaler())]),\n",
       "                                 ['age', 'income'])])</pre></div></div></div><div class=\"sk-parallel\"><div class=\"sk-parallel-item\"><div class=\"sk-label-container\"><div class=\"sk-label sk-toggleable\"><input class=\"sk-toggleable__control sk-hidden--visually\" id=\"38e45cb5-486f-47e4-aeb5-c2f7d5159509\" type=\"checkbox\" ><label class=\"sk-toggleable__label\" for=\"38e45cb5-486f-47e4-aeb5-c2f7d5159509\">cat</label><div class=\"sk-toggleable__content\"><pre>['gender', 'age_bracket']</pre></div></div></div><div class=\"sk-serial\"><div class=\"sk-serial\"><div class=\"sk-serial-item\"><div class=\"sk-estimator sk-toggleable\"><input class=\"sk-toggleable__control sk-hidden--visually\" id=\"20e85892-6814-46f5-a207-485947828d3f\" type=\"checkbox\" ><label class=\"sk-toggleable__label\" for=\"20e85892-6814-46f5-a207-485947828d3f\">SimpleImputer</label><div class=\"sk-toggleable__content\"><pre>SimpleImputer(fill_value='missing', strategy='constant')</pre></div></div></div><div class=\"sk-serial-item\"><div class=\"sk-estimator sk-toggleable\"><input class=\"sk-toggleable__control sk-hidden--visually\" id=\"bf2b31bd-56a7-4ac5-86ef-1e30abd5aa6c\" type=\"checkbox\" ><label class=\"sk-toggleable__label\" for=\"bf2b31bd-56a7-4ac5-86ef-1e30abd5aa6c\">OneHotEncoder</label><div class=\"sk-toggleable__content\"><pre>OneHotEncoder(handle_unknown='ignore')</pre></div></div></div></div></div></div><div class=\"sk-parallel-item\"><div class=\"sk-label-container\"><div class=\"sk-label sk-toggleable\"><input class=\"sk-toggleable__control sk-hidden--visually\" id=\"fa328e5a-d2a8-424c-a594-2bc7f772c920\" type=\"checkbox\" ><label class=\"sk-toggleable__label\" for=\"fa328e5a-d2a8-424c-a594-2bc7f772c920\">num</label><div class=\"sk-toggleable__content\"><pre>['age', 'income']</pre></div></div></div><div class=\"sk-serial\"><div class=\"sk-serial\"><div class=\"sk-serial-item\"><div class=\"sk-estimator sk-toggleable\"><input class=\"sk-toggleable__control sk-hidden--visually\" id=\"71c32f4c-1d66-4c1a-b740-4f17b7edaf34\" type=\"checkbox\" ><label class=\"sk-toggleable__label\" for=\"71c32f4c-1d66-4c1a-b740-4f17b7edaf34\">SimpleImputer</label><div class=\"sk-toggleable__content\"><pre>SimpleImputer()</pre></div></div></div><div class=\"sk-serial-item\"><div class=\"sk-estimator sk-toggleable\"><input class=\"sk-toggleable__control sk-hidden--visually\" id=\"6248ed49-ee62-47e8-8a95-c09688de292f\" type=\"checkbox\" ><label class=\"sk-toggleable__label\" for=\"6248ed49-ee62-47e8-8a95-c09688de292f\">StandardScaler</label><div class=\"sk-toggleable__content\"><pre>StandardScaler()</pre></div></div></div></div></div></div></div></div></div></div></body></html>"
      ],
      "text/plain": [
       "ColumnTransformer(n_jobs=None, remainder='drop', sparse_threshold=0.3,\n",
       "                  transformer_weights=None,\n",
       "                  transformers=[('cat',\n",
       "                                 Pipeline(memory=None,\n",
       "                                          steps=[('impute',\n",
       "                                                  SimpleImputer(add_indicator=False,\n",
       "                                                                copy=True,\n",
       "                                                                fill_value='missing',\n",
       "                                                                missing_values=nan,\n",
       "                                                                strategy='constant',\n",
       "                                                                verbose=0)),\n",
       "                                                 ('onehot',\n",
       "                                                  OneHotEncoder(categories='auto',\n",
       "                                                                drop=None,\n",
       "                                                                dtype=<class 'numpy.float64'>,\n",
       "                                                                handle_unknown='ignore',\n",
       "                                                                sparse=True))],\n",
       "                                          verbose=False),\n",
       "                                 ['gender', 'age_bracket']),\n",
       "                                ('num',\n",
       "                                 Pipeline(memory=None,\n",
       "                                          steps=[('impute',\n",
       "                                                  SimpleImputer(add_indicator=False,\n",
       "                                                                copy=True,\n",
       "                                                                fill_value=None,\n",
       "                                                                missing_values=nan,\n",
       "                                                                strategy='mean',\n",
       "                                                                verbose=0)),\n",
       "                                                 ('scale',\n",
       "                                                  StandardScaler(copy=True,\n",
       "                                                                 with_mean=True,\n",
       "                                                                 with_std=True))],\n",
       "                                          verbose=False),\n",
       "                                 ['age', 'income'])],\n",
       "                  verbose=False)"
      ]
     },
     "execution_count": 7,
     "metadata": {},
     "output_type": "execute_result"
    }
   ],
   "source": [
    "cat_pipe = Pipeline([\n",
    "    ('impute', SimpleImputer(strategy='constant', fill_value='missing')),\n",
    "    ('onehot', OneHotEncoder(handle_unknown='ignore'))\n",
    "])\n",
    "\n",
    "num_pipe = Pipeline([\n",
    "    ('impute', SimpleImputer()),\n",
    "    ('scale', StandardScaler())\n",
    "])\n",
    "\n",
    "preprcoessor = ColumnTransformer([\n",
    "    ('cat', cat_pipe, ['gender', 'age_bracket']),\n",
    "    ('num', num_pipe, ['age', 'income'])\n",
    "])\n",
    "\n",
    "preprcoessor"
   ]
  },
  {
   "cell_type": "markdown",
   "metadata": {},
   "source": [
    "Next, we can attached a classifier to this preprocessor:"
   ]
  },
  {
   "cell_type": "code",
   "execution_count": 8,
   "metadata": {},
   "outputs": [
    {
     "data": {
      "text/html": [
       "<!DOCTYPE html><html lang=\"en\"><head><title>sklearn-viz</title><style>div.sk-top-container {color: black;background-color: white;}div.sk-toggleable {background-color: white;}label.sk-toggleable__label {cursor: pointer;display: block;width: 100%;margin-bottom: 0;padding: 0.2em 0.3em;box-sizing: border-box;text-align: center;}div.sk-toggleable__content {max-height: 0;max-width: 0;overflow: hidden;text-align: left;background-color: #f0f8ff;}div.sk-toggleable__content pre {margin: 0.2em;color: black;border-radius: 0.25em;background-color: #f0f8ff;}input.sk-toggleable__control:checked~div.sk-toggleable__content {max-height: 200px;max-width: 100%;overflow: auto;}div.sk-estimator input.sk-toggleable__control:checked~label.sk-toggleable__label {background-color: #d4ebff;}div.sk-label input.sk-toggleable__control:checked~label.sk-toggleable__label {background-color: #d4ebff;}input.sk-hidden--visually {border: 0;clip: rect(1px 1px 1px 1px);clip: rect(1px, 1px, 1px, 1px);height: 1px;margin: -1px;overflow: hidden;padding: 0;position: absolute;width: 1px;}div.sk-estimator {font-family: monospace;background-color: #f0f8ff;margin: 0.25em 0.25em;border: 1px dotted black;border-radius: 0.25em;box-sizing: border-box;}div.sk-estimator:hover {background-color: #d4ebff;}div.sk-parallel-item::after {content: \"\";width: 100%;border-bottom: 1px solid gray;flex-grow: 1;}div.sk-label:hover label.sk-toggleable__label {background-color: #d4ebff;}div.sk-serial::before {content: \"\";position: absolute;border-left: 1px solid gray;box-sizing: border-box;top: 2em;bottom: 0;left: 50%;}div.sk-serial {display: flex;flex-direction: column;align-items: center;float: left;background-color: white;}div.sk-serial-item {z-index: 1;}div.sk-parallel {display: flex;align-items: stretch;justify-content: center;background-color: white;}div.sk-parallel-item {display: flex;flex-direction: column;position: relative;background-color: white;}div.sk-parallel-item:first-child::after {align-self: flex-end;width: 50%;}div.sk-parallel-item:last-child::after {align-self: flex-start;width: 50%;}div.sk-parallel-item:only-child::after {width: 0;}div.sk-dashed-wrapped {border: 1px dashed gray;margin: 0 0.2em 0.2em 0.2em;box-sizing: border-box;padding-bottom: 0.2em;background-color: white;}div.sk-label label {font-family: monospace;font-weight: bold;background-color: white;display: inline-block;line-height: 1.2em;}div.sk-label-container {text-align: center;z-index: 1;}div.sk-container {display: flex;flex-direction: column;align-items: flex-start;position: relative;float: left;}</style></head><body><div class=\"sk-top-container\"><div class=\"sk-container\"><div class=\"sk-serial\"><div class=\"sk-serial-item sk-dashed-wrapped\"><div class=\"sk-label-container\"><div class=\"sk-label sk-toggleable\"><input class=\"sk-toggleable__control sk-hidden--visually\" id=\"431f22c5-79ba-47f6-839f-dcbbaaa5287a\" type=\"checkbox\" ><label class=\"sk-toggleable__label\" for=\"431f22c5-79ba-47f6-839f-dcbbaaa5287a\">preprocessor</label><div class=\"sk-toggleable__content\"><pre>ColumnTransformer(transformers=[('cat',\n",
       "                                 Pipeline(steps=[('impute',\n",
       "                                                  SimpleImputer(fill_value='missing',\n",
       "                                                                strategy='constant')),\n",
       "                                                 ('onehot',\n",
       "                                                  OneHotEncoder(handle_unknown='ignore'))]),\n",
       "                                 ['gender', 'age_bracket']),\n",
       "                                ('num',\n",
       "                                 Pipeline(steps=[('impute', SimpleImputer()),\n",
       "                                                 ('scale', StandardScaler())]),\n",
       "                                 ['age', 'income'])])</pre></div></div></div><div class=\"sk-parallel\"><div class=\"sk-parallel-item\"><div class=\"sk-label-container\"><div class=\"sk-label sk-toggleable\"><input class=\"sk-toggleable__control sk-hidden--visually\" id=\"bb31f319-868b-4176-8dc1-284997c7a568\" type=\"checkbox\" ><label class=\"sk-toggleable__label\" for=\"bb31f319-868b-4176-8dc1-284997c7a568\">cat</label><div class=\"sk-toggleable__content\"><pre>['gender', 'age_bracket']</pre></div></div></div><div class=\"sk-serial\"><div class=\"sk-serial\"><div class=\"sk-serial-item\"><div class=\"sk-estimator sk-toggleable\"><input class=\"sk-toggleable__control sk-hidden--visually\" id=\"c6da0976-51ec-417a-8e1d-0313d1b30dd0\" type=\"checkbox\" ><label class=\"sk-toggleable__label\" for=\"c6da0976-51ec-417a-8e1d-0313d1b30dd0\">SimpleImputer</label><div class=\"sk-toggleable__content\"><pre>SimpleImputer(fill_value='missing', strategy='constant')</pre></div></div></div><div class=\"sk-serial-item\"><div class=\"sk-estimator sk-toggleable\"><input class=\"sk-toggleable__control sk-hidden--visually\" id=\"1c2f87d3-8d26-4ccf-852f-bda541dd3599\" type=\"checkbox\" ><label class=\"sk-toggleable__label\" for=\"1c2f87d3-8d26-4ccf-852f-bda541dd3599\">OneHotEncoder</label><div class=\"sk-toggleable__content\"><pre>OneHotEncoder(handle_unknown='ignore')</pre></div></div></div></div></div></div><div class=\"sk-parallel-item\"><div class=\"sk-label-container\"><div class=\"sk-label sk-toggleable\"><input class=\"sk-toggleable__control sk-hidden--visually\" id=\"e3a57cf9-f84f-4c91-9d88-a7331a67c5eb\" type=\"checkbox\" ><label class=\"sk-toggleable__label\" for=\"e3a57cf9-f84f-4c91-9d88-a7331a67c5eb\">num</label><div class=\"sk-toggleable__content\"><pre>['age', 'income']</pre></div></div></div><div class=\"sk-serial\"><div class=\"sk-serial\"><div class=\"sk-serial-item\"><div class=\"sk-estimator sk-toggleable\"><input class=\"sk-toggleable__control sk-hidden--visually\" id=\"fdad6a80-d564-4d90-9fa0-5099cc2cb687\" type=\"checkbox\" ><label class=\"sk-toggleable__label\" for=\"fdad6a80-d564-4d90-9fa0-5099cc2cb687\">SimpleImputer</label><div class=\"sk-toggleable__content\"><pre>SimpleImputer()</pre></div></div></div><div class=\"sk-serial-item\"><div class=\"sk-estimator sk-toggleable\"><input class=\"sk-toggleable__control sk-hidden--visually\" id=\"795c952c-dbe4-4d7f-941a-77e1e0b8650a\" type=\"checkbox\" ><label class=\"sk-toggleable__label\" for=\"795c952c-dbe4-4d7f-941a-77e1e0b8650a\">StandardScaler</label><div class=\"sk-toggleable__content\"><pre>StandardScaler()</pre></div></div></div></div></div></div></div></div><div class=\"sk-serial-item sk-dashed-wrapped\"><div class=\"sk-label-container\"><div class=\"sk-label sk-toggleable\"><input class=\"sk-toggleable__control sk-hidden--visually\" id=\"6ae0c02b-3623-46af-97f4-6982ff1df366\" type=\"checkbox\" ><label class=\"sk-toggleable__label\" for=\"6ae0c02b-3623-46af-97f4-6982ff1df366\">preprocessor2</label><div class=\"sk-toggleable__content\"><pre>ColumnTransformer(transformers=[('cat',\n",
       "                                 Pipeline(steps=[('impute',\n",
       "                                                  SimpleImputer(fill_value='missing',\n",
       "                                                                strategy='constant')),\n",
       "                                                 ('onehot',\n",
       "                                                  OneHotEncoder(handle_unknown='ignore'))]),\n",
       "                                 ['gender', 'age_bracket']),\n",
       "                                ('num',\n",
       "                                 Pipeline(steps=[('impute', SimpleImputer()),\n",
       "                                                 ('scale', StandardScaler())]),\n",
       "                                 ['age', 'income'])])</pre></div></div></div><div class=\"sk-parallel\"><div class=\"sk-parallel-item\"><div class=\"sk-label-container\"><div class=\"sk-label sk-toggleable\"><input class=\"sk-toggleable__control sk-hidden--visually\" id=\"c2cd0285-0b4b-4590-b0b2-419288b051fa\" type=\"checkbox\" ><label class=\"sk-toggleable__label\" for=\"c2cd0285-0b4b-4590-b0b2-419288b051fa\">cat</label><div class=\"sk-toggleable__content\"><pre>['gender', 'age_bracket']</pre></div></div></div><div class=\"sk-serial\"><div class=\"sk-serial\"><div class=\"sk-serial-item\"><div class=\"sk-estimator sk-toggleable\"><input class=\"sk-toggleable__control sk-hidden--visually\" id=\"6d39dfc3-d9f7-451c-8845-671c5a9bfccf\" type=\"checkbox\" ><label class=\"sk-toggleable__label\" for=\"6d39dfc3-d9f7-451c-8845-671c5a9bfccf\">SimpleImputer</label><div class=\"sk-toggleable__content\"><pre>SimpleImputer(fill_value='missing', strategy='constant')</pre></div></div></div><div class=\"sk-serial-item\"><div class=\"sk-estimator sk-toggleable\"><input class=\"sk-toggleable__control sk-hidden--visually\" id=\"831df86c-d782-4df0-b7bf-7715253459c2\" type=\"checkbox\" ><label class=\"sk-toggleable__label\" for=\"831df86c-d782-4df0-b7bf-7715253459c2\">OneHotEncoder</label><div class=\"sk-toggleable__content\"><pre>OneHotEncoder(handle_unknown='ignore')</pre></div></div></div></div></div></div><div class=\"sk-parallel-item\"><div class=\"sk-label-container\"><div class=\"sk-label sk-toggleable\"><input class=\"sk-toggleable__control sk-hidden--visually\" id=\"35304776-d9f9-4293-a0c2-b733704c8e49\" type=\"checkbox\" ><label class=\"sk-toggleable__label\" for=\"35304776-d9f9-4293-a0c2-b733704c8e49\">num</label><div class=\"sk-toggleable__content\"><pre>['age', 'income']</pre></div></div></div><div class=\"sk-serial\"><div class=\"sk-serial\"><div class=\"sk-serial-item\"><div class=\"sk-estimator sk-toggleable\"><input class=\"sk-toggleable__control sk-hidden--visually\" id=\"d7a26ada-16a9-46c4-a25b-19b8acf1e9bd\" type=\"checkbox\" ><label class=\"sk-toggleable__label\" for=\"d7a26ada-16a9-46c4-a25b-19b8acf1e9bd\">SimpleImputer</label><div class=\"sk-toggleable__content\"><pre>SimpleImputer()</pre></div></div></div><div class=\"sk-serial-item\"><div class=\"sk-estimator sk-toggleable\"><input class=\"sk-toggleable__control sk-hidden--visually\" id=\"2f223ec1-71b6-4016-a146-6fddff74931e\" type=\"checkbox\" ><label class=\"sk-toggleable__label\" for=\"2f223ec1-71b6-4016-a146-6fddff74931e\">StandardScaler</label><div class=\"sk-toggleable__content\"><pre>StandardScaler()</pre></div></div></div></div></div></div></div></div><div class=\"sk-serial-item\"><div class=\"sk-estimator sk-toggleable\"><input class=\"sk-toggleable__control sk-hidden--visually\" id=\"740f3c97-f604-4721-bfaa-98b25079b53d\" type=\"checkbox\" ><label class=\"sk-toggleable__label\" for=\"740f3c97-f604-4721-bfaa-98b25079b53d\">LogisticRegression</label><div class=\"sk-toggleable__content\"><pre>LogisticRegression()</pre></div></div></div></div></div></div></body></html>"
      ],
      "text/plain": [
       "Pipeline(memory=None,\n",
       "         steps=[('preprocessor',\n",
       "                 ColumnTransformer(n_jobs=None, remainder='drop',\n",
       "                                   sparse_threshold=0.3,\n",
       "                                   transformer_weights=None,\n",
       "                                   transformers=[('cat',\n",
       "                                                  Pipeline(memory=None,\n",
       "                                                           steps=[('impute',\n",
       "                                                                   SimpleImputer(add_indicator=False,\n",
       "                                                                                 copy=True,\n",
       "                                                                                 fill_value='missing',\n",
       "                                                                                 missing_values=nan,\n",
       "                                                                                 strategy='constant',\n",
       "                                                                                 verbose=0)),\n",
       "                                                                  ('onehot',\n",
       "                                                                   OneHotEncoder(categories='au...\n",
       "                                                                   StandardScaler(copy=True,\n",
       "                                                                                  with_mean=True,\n",
       "                                                                                  with_std=True))],\n",
       "                                                           verbose=False),\n",
       "                                                  ['age', 'income'])],\n",
       "                                   verbose=False)),\n",
       "                ('lr',\n",
       "                 LogisticRegression(C=1.0, class_weight=None, dual=False,\n",
       "                                    fit_intercept=True, intercept_scaling=1,\n",
       "                                    l1_ratio=None, max_iter=100,\n",
       "                                    multi_class='auto', n_jobs=None,\n",
       "                                    penalty='l2', random_state=None,\n",
       "                                    solver='lbfgs', tol=0.0001, verbose=0,\n",
       "                                    warm_start=False))],\n",
       "         verbose=False)"
      ]
     },
     "execution_count": 8,
     "metadata": {},
     "output_type": "execute_result"
    }
   ],
   "source": [
    "pipe2 = Pipeline([\n",
    "    ('preprocessor', preprcoessor),\n",
    "    ('preprocessor2', preprcoessor),\n",
    "    ('lr', lr)\n",
    "])\n",
    "\n",
    "pipe2"
   ]
  },
  {
   "cell_type": "markdown",
   "metadata": {},
   "source": [
    "We can build a more complicated classifier at the end:"
   ]
  },
  {
   "cell_type": "code",
   "execution_count": 9,
   "metadata": {},
   "outputs": [],
   "source": [
    "from sklearn.ensemble import VotingClassifier\n",
    "from sklearn.ensemble import RandomForestClassifier\n",
    "from sklearn.neural_network import MLPClassifier"
   ]
  },
  {
   "cell_type": "code",
   "execution_count": 10,
   "metadata": {},
   "outputs": [
    {
     "data": {
      "text/html": [
       "<!DOCTYPE html><html lang=\"en\"><head><title>sklearn-viz</title><style>div.sk-top-container {color: black;background-color: white;}div.sk-toggleable {background-color: white;}label.sk-toggleable__label {cursor: pointer;display: block;width: 100%;margin-bottom: 0;padding: 0.2em 0.3em;box-sizing: border-box;text-align: center;}div.sk-toggleable__content {max-height: 0;max-width: 0;overflow: hidden;text-align: left;background-color: #f0f8ff;}div.sk-toggleable__content pre {margin: 0.2em;color: black;border-radius: 0.25em;background-color: #f0f8ff;}input.sk-toggleable__control:checked~div.sk-toggleable__content {max-height: 200px;max-width: 100%;overflow: auto;}div.sk-estimator input.sk-toggleable__control:checked~label.sk-toggleable__label {background-color: #d4ebff;}div.sk-label input.sk-toggleable__control:checked~label.sk-toggleable__label {background-color: #d4ebff;}input.sk-hidden--visually {border: 0;clip: rect(1px 1px 1px 1px);clip: rect(1px, 1px, 1px, 1px);height: 1px;margin: -1px;overflow: hidden;padding: 0;position: absolute;width: 1px;}div.sk-estimator {font-family: monospace;background-color: #f0f8ff;margin: 0.25em 0.25em;border: 1px dotted black;border-radius: 0.25em;box-sizing: border-box;}div.sk-estimator:hover {background-color: #d4ebff;}div.sk-parallel-item::after {content: \"\";width: 100%;border-bottom: 1px solid gray;flex-grow: 1;}div.sk-label:hover label.sk-toggleable__label {background-color: #d4ebff;}div.sk-serial::before {content: \"\";position: absolute;border-left: 1px solid gray;box-sizing: border-box;top: 2em;bottom: 0;left: 50%;}div.sk-serial {display: flex;flex-direction: column;align-items: center;float: left;background-color: white;}div.sk-serial-item {z-index: 1;}div.sk-parallel {display: flex;align-items: stretch;justify-content: center;background-color: white;}div.sk-parallel-item {display: flex;flex-direction: column;position: relative;background-color: white;}div.sk-parallel-item:first-child::after {align-self: flex-end;width: 50%;}div.sk-parallel-item:last-child::after {align-self: flex-start;width: 50%;}div.sk-parallel-item:only-child::after {width: 0;}div.sk-dashed-wrapped {border: 1px dashed gray;margin: 0 0.2em 0.2em 0.2em;box-sizing: border-box;padding-bottom: 0.2em;background-color: white;}div.sk-label label {font-family: monospace;font-weight: bold;background-color: white;display: inline-block;line-height: 1.2em;}div.sk-label-container {text-align: center;z-index: 1;}div.sk-container {display: flex;flex-direction: column;align-items: flex-start;position: relative;float: left;}</style></head><body><div class=\"sk-top-container\"><div class=\"sk-container\"><div class=\"sk-serial\"><div class=\"sk-serial-item sk-dashed-wrapped\"><div class=\"sk-label-container\"><div class=\"sk-label sk-toggleable\"><input class=\"sk-toggleable__control sk-hidden--visually\" id=\"df0cb759-0593-4d28-aae2-506abbc3f223\" type=\"checkbox\" ><label class=\"sk-toggleable__label\" for=\"df0cb759-0593-4d28-aae2-506abbc3f223\">preprocessor</label><div class=\"sk-toggleable__content\"><pre>ColumnTransformer(transformers=[('cat',\n",
       "                                 Pipeline(steps=[('impute',\n",
       "                                                  SimpleImputer(fill_value='missing',\n",
       "                                                                strategy='constant')),\n",
       "                                                 ('onehot',\n",
       "                                                  OneHotEncoder(handle_unknown='ignore'))]),\n",
       "                                 ['gender', 'age_bracket']),\n",
       "                                ('num',\n",
       "                                 Pipeline(steps=[('impute', SimpleImputer()),\n",
       "                                                 ('scale', StandardScaler())]),\n",
       "                                 ['age', 'income'])])</pre></div></div></div><div class=\"sk-parallel\"><div class=\"sk-parallel-item\"><div class=\"sk-label-container\"><div class=\"sk-label sk-toggleable\"><input class=\"sk-toggleable__control sk-hidden--visually\" id=\"ea5e4a7b-f220-4c08-a4af-7b5c5a11caa9\" type=\"checkbox\" ><label class=\"sk-toggleable__label\" for=\"ea5e4a7b-f220-4c08-a4af-7b5c5a11caa9\">cat</label><div class=\"sk-toggleable__content\"><pre>['gender', 'age_bracket']</pre></div></div></div><div class=\"sk-serial\"><div class=\"sk-serial\"><div class=\"sk-serial-item\"><div class=\"sk-estimator sk-toggleable\"><input class=\"sk-toggleable__control sk-hidden--visually\" id=\"47b9716f-60fd-4656-809d-fa1c6e4d8d11\" type=\"checkbox\" ><label class=\"sk-toggleable__label\" for=\"47b9716f-60fd-4656-809d-fa1c6e4d8d11\">SimpleImputer</label><div class=\"sk-toggleable__content\"><pre>SimpleImputer(fill_value='missing', strategy='constant')</pre></div></div></div><div class=\"sk-serial-item\"><div class=\"sk-estimator sk-toggleable\"><input class=\"sk-toggleable__control sk-hidden--visually\" id=\"5332b338-6d4d-4515-974c-20921d5482a1\" type=\"checkbox\" ><label class=\"sk-toggleable__label\" for=\"5332b338-6d4d-4515-974c-20921d5482a1\">OneHotEncoder</label><div class=\"sk-toggleable__content\"><pre>OneHotEncoder(handle_unknown='ignore')</pre></div></div></div></div></div></div><div class=\"sk-parallel-item\"><div class=\"sk-label-container\"><div class=\"sk-label sk-toggleable\"><input class=\"sk-toggleable__control sk-hidden--visually\" id=\"502ceb20-ab7e-4a3e-9e90-a30227b925a1\" type=\"checkbox\" ><label class=\"sk-toggleable__label\" for=\"502ceb20-ab7e-4a3e-9e90-a30227b925a1\">num</label><div class=\"sk-toggleable__content\"><pre>['age', 'income']</pre></div></div></div><div class=\"sk-serial\"><div class=\"sk-serial\"><div class=\"sk-serial-item\"><div class=\"sk-estimator sk-toggleable\"><input class=\"sk-toggleable__control sk-hidden--visually\" id=\"8e6fc1d6-0931-4ae5-986a-e5ef4f6558de\" type=\"checkbox\" ><label class=\"sk-toggleable__label\" for=\"8e6fc1d6-0931-4ae5-986a-e5ef4f6558de\">SimpleImputer</label><div class=\"sk-toggleable__content\"><pre>SimpleImputer()</pre></div></div></div><div class=\"sk-serial-item\"><div class=\"sk-estimator sk-toggleable\"><input class=\"sk-toggleable__control sk-hidden--visually\" id=\"bc314ae8-cc45-464d-a937-cab5c1ab8b85\" type=\"checkbox\" ><label class=\"sk-toggleable__label\" for=\"bc314ae8-cc45-464d-a937-cab5c1ab8b85\">StandardScaler</label><div class=\"sk-toggleable__content\"><pre>StandardScaler()</pre></div></div></div></div></div></div></div></div><div class=\"sk-serial-item sk-dashed-wrapped\"><div class=\"sk-label-container\"><div class=\"sk-label sk-toggleable\"><input class=\"sk-toggleable__control sk-hidden--visually\" id=\"68856875-17c4-4c51-97e4-ac1378e0d87c\" type=\"checkbox\" ><label class=\"sk-toggleable__label\" for=\"68856875-17c4-4c51-97e4-ac1378e0d87c\">clf</label><div class=\"sk-toggleable__content\"><pre>VotingClassifier(estimators=[('rf', RandomForestClassifier()),\n",
       "                             ('mlp', MLPClassifier()),\n",
       "                             ('lr', LogisticRegression())])</pre></div></div></div><div class=\"sk-parallel\"><div class=\"sk-parallel-item\"><div class=\"sk-label-container\"><div class=\"sk-label sk-toggleable\"><label>rf</label></div></div><div class=\"sk-serial\"><div class=\"sk-serial-item\"><div class=\"sk-estimator sk-toggleable\"><input class=\"sk-toggleable__control sk-hidden--visually\" id=\"b61403bc-da7a-464c-ba75-4a122c5d967c\" type=\"checkbox\" ><label class=\"sk-toggleable__label\" for=\"b61403bc-da7a-464c-ba75-4a122c5d967c\">RandomForestClassifier</label><div class=\"sk-toggleable__content\"><pre>RandomForestClassifier()</pre></div></div></div></div></div><div class=\"sk-parallel-item\"><div class=\"sk-label-container\"><div class=\"sk-label sk-toggleable\"><label>mlp</label></div></div><div class=\"sk-serial\"><div class=\"sk-serial-item\"><div class=\"sk-estimator sk-toggleable\"><input class=\"sk-toggleable__control sk-hidden--visually\" id=\"55d7089b-6e66-4327-84bd-357d27bd7135\" type=\"checkbox\" ><label class=\"sk-toggleable__label\" for=\"55d7089b-6e66-4327-84bd-357d27bd7135\">MLPClassifier</label><div class=\"sk-toggleable__content\"><pre>MLPClassifier()</pre></div></div></div></div></div><div class=\"sk-parallel-item\"><div class=\"sk-label-container\"><div class=\"sk-label sk-toggleable\"><label>lr</label></div></div><div class=\"sk-serial\"><div class=\"sk-serial-item\"><div class=\"sk-estimator sk-toggleable\"><input class=\"sk-toggleable__control sk-hidden--visually\" id=\"9ea0c996-1744-492a-b512-7ce661364bbe\" type=\"checkbox\" ><label class=\"sk-toggleable__label\" for=\"9ea0c996-1744-492a-b512-7ce661364bbe\">LogisticRegression</label><div class=\"sk-toggleable__content\"><pre>LogisticRegression()</pre></div></div></div></div></div></div></div></div></div></div></body></html>"
      ],
      "text/plain": [
       "Pipeline(memory=None,\n",
       "         steps=[('preprocessor',\n",
       "                 ColumnTransformer(n_jobs=None, remainder='drop',\n",
       "                                   sparse_threshold=0.3,\n",
       "                                   transformer_weights=None,\n",
       "                                   transformers=[('cat',\n",
       "                                                  Pipeline(memory=None,\n",
       "                                                           steps=[('impute',\n",
       "                                                                   SimpleImputer(add_indicator=False,\n",
       "                                                                                 copy=True,\n",
       "                                                                                 fill_value='missing',\n",
       "                                                                                 missing_values=nan,\n",
       "                                                                                 strategy='constant',\n",
       "                                                                                 verbose=0)),\n",
       "                                                                  ('onehot',\n",
       "                                                                   OneHotEncoder(categories='au...\n",
       "                                                             warm_start=False)),\n",
       "                                              ('lr',\n",
       "                                               LogisticRegression(C=1.0,\n",
       "                                                                  class_weight=None,\n",
       "                                                                  dual=False,\n",
       "                                                                  fit_intercept=True,\n",
       "                                                                  intercept_scaling=1,\n",
       "                                                                  l1_ratio=None,\n",
       "                                                                  max_iter=100,\n",
       "                                                                  multi_class='auto',\n",
       "                                                                  n_jobs=None,\n",
       "                                                                  penalty='l2',\n",
       "                                                                  random_state=None,\n",
       "                                                                  solver='lbfgs',\n",
       "                                                                  tol=0.0001,\n",
       "                                                                  verbose=0,\n",
       "                                                                  warm_start=False))],\n",
       "                                  flatten_transform=True, n_jobs=None,\n",
       "                                  verbose=False, voting='hard',\n",
       "                                  weights=None))],\n",
       "         verbose=False)"
      ]
     },
     "execution_count": 10,
     "metadata": {},
     "output_type": "execute_result"
    }
   ],
   "source": [
    "vote_clf = VotingClassifier([\n",
    "    ('rf', RandomForestClassifier()),\n",
    "    ('mlp', MLPClassifier()),\n",
    "    ('lr', LogisticRegression())\n",
    "])\n",
    "\n",
    "pipe3  = Pipeline([\n",
    "    ('preprocessor', preprcoessor),\n",
    "    ('clf', vote_clf)\n",
    "])\n",
    "\n",
    "pipe3"
   ]
  },
  {
   "cell_type": "markdown",
   "metadata": {},
   "source": [
    "Next, we can do some dimensional reduction with a PCA and a Truncated SVD:"
   ]
  },
  {
   "cell_type": "code",
   "execution_count": 11,
   "metadata": {
    "scrolled": true
   },
   "outputs": [
    {
     "data": {
      "text/html": [
       "<!DOCTYPE html><html lang=\"en\"><head><title>sklearn-viz</title><style>div.sk-top-container {color: black;background-color: white;}div.sk-toggleable {background-color: white;}label.sk-toggleable__label {cursor: pointer;display: block;width: 100%;margin-bottom: 0;padding: 0.2em 0.3em;box-sizing: border-box;text-align: center;}div.sk-toggleable__content {max-height: 0;max-width: 0;overflow: hidden;text-align: left;background-color: #f0f8ff;}div.sk-toggleable__content pre {margin: 0.2em;color: black;border-radius: 0.25em;background-color: #f0f8ff;}input.sk-toggleable__control:checked~div.sk-toggleable__content {max-height: 200px;max-width: 100%;overflow: auto;}div.sk-estimator input.sk-toggleable__control:checked~label.sk-toggleable__label {background-color: #d4ebff;}div.sk-label input.sk-toggleable__control:checked~label.sk-toggleable__label {background-color: #d4ebff;}input.sk-hidden--visually {border: 0;clip: rect(1px 1px 1px 1px);clip: rect(1px, 1px, 1px, 1px);height: 1px;margin: -1px;overflow: hidden;padding: 0;position: absolute;width: 1px;}div.sk-estimator {font-family: monospace;background-color: #f0f8ff;margin: 0.25em 0.25em;border: 1px dotted black;border-radius: 0.25em;box-sizing: border-box;}div.sk-estimator:hover {background-color: #d4ebff;}div.sk-parallel-item::after {content: \"\";width: 100%;border-bottom: 1px solid gray;flex-grow: 1;}div.sk-label:hover label.sk-toggleable__label {background-color: #d4ebff;}div.sk-serial::before {content: \"\";position: absolute;border-left: 1px solid gray;box-sizing: border-box;top: 2em;bottom: 0;left: 50%;}div.sk-serial {display: flex;flex-direction: column;align-items: center;float: left;background-color: white;}div.sk-serial-item {z-index: 1;}div.sk-parallel {display: flex;align-items: stretch;justify-content: center;background-color: white;}div.sk-parallel-item {display: flex;flex-direction: column;position: relative;background-color: white;}div.sk-parallel-item:first-child::after {align-self: flex-end;width: 50%;}div.sk-parallel-item:last-child::after {align-self: flex-start;width: 50%;}div.sk-parallel-item:only-child::after {width: 0;}div.sk-dashed-wrapped {border: 1px dashed gray;margin: 0 0.2em 0.2em 0.2em;box-sizing: border-box;padding-bottom: 0.2em;background-color: white;}div.sk-label label {font-family: monospace;font-weight: bold;background-color: white;display: inline-block;line-height: 1.2em;}div.sk-label-container {text-align: center;z-index: 1;}div.sk-container {display: flex;flex-direction: column;align-items: flex-start;position: relative;float: left;}</style></head><body><div class=\"sk-top-container\"><div class=\"sk-container\"><div class=\"sk-serial\"><div class=\"sk-serial-item sk-dashed-wrapped\"><div class=\"sk-label-container\"><div class=\"sk-label sk-toggleable\"><input class=\"sk-toggleable__control sk-hidden--visually\" id=\"e5d27965-97e0-4644-8e65-5844dca7ee3f\" type=\"checkbox\" ><label class=\"sk-toggleable__label\" for=\"e5d27965-97e0-4644-8e65-5844dca7ee3f\">preprocessor</label><div class=\"sk-toggleable__content\"><pre>ColumnTransformer(transformers=[('cat',\n",
       "                                 Pipeline(steps=[('impute',\n",
       "                                                  SimpleImputer(fill_value='missing',\n",
       "                                                                strategy='constant')),\n",
       "                                                 ('onehot',\n",
       "                                                  OneHotEncoder(handle_unknown='ignore'))]),\n",
       "                                 ['gender', 'age_bracket']),\n",
       "                                ('num',\n",
       "                                 Pipeline(steps=[('impute', SimpleImputer()),\n",
       "                                                 ('scale', StandardScaler())]),\n",
       "                                 ['age', 'income'])])</pre></div></div></div><div class=\"sk-parallel\"><div class=\"sk-parallel-item\"><div class=\"sk-label-container\"><div class=\"sk-label sk-toggleable\"><input class=\"sk-toggleable__control sk-hidden--visually\" id=\"e4a1d9bf-3244-48be-97cc-3ea561721cfa\" type=\"checkbox\" ><label class=\"sk-toggleable__label\" for=\"e4a1d9bf-3244-48be-97cc-3ea561721cfa\">cat</label><div class=\"sk-toggleable__content\"><pre>['gender', 'age_bracket']</pre></div></div></div><div class=\"sk-serial\"><div class=\"sk-serial\"><div class=\"sk-serial-item\"><div class=\"sk-estimator sk-toggleable\"><input class=\"sk-toggleable__control sk-hidden--visually\" id=\"4bb2a4c7-aa53-442b-82c2-525a06a8e205\" type=\"checkbox\" ><label class=\"sk-toggleable__label\" for=\"4bb2a4c7-aa53-442b-82c2-525a06a8e205\">SimpleImputer</label><div class=\"sk-toggleable__content\"><pre>SimpleImputer(fill_value='missing', strategy='constant')</pre></div></div></div><div class=\"sk-serial-item\"><div class=\"sk-estimator sk-toggleable\"><input class=\"sk-toggleable__control sk-hidden--visually\" id=\"f52b39c1-b47a-4c63-a62c-1b1354aab8bd\" type=\"checkbox\" ><label class=\"sk-toggleable__label\" for=\"f52b39c1-b47a-4c63-a62c-1b1354aab8bd\">OneHotEncoder</label><div class=\"sk-toggleable__content\"><pre>OneHotEncoder(handle_unknown='ignore')</pre></div></div></div></div></div></div><div class=\"sk-parallel-item\"><div class=\"sk-label-container\"><div class=\"sk-label sk-toggleable\"><input class=\"sk-toggleable__control sk-hidden--visually\" id=\"6deace63-5947-4a86-940e-edb25b59ad24\" type=\"checkbox\" ><label class=\"sk-toggleable__label\" for=\"6deace63-5947-4a86-940e-edb25b59ad24\">num</label><div class=\"sk-toggleable__content\"><pre>['age', 'income']</pre></div></div></div><div class=\"sk-serial\"><div class=\"sk-serial\"><div class=\"sk-serial-item\"><div class=\"sk-estimator sk-toggleable\"><input class=\"sk-toggleable__control sk-hidden--visually\" id=\"eaefee4d-0e0b-4d80-a41c-3f8c9ed8ab85\" type=\"checkbox\" ><label class=\"sk-toggleable__label\" for=\"eaefee4d-0e0b-4d80-a41c-3f8c9ed8ab85\">SimpleImputer</label><div class=\"sk-toggleable__content\"><pre>SimpleImputer()</pre></div></div></div><div class=\"sk-serial-item\"><div class=\"sk-estimator sk-toggleable\"><input class=\"sk-toggleable__control sk-hidden--visually\" id=\"d5f8af9b-f319-46ef-a2f8-fd991919ded3\" type=\"checkbox\" ><label class=\"sk-toggleable__label\" for=\"d5f8af9b-f319-46ef-a2f8-fd991919ded3\">StandardScaler</label><div class=\"sk-toggleable__content\"><pre>StandardScaler()</pre></div></div></div></div></div></div></div></div><div class=\"sk-serial-item sk-dashed-wrapped\"><div class=\"sk-label-container\"><div class=\"sk-label sk-toggleable\"><input class=\"sk-toggleable__control sk-hidden--visually\" id=\"43968722-6b5a-4a02-b143-dd8707465046\" type=\"checkbox\" ><label class=\"sk-toggleable__label\" for=\"43968722-6b5a-4a02-b143-dd8707465046\">dim_reduce</label><div class=\"sk-toggleable__content\"><pre>FeatureUnion(transformer_list=[('pca', PCA(n_components=1)),\n",
       "                               ('svd', TruncatedSVD())])</pre></div></div></div><div class=\"sk-parallel\"><div class=\"sk-parallel-item\"><div class=\"sk-label-container\"><div class=\"sk-label sk-toggleable\"><label>pca</label></div></div><div class=\"sk-serial\"><div class=\"sk-serial-item\"><div class=\"sk-estimator sk-toggleable\"><input class=\"sk-toggleable__control sk-hidden--visually\" id=\"de9cf004-4180-4499-a298-390e922253dc\" type=\"checkbox\" ><label class=\"sk-toggleable__label\" for=\"de9cf004-4180-4499-a298-390e922253dc\">PCA</label><div class=\"sk-toggleable__content\"><pre>PCA(n_components=1)</pre></div></div></div></div></div><div class=\"sk-parallel-item\"><div class=\"sk-label-container\"><div class=\"sk-label sk-toggleable\"><label>svd</label></div></div><div class=\"sk-serial\"><div class=\"sk-serial-item\"><div class=\"sk-estimator sk-toggleable\"><input class=\"sk-toggleable__control sk-hidden--visually\" id=\"953ff56e-e352-4075-8f02-c557206373bd\" type=\"checkbox\" ><label class=\"sk-toggleable__label\" for=\"953ff56e-e352-4075-8f02-c557206373bd\">TruncatedSVD</label><div class=\"sk-toggleable__content\"><pre>TruncatedSVD()</pre></div></div></div></div></div></div></div><div class=\"sk-serial-item sk-dashed-wrapped\"><div class=\"sk-label-container\"><div class=\"sk-label sk-toggleable\"><input class=\"sk-toggleable__control sk-hidden--visually\" id=\"20d90c4c-b720-4796-bc38-88901dd083a0\" type=\"checkbox\" ><label class=\"sk-toggleable__label\" for=\"20d90c4c-b720-4796-bc38-88901dd083a0\">clf</label><div class=\"sk-toggleable__content\"><pre>VotingClassifier(estimators=[('rf', RandomForestClassifier()),\n",
       "                             ('mlp', MLPClassifier()),\n",
       "                             ('lr', LogisticRegression())])</pre></div></div></div><div class=\"sk-parallel\"><div class=\"sk-parallel-item\"><div class=\"sk-label-container\"><div class=\"sk-label sk-toggleable\"><label>rf</label></div></div><div class=\"sk-serial\"><div class=\"sk-serial-item\"><div class=\"sk-estimator sk-toggleable\"><input class=\"sk-toggleable__control sk-hidden--visually\" id=\"56d7f0bf-34bf-4ded-9c3c-82330ba0cc67\" type=\"checkbox\" ><label class=\"sk-toggleable__label\" for=\"56d7f0bf-34bf-4ded-9c3c-82330ba0cc67\">RandomForestClassifier</label><div class=\"sk-toggleable__content\"><pre>RandomForestClassifier()</pre></div></div></div></div></div><div class=\"sk-parallel-item\"><div class=\"sk-label-container\"><div class=\"sk-label sk-toggleable\"><label>mlp</label></div></div><div class=\"sk-serial\"><div class=\"sk-serial-item\"><div class=\"sk-estimator sk-toggleable\"><input class=\"sk-toggleable__control sk-hidden--visually\" id=\"ffca5bc4-b4a9-44de-a3b1-2e889c2d4603\" type=\"checkbox\" ><label class=\"sk-toggleable__label\" for=\"ffca5bc4-b4a9-44de-a3b1-2e889c2d4603\">MLPClassifier</label><div class=\"sk-toggleable__content\"><pre>MLPClassifier()</pre></div></div></div></div></div><div class=\"sk-parallel-item\"><div class=\"sk-label-container\"><div class=\"sk-label sk-toggleable\"><label>lr</label></div></div><div class=\"sk-serial\"><div class=\"sk-serial-item\"><div class=\"sk-estimator sk-toggleable\"><input class=\"sk-toggleable__control sk-hidden--visually\" id=\"bf279f46-aea4-439a-9910-e13eb6481921\" type=\"checkbox\" ><label class=\"sk-toggleable__label\" for=\"bf279f46-aea4-439a-9910-e13eb6481921\">LogisticRegression</label><div class=\"sk-toggleable__content\"><pre>LogisticRegression()</pre></div></div></div></div></div></div></div></div></div></div></body></html>"
      ],
      "text/plain": [
       "Pipeline(memory=None,\n",
       "         steps=[('preprocessor',\n",
       "                 ColumnTransformer(n_jobs=None, remainder='drop',\n",
       "                                   sparse_threshold=0.3,\n",
       "                                   transformer_weights=None,\n",
       "                                   transformers=[('cat',\n",
       "                                                  Pipeline(memory=None,\n",
       "                                                           steps=[('impute',\n",
       "                                                                   SimpleImputer(add_indicator=False,\n",
       "                                                                                 copy=True,\n",
       "                                                                                 fill_value='missing',\n",
       "                                                                                 missing_values=nan,\n",
       "                                                                                 strategy='constant',\n",
       "                                                                                 verbose=0)),\n",
       "                                                                  ('onehot',\n",
       "                                                                   OneHotEncoder(categories='au...\n",
       "                                                             warm_start=False)),\n",
       "                                              ('lr',\n",
       "                                               LogisticRegression(C=1.0,\n",
       "                                                                  class_weight=None,\n",
       "                                                                  dual=False,\n",
       "                                                                  fit_intercept=True,\n",
       "                                                                  intercept_scaling=1,\n",
       "                                                                  l1_ratio=None,\n",
       "                                                                  max_iter=100,\n",
       "                                                                  multi_class='auto',\n",
       "                                                                  n_jobs=None,\n",
       "                                                                  penalty='l2',\n",
       "                                                                  random_state=None,\n",
       "                                                                  solver='lbfgs',\n",
       "                                                                  tol=0.0001,\n",
       "                                                                  verbose=0,\n",
       "                                                                  warm_start=False))],\n",
       "                                  flatten_transform=True, n_jobs=None,\n",
       "                                  verbose=False, voting='hard',\n",
       "                                  weights=None))],\n",
       "         verbose=False)"
      ]
     },
     "execution_count": 11,
     "metadata": {},
     "output_type": "execute_result"
    }
   ],
   "source": [
    "from sklearn.pipeline import FeatureUnion\n",
    "from sklearn.decomposition import PCA, TruncatedSVD\n",
    "\n",
    "dim_reduce = FeatureUnion([(\"pca\", PCA(n_components=1)),\n",
    "                           (\"svd\", TruncatedSVD(n_components=2))])\n",
    "\n",
    "pipe4 = Pipeline([\n",
    "    ('preprocessor', preprcoessor),\n",
    "    ('dim_reduce', dim_reduce),\n",
    "    ('clf', vote_clf)\n",
    "])\n",
    "\n",
    "pipe4"
   ]
  },
  {
   "cell_type": "code",
   "execution_count": 12,
   "metadata": {},
   "outputs": [
    {
     "data": {
      "text/html": [
       "<!DOCTYPE html><html lang=\"en\"><head><title>sklearn-viz</title><style>div.sk-top-container {color: black;background-color: white;}div.sk-toggleable {background-color: white;}label.sk-toggleable__label {cursor: pointer;display: block;width: 100%;margin-bottom: 0;padding: 0.2em 0.3em;box-sizing: border-box;text-align: center;}div.sk-toggleable__content {max-height: 0;max-width: 0;overflow: hidden;text-align: left;background-color: #f0f8ff;}div.sk-toggleable__content pre {margin: 0.2em;color: black;border-radius: 0.25em;background-color: #f0f8ff;}input.sk-toggleable__control:checked~div.sk-toggleable__content {max-height: 200px;max-width: 100%;overflow: auto;}div.sk-estimator input.sk-toggleable__control:checked~label.sk-toggleable__label {background-color: #d4ebff;}div.sk-label input.sk-toggleable__control:checked~label.sk-toggleable__label {background-color: #d4ebff;}input.sk-hidden--visually {border: 0;clip: rect(1px 1px 1px 1px);clip: rect(1px, 1px, 1px, 1px);height: 1px;margin: -1px;overflow: hidden;padding: 0;position: absolute;width: 1px;}div.sk-estimator {font-family: monospace;background-color: #f0f8ff;margin: 0.25em 0.25em;border: 1px dotted black;border-radius: 0.25em;box-sizing: border-box;}div.sk-estimator:hover {background-color: #d4ebff;}div.sk-parallel-item::after {content: \"\";width: 100%;border-bottom: 1px solid gray;flex-grow: 1;}div.sk-label:hover label.sk-toggleable__label {background-color: #d4ebff;}div.sk-serial::before {content: \"\";position: absolute;border-left: 1px solid gray;box-sizing: border-box;top: 2em;bottom: 0;left: 50%;}div.sk-serial {display: flex;flex-direction: column;align-items: center;float: left;background-color: white;}div.sk-serial-item {z-index: 1;}div.sk-parallel {display: flex;align-items: stretch;justify-content: center;background-color: white;}div.sk-parallel-item {display: flex;flex-direction: column;position: relative;background-color: white;}div.sk-parallel-item:first-child::after {align-self: flex-end;width: 50%;}div.sk-parallel-item:last-child::after {align-self: flex-start;width: 50%;}div.sk-parallel-item:only-child::after {width: 0;}div.sk-dashed-wrapped {border: 1px dashed gray;margin: 0 0.2em 0.2em 0.2em;box-sizing: border-box;padding-bottom: 0.2em;background-color: white;}div.sk-label label {font-family: monospace;font-weight: bold;background-color: white;display: inline-block;line-height: 1.2em;}div.sk-label-container {text-align: center;z-index: 1;}div.sk-container {display: flex;flex-direction: column;align-items: flex-start;position: relative;float: left;}</style></head><body><div class=\"sk-top-container\"><div class=\"sk-container\"><div class=\"sk-serial-item sk-dashed-wrapped\"><div class=\"sk-label-container\"><div class=\"sk-label sk-toggleable\"><input class=\"sk-toggleable__control sk-hidden--visually\" id=\"12b766fd-9c2b-44c0-8abe-efa7ef90f817\" type=\"checkbox\" ><label class=\"sk-toggleable__label\" for=\"12b766fd-9c2b-44c0-8abe-efa7ef90f817\">StackingClassifier</label><div class=\"sk-toggleable__content\"><pre>StackingClassifier(estimators=[('lr', LogisticRegression()),\n",
       "                               ('svc', LinearSVC())])</pre></div></div></div><div class=\"sk-parallel\"><div class=\"sk-parallel-item\"><div class=\"sk-serial\"><div class=\"sk-serial-item sk-dashed-wrapped\"><div class=\"sk-parallel\"><div class=\"sk-parallel-item\"><div class=\"sk-label-container\"><div class=\"sk-label sk-toggleable\"><label>lr</label></div></div><div class=\"sk-serial\"><div class=\"sk-serial-item\"><div class=\"sk-estimator sk-toggleable\"><input class=\"sk-toggleable__control sk-hidden--visually\" id=\"d9b1fb68-33d2-48ce-9681-98ce3c19dd72\" type=\"checkbox\" ><label class=\"sk-toggleable__label\" for=\"d9b1fb68-33d2-48ce-9681-98ce3c19dd72\">LogisticRegression</label><div class=\"sk-toggleable__content\"><pre>LogisticRegression()</pre></div></div></div></div></div><div class=\"sk-parallel-item\"><div class=\"sk-label-container\"><div class=\"sk-label sk-toggleable\"><label>svc</label></div></div><div class=\"sk-serial\"><div class=\"sk-serial-item\"><div class=\"sk-estimator sk-toggleable\"><input class=\"sk-toggleable__control sk-hidden--visually\" id=\"2bb19158-70d4-4133-9b68-7eaa7665d5c7\" type=\"checkbox\" ><label class=\"sk-toggleable__label\" for=\"2bb19158-70d4-4133-9b68-7eaa7665d5c7\">LinearSVC</label><div class=\"sk-toggleable__content\"><pre>LinearSVC()</pre></div></div></div></div></div></div></div><div class=\"sk-serial-item\"><div class=\"sk-estimator sk-toggleable\"><input class=\"sk-toggleable__control sk-hidden--visually\" id=\"d3c1470c-9913-4f76-b3cb-21b79d3cf2f4\" type=\"checkbox\" ><label class=\"sk-toggleable__label\" for=\"d3c1470c-9913-4f76-b3cb-21b79d3cf2f4\">LogisticRegression</label><div class=\"sk-toggleable__content\"><pre>LogisticRegression()</pre></div></div></div></div></div></div></div></div></div></body></html>"
      ],
      "text/plain": [
       "StackingClassifier(cv=None,\n",
       "                   estimators=[('lr',\n",
       "                                LogisticRegression(C=1.0, class_weight=None,\n",
       "                                                   dual=False,\n",
       "                                                   fit_intercept=True,\n",
       "                                                   intercept_scaling=1,\n",
       "                                                   l1_ratio=None, max_iter=100,\n",
       "                                                   multi_class='auto',\n",
       "                                                   n_jobs=None, penalty='l2',\n",
       "                                                   random_state=None,\n",
       "                                                   solver='lbfgs', tol=0.0001,\n",
       "                                                   verbose=0,\n",
       "                                                   warm_start=False)),\n",
       "                               ('svc',\n",
       "                                LinearSVC(C=1.0, class_weight=None, dual=True,\n",
       "                                          fit_intercept=True,\n",
       "                                          intercept_scaling=1,\n",
       "                                          loss='squared_hinge', max_iter=1000,\n",
       "                                          multi_class='ovr', penalty='l2',\n",
       "                                          random_state=None, tol=0.0001,\n",
       "                                          verbose=0))],\n",
       "                   final_estimator=None, n_jobs=None, passthrough=False,\n",
       "                   stack_method='auto', verbose=0)"
      ]
     },
     "execution_count": 12,
     "metadata": {},
     "output_type": "execute_result"
    }
   ],
   "source": [
    "from sklearn.linear_model import LogisticRegression\n",
    "from sklearn.svm import LinearSVC\n",
    "from sklearn.ensemble import StackingClassifier\n",
    "\n",
    "estimators = [('lr', LogisticRegression()), ('svc', LinearSVC())]\n",
    "clf = StackingClassifier(\n",
    "    estimators=estimators, final_estimator=None)\n",
    "clf"
   ]
  },
  {
   "cell_type": "code",
   "execution_count": 13,
   "metadata": {},
   "outputs": [
    {
     "data": {
      "text/html": [
       "<!DOCTYPE html><html lang=\"en\"><head><title>sklearn-viz</title><style>div.sk-top-container {color: black;background-color: white;}div.sk-toggleable {background-color: white;}label.sk-toggleable__label {cursor: pointer;display: block;width: 100%;margin-bottom: 0;padding: 0.2em 0.3em;box-sizing: border-box;text-align: center;}div.sk-toggleable__content {max-height: 0;max-width: 0;overflow: hidden;text-align: left;background-color: #f0f8ff;}div.sk-toggleable__content pre {margin: 0.2em;color: black;border-radius: 0.25em;background-color: #f0f8ff;}input.sk-toggleable__control:checked~div.sk-toggleable__content {max-height: 200px;max-width: 100%;overflow: auto;}div.sk-estimator input.sk-toggleable__control:checked~label.sk-toggleable__label {background-color: #d4ebff;}div.sk-label input.sk-toggleable__control:checked~label.sk-toggleable__label {background-color: #d4ebff;}input.sk-hidden--visually {border: 0;clip: rect(1px 1px 1px 1px);clip: rect(1px, 1px, 1px, 1px);height: 1px;margin: -1px;overflow: hidden;padding: 0;position: absolute;width: 1px;}div.sk-estimator {font-family: monospace;background-color: #f0f8ff;margin: 0.25em 0.25em;border: 1px dotted black;border-radius: 0.25em;box-sizing: border-box;}div.sk-estimator:hover {background-color: #d4ebff;}div.sk-parallel-item::after {content: \"\";width: 100%;border-bottom: 1px solid gray;flex-grow: 1;}div.sk-label:hover label.sk-toggleable__label {background-color: #d4ebff;}div.sk-serial::before {content: \"\";position: absolute;border-left: 1px solid gray;box-sizing: border-box;top: 2em;bottom: 0;left: 50%;}div.sk-serial {display: flex;flex-direction: column;align-items: center;float: left;background-color: white;}div.sk-serial-item {z-index: 1;}div.sk-parallel {display: flex;align-items: stretch;justify-content: center;background-color: white;}div.sk-parallel-item {display: flex;flex-direction: column;position: relative;background-color: white;}div.sk-parallel-item:first-child::after {align-self: flex-end;width: 50%;}div.sk-parallel-item:last-child::after {align-self: flex-start;width: 50%;}div.sk-parallel-item:only-child::after {width: 0;}div.sk-dashed-wrapped {border: 1px dashed gray;margin: 0 0.2em 0.2em 0.2em;box-sizing: border-box;padding-bottom: 0.2em;background-color: white;}div.sk-label label {font-family: monospace;font-weight: bold;background-color: white;display: inline-block;line-height: 1.2em;}div.sk-label-container {text-align: center;z-index: 1;}div.sk-container {display: flex;flex-direction: column;align-items: flex-start;position: relative;float: left;}</style></head><body><div class=\"sk-top-container\"><div class=\"sk-container\"><div class=\"sk-serial\"><div class=\"sk-serial-item sk-dashed-wrapped\"><div class=\"sk-label-container\"><div class=\"sk-label sk-toggleable\"><input class=\"sk-toggleable__control sk-hidden--visually\" id=\"72058c0e-df38-4b80-a276-48878e55c389\" type=\"checkbox\" ><label class=\"sk-toggleable__label\" for=\"72058c0e-df38-4b80-a276-48878e55c389\">preprocessor</label><div class=\"sk-toggleable__content\"><pre>ColumnTransformer(transformers=[('cat',\n",
       "                                 Pipeline(steps=[('impute',\n",
       "                                                  SimpleImputer(fill_value='missing',\n",
       "                                                                strategy='constant')),\n",
       "                                                 ('onehot',\n",
       "                                                  OneHotEncoder(handle_unknown='ignore'))]),\n",
       "                                 ['gender', 'age_bracket']),\n",
       "                                ('num',\n",
       "                                 Pipeline(steps=[('impute', SimpleImputer()),\n",
       "                                                 ('scale', StandardScaler())]),\n",
       "                                 ['age', 'income'])])</pre></div></div></div><div class=\"sk-parallel\"><div class=\"sk-parallel-item\"><div class=\"sk-label-container\"><div class=\"sk-label sk-toggleable\"><input class=\"sk-toggleable__control sk-hidden--visually\" id=\"8153e068-7677-4939-93ea-ef0583231fa7\" type=\"checkbox\" ><label class=\"sk-toggleable__label\" for=\"8153e068-7677-4939-93ea-ef0583231fa7\">cat</label><div class=\"sk-toggleable__content\"><pre>['gender', 'age_bracket']</pre></div></div></div><div class=\"sk-serial\"><div class=\"sk-serial\"><div class=\"sk-serial-item\"><div class=\"sk-estimator sk-toggleable\"><input class=\"sk-toggleable__control sk-hidden--visually\" id=\"ffa67399-3d5b-48f0-89f9-0e2f6b624d07\" type=\"checkbox\" ><label class=\"sk-toggleable__label\" for=\"ffa67399-3d5b-48f0-89f9-0e2f6b624d07\">SimpleImputer</label><div class=\"sk-toggleable__content\"><pre>SimpleImputer(fill_value='missing', strategy='constant')</pre></div></div></div><div class=\"sk-serial-item\"><div class=\"sk-estimator sk-toggleable\"><input class=\"sk-toggleable__control sk-hidden--visually\" id=\"a20d44fd-c075-4120-9ccc-07d3b38689f2\" type=\"checkbox\" ><label class=\"sk-toggleable__label\" for=\"a20d44fd-c075-4120-9ccc-07d3b38689f2\">OneHotEncoder</label><div class=\"sk-toggleable__content\"><pre>OneHotEncoder(handle_unknown='ignore')</pre></div></div></div></div></div></div><div class=\"sk-parallel-item\"><div class=\"sk-label-container\"><div class=\"sk-label sk-toggleable\"><input class=\"sk-toggleable__control sk-hidden--visually\" id=\"31c08d92-4d17-4576-8e33-5e8d77e75127\" type=\"checkbox\" ><label class=\"sk-toggleable__label\" for=\"31c08d92-4d17-4576-8e33-5e8d77e75127\">num</label><div class=\"sk-toggleable__content\"><pre>['age', 'income']</pre></div></div></div><div class=\"sk-serial\"><div class=\"sk-serial\"><div class=\"sk-serial-item\"><div class=\"sk-estimator sk-toggleable\"><input class=\"sk-toggleable__control sk-hidden--visually\" id=\"78951e6d-e821-42f2-8b26-68380fbbe370\" type=\"checkbox\" ><label class=\"sk-toggleable__label\" for=\"78951e6d-e821-42f2-8b26-68380fbbe370\">SimpleImputer</label><div class=\"sk-toggleable__content\"><pre>SimpleImputer()</pre></div></div></div><div class=\"sk-serial-item\"><div class=\"sk-estimator sk-toggleable\"><input class=\"sk-toggleable__control sk-hidden--visually\" id=\"0197ed00-e628-444b-9a6a-fac43fc304f9\" type=\"checkbox\" ><label class=\"sk-toggleable__label\" for=\"0197ed00-e628-444b-9a6a-fac43fc304f9\">StandardScaler</label><div class=\"sk-toggleable__content\"><pre>StandardScaler()</pre></div></div></div></div></div></div></div></div><div class=\"sk-serial-item sk-dashed-wrapped\"><div class=\"sk-label-container\"><div class=\"sk-label sk-toggleable\"><input class=\"sk-toggleable__control sk-hidden--visually\" id=\"3401fa3a-c140-410c-a45b-651109815e87\" type=\"checkbox\" ><label class=\"sk-toggleable__label\" for=\"3401fa3a-c140-410c-a45b-651109815e87\">dim_reduce</label><div class=\"sk-toggleable__content\"><pre>FeatureUnion(transformer_list=[('pca', PCA(n_components=1)),\n",
       "                               ('svd', TruncatedSVD())])</pre></div></div></div><div class=\"sk-parallel\"><div class=\"sk-parallel-item\"><div class=\"sk-label-container\"><div class=\"sk-label sk-toggleable\"><label>pca</label></div></div><div class=\"sk-serial\"><div class=\"sk-serial-item\"><div class=\"sk-estimator sk-toggleable\"><input class=\"sk-toggleable__control sk-hidden--visually\" id=\"0fd5047b-29e6-46fb-aa55-a4279013e814\" type=\"checkbox\" ><label class=\"sk-toggleable__label\" for=\"0fd5047b-29e6-46fb-aa55-a4279013e814\">PCA</label><div class=\"sk-toggleable__content\"><pre>PCA(n_components=1)</pre></div></div></div></div></div><div class=\"sk-parallel-item\"><div class=\"sk-label-container\"><div class=\"sk-label sk-toggleable\"><label>svd</label></div></div><div class=\"sk-serial\"><div class=\"sk-serial-item\"><div class=\"sk-estimator sk-toggleable\"><input class=\"sk-toggleable__control sk-hidden--visually\" id=\"f343c549-5ab3-424f-9690-beb510aa8b5a\" type=\"checkbox\" ><label class=\"sk-toggleable__label\" for=\"f343c549-5ab3-424f-9690-beb510aa8b5a\">TruncatedSVD</label><div class=\"sk-toggleable__content\"><pre>TruncatedSVD()</pre></div></div></div></div></div></div></div><div class=\"sk-serial-item sk-dashed-wrapped\"><div class=\"sk-label-container\"><div class=\"sk-label sk-toggleable\"><input class=\"sk-toggleable__control sk-hidden--visually\" id=\"1f8e13f1-5532-44c4-a31c-89ab9b7eba5f\" type=\"checkbox\" ><label class=\"sk-toggleable__label\" for=\"1f8e13f1-5532-44c4-a31c-89ab9b7eba5f\">stacker</label><div class=\"sk-toggleable__content\"><pre>StackingClassifier(estimators=[('lr', LogisticRegression()),\n",
       "                               ('svc', LinearSVC())])</pre></div></div></div><div class=\"sk-parallel\"><div class=\"sk-parallel-item\"><div class=\"sk-serial\"><div class=\"sk-serial-item sk-dashed-wrapped\"><div class=\"sk-parallel\"><div class=\"sk-parallel-item\"><div class=\"sk-label-container\"><div class=\"sk-label sk-toggleable\"><label>lr</label></div></div><div class=\"sk-serial\"><div class=\"sk-serial-item\"><div class=\"sk-estimator sk-toggleable\"><input class=\"sk-toggleable__control sk-hidden--visually\" id=\"582b20ae-e3d4-46ff-b4e6-671614014724\" type=\"checkbox\" ><label class=\"sk-toggleable__label\" for=\"582b20ae-e3d4-46ff-b4e6-671614014724\">LogisticRegression</label><div class=\"sk-toggleable__content\"><pre>LogisticRegression()</pre></div></div></div></div></div><div class=\"sk-parallel-item\"><div class=\"sk-label-container\"><div class=\"sk-label sk-toggleable\"><label>svc</label></div></div><div class=\"sk-serial\"><div class=\"sk-serial-item\"><div class=\"sk-estimator sk-toggleable\"><input class=\"sk-toggleable__control sk-hidden--visually\" id=\"adae9e16-3fcf-4d12-90a1-05464ef08225\" type=\"checkbox\" ><label class=\"sk-toggleable__label\" for=\"adae9e16-3fcf-4d12-90a1-05464ef08225\">LinearSVC</label><div class=\"sk-toggleable__content\"><pre>LinearSVC()</pre></div></div></div></div></div></div></div><div class=\"sk-serial-item\"><div class=\"sk-estimator sk-toggleable\"><input class=\"sk-toggleable__control sk-hidden--visually\" id=\"b15b2443-77cb-46aa-a964-80c7f7e9e8c5\" type=\"checkbox\" ><label class=\"sk-toggleable__label\" for=\"b15b2443-77cb-46aa-a964-80c7f7e9e8c5\">LogisticRegression</label><div class=\"sk-toggleable__content\"><pre>LogisticRegression()</pre></div></div></div></div></div></div></div></div></div></div></body></html>"
      ],
      "text/plain": [
       "Pipeline(memory=None,\n",
       "         steps=[('preprocessor',\n",
       "                 ColumnTransformer(n_jobs=None, remainder='drop',\n",
       "                                   sparse_threshold=0.3,\n",
       "                                   transformer_weights=None,\n",
       "                                   transformers=[('cat',\n",
       "                                                  Pipeline(memory=None,\n",
       "                                                           steps=[('impute',\n",
       "                                                                   SimpleImputer(add_indicator=False,\n",
       "                                                                                 copy=True,\n",
       "                                                                                 fill_value='missing',\n",
       "                                                                                 missing_values=nan,\n",
       "                                                                                 strategy='constant',\n",
       "                                                                                 verbose=0)),\n",
       "                                                                  ('onehot',\n",
       "                                                                   OneHotEncoder(categories='au...\n",
       "                                                                    solver='lbfgs',\n",
       "                                                                    tol=0.0001,\n",
       "                                                                    verbose=0,\n",
       "                                                                    warm_start=False)),\n",
       "                                                ('svc',\n",
       "                                                 LinearSVC(C=1.0,\n",
       "                                                           class_weight=None,\n",
       "                                                           dual=True,\n",
       "                                                           fit_intercept=True,\n",
       "                                                           intercept_scaling=1,\n",
       "                                                           loss='squared_hinge',\n",
       "                                                           max_iter=1000,\n",
       "                                                           multi_class='ovr',\n",
       "                                                           penalty='l2',\n",
       "                                                           random_state=None,\n",
       "                                                           tol=0.0001,\n",
       "                                                           verbose=0))],\n",
       "                                    final_estimator=None, n_jobs=None,\n",
       "                                    passthrough=False, stack_method='auto',\n",
       "                                    verbose=0))],\n",
       "         verbose=False)"
      ]
     },
     "execution_count": 13,
     "metadata": {},
     "output_type": "execute_result"
    }
   ],
   "source": [
    "pipe5 = Pipeline([\n",
    "    ('preprocessor', preprcoessor),\n",
    "    ('dim_reduce', dim_reduce),\n",
    "    ('stacker', clf)\n",
    "])\n",
    "pipe5"
   ]
  }
 ],
 "metadata": {
  "kernelspec": {
   "display_name": "sk2",
   "language": "python",
   "name": "conda-env-sk2-py"
  },
  "language_info": {
   "codemirror_mode": {
    "name": "ipython",
    "version": 3
   },
   "file_extension": ".py",
   "mimetype": "text/x-python",
   "name": "python",
   "nbconvert_exporter": "python",
   "pygments_lexer": "ipython3",
   "version": "3.7.5"
  }
 },
 "nbformat": 4,
 "nbformat_minor": 4
}
