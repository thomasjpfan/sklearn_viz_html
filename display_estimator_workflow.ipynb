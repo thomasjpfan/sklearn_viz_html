{
 "cells": [
  {
   "cell_type": "markdown",
   "metadata": {},
   "source": [
    "# Workflow for Visualizing Esiimators\n",
    "\n",
    "We can build a simple pipeline for classification:"
   ]
  },
  {
   "cell_type": "code",
   "execution_count": 1,
   "metadata": {},
   "outputs": [],
   "source": [
    "from sklearn.pipeline import Pipeline\n",
    "from sklearn.decomposition import PCA\n",
    "from sklearn.linear_model import LogisticRegression\n",
    "from sklearn.inspection import display_estimator"
   ]
  },
  {
   "cell_type": "code",
   "execution_count": 2,
   "metadata": {
    "scrolled": false
   },
   "outputs": [
    {
     "data": {
      "text/plain": [
       "'<html><head><style>.sk-toggleable {background-color: white;}.sk-toggleable__label {cursor: pointer;display: block;width: 100%;margin-bottom: 0;}.sk-toggleable__content {max-height: 0;max-width: 0;overflow: hidden;text-align: left;background-color: #f0f8ff;}div.sk-toggleable__content pre {margin: 0.5rem;margin-bottom: 0;border-radius: 0.25em;}.sk-toggleable__control:checked~.sk-toggleable__content {max-height: 200px;max-width: 100%;overflow: auto;}.sk-hidden--visually {border: 0;clip: rect(1px 1px 1px 1px);clip: rect(1px, 1px, 1px, 1px);height: 1px;margin: -1px;overflow: hidden;padding: 0;position: absolute;width: 1px;}.sk-estimator {font-family: monospace;background-color: #f0f8ff;padding: 0.5em;margin: 0.25em 0.25em;border: 1px dotted black;border-radius: 0.25em;text-align: center;}.sk-parallel-item::after {content: \"\";width: 100%;border-bottom: 1px solid gray;flex-grow: 1;}.sk-serial::before {content: \"\";position: absolute;border-left: 1px solid gray;top: 2em;bottom: 0;left: 50%;}.sk-serial {display: flex;flex-direction: column;align-items: center;float: left;background: white;}.sk-serial-item {z-index: 1;}.sk-parallel {display: flex;align-items: stretch;justify-content: center;}.sk-parallel-item {display: flex;flex-direction: column;position: relative;background: white;}.sk-parallel-item:first-child::after {align-self: flex-end;width: 50%;}.sk-parallel-item:last-child::after {align-self: flex-start;width: 50%;}.sk-parallel-item:only-child::after {width: 0;}.sk-dashed-wrapped {border: 1px dashed gray;padding: 0 0.25em 0.25em 0.25em;}.sk-label label {font-family: monospace;font-weight: bold;background: white;display: inline-block;margin: 0 0.5em;line-height: 1.4em;width: 97%;}.sk-label-container {text-align: center;border: #f0f8ff solid red;z-index: 1;}.sk-container {display: flex;flex-direction: column;align-items: flex-start;position: relative;float: left;}[sk-data-tooltip] {position: relative;cursor: pointer;}[sk-data-tooltip]:before {visibility: hidden;opacity: 0;font-weight: 400;position: absolute;top: 0;left: 0;padding: 0.5em;overflow: hidden;background-color: #f0f8ff;border: 1px solid gray;white-space: pre;content: attr(sk-data-tooltip);text-align: left;}[sk-data-tooltip]:hover:before {visibility: visible;opacity: 1;z-index: 2;}</style></head><body><div class=\"sk-top-container\"><div class=\"sk-container\"><div class=\"sk-serial\"><div class=\"sk-serial-item\"><div class=\"sk-estimator sk-toggleable\"><input class=\"sk-toggleable__control sk-hidden--visually\" id=\"44b83d44-5200-43d9-adaa-83cc7f3eb20a\" type=\"checkbox\"/><label class=\"sk-toggleable__label\" for=\"44b83d44-5200-43d9-adaa-83cc7f3eb20a\">PCA</label><div class=\"sk-toggleable__content\"><pre>PCA()</pre></div></div></div><div class=\"sk-serial-item\"><div class=\"sk-estimator sk-toggleable\"><input class=\"sk-toggleable__control sk-hidden--visually\" id=\"b150c393-884a-43c4-a765-a2a4ae02b644\" type=\"checkbox\"/><label class=\"sk-toggleable__label\" for=\"b150c393-884a-43c4-a765-a2a4ae02b644\">LogisticRegression</label><div class=\"sk-toggleable__content\"><pre>LogisticRegression()</pre></div></div></div></div></div></div></body></html>'"
      ]
     },
     "execution_count": 2,
     "metadata": {},
     "output_type": "execute_result"
    }
   ],
   "source": [
    "pca = PCA()\n",
    "lr = LogisticRegression()\n",
    "pipe1 = Pipeline([\n",
    "    ('pca', PCA()),\n",
    "    ('lr', LogisticRegression())\n",
    "])\n",
    "\n",
    "display_estimator(pipe1)"
   ]
  },
  {
   "cell_type": "markdown",
   "metadata": {},
   "source": [
    "To add a column transformer that handles categories and numerical features:"
   ]
  },
  {
   "cell_type": "code",
   "execution_count": 3,
   "metadata": {},
   "outputs": [],
   "source": [
    "from sklearn.compose import ColumnTransformer\n",
    "from sklearn.impute import SimpleImputer\n",
    "from sklearn.preprocessing import OneHotEncoder\n",
    "from sklearn.preprocessing import StandardScaler"
   ]
  },
  {
   "cell_type": "code",
   "execution_count": 4,
   "metadata": {},
   "outputs": [
    {
     "data": {
      "text/plain": [
       "'<html><head><style>.sk-toggleable {background-color: white;}.sk-toggleable__label {cursor: pointer;display: block;width: 100%;margin-bottom: 0;}.sk-toggleable__content {max-height: 0;max-width: 0;overflow: hidden;text-align: left;background-color: #f0f8ff;}div.sk-toggleable__content pre {margin: 0.5rem;margin-bottom: 0;border-radius: 0.25em;}.sk-toggleable__control:checked~.sk-toggleable__content {max-height: 200px;max-width: 100%;overflow: auto;}.sk-hidden--visually {border: 0;clip: rect(1px 1px 1px 1px);clip: rect(1px, 1px, 1px, 1px);height: 1px;margin: -1px;overflow: hidden;padding: 0;position: absolute;width: 1px;}.sk-estimator {font-family: monospace;background-color: #f0f8ff;padding: 0.5em;margin: 0.25em 0.25em;border: 1px dotted black;border-radius: 0.25em;text-align: center;}.sk-parallel-item::after {content: \"\";width: 100%;border-bottom: 1px solid gray;flex-grow: 1;}.sk-serial::before {content: \"\";position: absolute;border-left: 1px solid gray;top: 2em;bottom: 0;left: 50%;}.sk-serial {display: flex;flex-direction: column;align-items: center;float: left;background: white;}.sk-serial-item {z-index: 1;}.sk-parallel {display: flex;align-items: stretch;justify-content: center;}.sk-parallel-item {display: flex;flex-direction: column;position: relative;background: white;}.sk-parallel-item:first-child::after {align-self: flex-end;width: 50%;}.sk-parallel-item:last-child::after {align-self: flex-start;width: 50%;}.sk-parallel-item:only-child::after {width: 0;}.sk-dashed-wrapped {border: 1px dashed gray;padding: 0 0.25em 0.25em 0.25em;}.sk-label label {font-family: monospace;font-weight: bold;background: white;display: inline-block;margin: 0 0.5em;line-height: 1.4em;width: 97%;}.sk-label-container {text-align: center;border: #f0f8ff solid red;z-index: 1;}.sk-container {display: flex;flex-direction: column;align-items: flex-start;position: relative;float: left;}[sk-data-tooltip] {position: relative;cursor: pointer;}[sk-data-tooltip]:before {visibility: hidden;opacity: 0;font-weight: 400;position: absolute;top: 0;left: 0;padding: 0.5em;overflow: hidden;background-color: #f0f8ff;border: 1px solid gray;white-space: pre;content: attr(sk-data-tooltip);text-align: left;}[sk-data-tooltip]:hover:before {visibility: visible;opacity: 1;z-index: 2;}</style></head><body><div class=\"sk-top-container\"><div class=\"sk-container\"><div class=\"sk-serial\"><div class=\"sk-serial-item sk-dashed-wrapped\"><div class=\"sk-label-container\"><div class=\"sk-label sk-toggleable\"><input class=\"sk-toggleable__control sk-hidden--visually\" id=\"b8940bf9-2f71-4212-a18e-9c58c99fcfdc\" type=\"checkbox\"/><label class=\"sk-toggleable__label\" for=\"b8940bf9-2f71-4212-a18e-9c58c99fcfdc\">ColumnTransformer</label><div class=\"sk-toggleable__content\"><pre>ColumnTransformer(transformers=[(\\'cat\\',&#xa;                                 Pipeline(steps=[(\\'impute\\',&#xa;                                                  SimpleImputer(fill_value=\\'missing\\',&#xa;                                                                strategy=\\'constant\\')),&#xa;                                                 (\\'onehot\\',&#xa;                                                  OneHotEncoder(handle_unknown=\\'ignore\\'))]),&#xa;                                 [\\'gender\\', \\'age_bracket\\']),&#xa;                                (\\'num\\',&#xa;                                 Pipeline(steps=[(\\'impute\\', SimpleImputer()),&#xa;                                                 (\\'scale\\', StandardScaler())]),&#xa;                                 [\\'age\\', \\'income\\'])])</pre></div></div></div><div class=\"sk-parallel\"><div class=\"sk-parallel-item\"><div class=\"sk-label-container\"><div class=\"sk-label sk-toggleable\"><input class=\"sk-toggleable__control sk-hidden--visually\" id=\"efa48155-4316-44f6-9c7d-bf5d5173f8f9\" type=\"checkbox\"/><label class=\"sk-toggleable__label\" for=\"efa48155-4316-44f6-9c7d-bf5d5173f8f9\">cat</label><div class=\"sk-toggleable__content\"><pre>[\\'gender\\', \\'age_bracket\\']</pre></div></div></div><div class=\"sk-serial\"><div class=\"sk-serial\"><div class=\"sk-serial-item\"><div class=\"sk-estimator sk-toggleable\"><input class=\"sk-toggleable__control sk-hidden--visually\" id=\"8ea44b31-af25-4b22-af96-2e25627e649a\" type=\"checkbox\"/><label class=\"sk-toggleable__label\" for=\"8ea44b31-af25-4b22-af96-2e25627e649a\">SimpleImputer</label><div class=\"sk-toggleable__content\"><pre>SimpleImputer(fill_value=\\'missing\\', strategy=\\'constant\\')</pre></div></div></div><div class=\"sk-serial-item\"><div class=\"sk-estimator sk-toggleable\"><input class=\"sk-toggleable__control sk-hidden--visually\" id=\"a3757ed0-c91a-4407-88ed-0caf245afb2b\" type=\"checkbox\"/><label class=\"sk-toggleable__label\" for=\"a3757ed0-c91a-4407-88ed-0caf245afb2b\">OneHotEncoder</label><div class=\"sk-toggleable__content\"><pre>OneHotEncoder(handle_unknown=\\'ignore\\')</pre></div></div></div></div></div></div><div class=\"sk-parallel-item\"><div class=\"sk-label-container\"><div class=\"sk-label sk-toggleable\"><input class=\"sk-toggleable__control sk-hidden--visually\" id=\"48a9461f-b500-4378-b668-703ac1bf4fcf\" type=\"checkbox\"/><label class=\"sk-toggleable__label\" for=\"48a9461f-b500-4378-b668-703ac1bf4fcf\">num</label><div class=\"sk-toggleable__content\"><pre>[\\'age\\', \\'income\\']</pre></div></div></div><div class=\"sk-serial\"><div class=\"sk-serial\"><div class=\"sk-serial-item\"><div class=\"sk-estimator sk-toggleable\"><input class=\"sk-toggleable__control sk-hidden--visually\" id=\"e0d68aa3-4500-4933-909a-5a984b2180b2\" type=\"checkbox\"/><label class=\"sk-toggleable__label\" for=\"e0d68aa3-4500-4933-909a-5a984b2180b2\">SimpleImputer</label><div class=\"sk-toggleable__content\"><pre>SimpleImputer()</pre></div></div></div><div class=\"sk-serial-item\"><div class=\"sk-estimator sk-toggleable\"><input class=\"sk-toggleable__control sk-hidden--visually\" id=\"a45864b0-aa3a-4992-923a-18bc01bea8d6\" type=\"checkbox\"/><label class=\"sk-toggleable__label\" for=\"a45864b0-aa3a-4992-923a-18bc01bea8d6\">StandardScaler</label><div class=\"sk-toggleable__content\"><pre>StandardScaler()</pre></div></div></div></div></div></div></div></div></div></div></div></body></html>'"
      ]
     },
     "execution_count": 4,
     "metadata": {},
     "output_type": "execute_result"
    }
   ],
   "source": [
    "cat_pipe = Pipeline([\n",
    "    ('impute', SimpleImputer(strategy='constant', fill_value='missing')),\n",
    "    ('onehot', OneHotEncoder(handle_unknown='ignore'))\n",
    "])\n",
    "\n",
    "num_pipe = Pipeline([\n",
    "    ('impute', SimpleImputer()),\n",
    "    ('scale', StandardScaler())\n",
    "])\n",
    "\n",
    "preprcoessor = ColumnTransformer([\n",
    "    ('cat', cat_pipe, ['gender', 'age_bracket']),\n",
    "    ('num', num_pipe, ['age', 'income'])\n",
    "])\n",
    "\n",
    "display_estimator(preprcoessor)"
   ]
  },
  {
   "cell_type": "markdown",
   "metadata": {},
   "source": [
    "Next, we can attached a classifier to this preprocessor:"
   ]
  },
  {
   "cell_type": "code",
   "execution_count": 5,
   "metadata": {},
   "outputs": [
    {
     "data": {
      "text/plain": [
       "'<html><head><style>.sk-toggleable {background-color: white;}.sk-toggleable__label {cursor: pointer;display: block;width: 100%;margin-bottom: 0;}.sk-toggleable__content {max-height: 0;max-width: 0;overflow: hidden;text-align: left;background-color: #f0f8ff;}div.sk-toggleable__content pre {margin: 0.5rem;margin-bottom: 0;border-radius: 0.25em;}.sk-toggleable__control:checked~.sk-toggleable__content {max-height: 200px;max-width: 100%;overflow: auto;}.sk-hidden--visually {border: 0;clip: rect(1px 1px 1px 1px);clip: rect(1px, 1px, 1px, 1px);height: 1px;margin: -1px;overflow: hidden;padding: 0;position: absolute;width: 1px;}.sk-estimator {font-family: monospace;background-color: #f0f8ff;padding: 0.5em;margin: 0.25em 0.25em;border: 1px dotted black;border-radius: 0.25em;text-align: center;}.sk-parallel-item::after {content: \"\";width: 100%;border-bottom: 1px solid gray;flex-grow: 1;}.sk-serial::before {content: \"\";position: absolute;border-left: 1px solid gray;top: 2em;bottom: 0;left: 50%;}.sk-serial {display: flex;flex-direction: column;align-items: center;float: left;background: white;}.sk-serial-item {z-index: 1;}.sk-parallel {display: flex;align-items: stretch;justify-content: center;}.sk-parallel-item {display: flex;flex-direction: column;position: relative;background: white;}.sk-parallel-item:first-child::after {align-self: flex-end;width: 50%;}.sk-parallel-item:last-child::after {align-self: flex-start;width: 50%;}.sk-parallel-item:only-child::after {width: 0;}.sk-dashed-wrapped {border: 1px dashed gray;padding: 0 0.25em 0.25em 0.25em;}.sk-label label {font-family: monospace;font-weight: bold;background: white;display: inline-block;margin: 0 0.5em;line-height: 1.4em;width: 97%;}.sk-label-container {text-align: center;border: #f0f8ff solid red;z-index: 1;}.sk-container {display: flex;flex-direction: column;align-items: flex-start;position: relative;float: left;}[sk-data-tooltip] {position: relative;cursor: pointer;}[sk-data-tooltip]:before {visibility: hidden;opacity: 0;font-weight: 400;position: absolute;top: 0;left: 0;padding: 0.5em;overflow: hidden;background-color: #f0f8ff;border: 1px solid gray;white-space: pre;content: attr(sk-data-tooltip);text-align: left;}[sk-data-tooltip]:hover:before {visibility: visible;opacity: 1;z-index: 2;}</style></head><body><div class=\"sk-top-container\"><div class=\"sk-container\"><div class=\"sk-serial\"><div class=\"sk-serial-item sk-dashed-wrapped\"><div class=\"sk-label-container\"><div class=\"sk-label sk-toggleable\"><input class=\"sk-toggleable__control sk-hidden--visually\" id=\"13223e74-ba9f-491f-8904-dea82140b933\" type=\"checkbox\"/><label class=\"sk-toggleable__label\" for=\"13223e74-ba9f-491f-8904-dea82140b933\">preprocessor</label><div class=\"sk-toggleable__content\"><pre>ColumnTransformer(transformers=[(\\'cat\\',&#xa;                                 Pipeline(steps=[(\\'impute\\',&#xa;                                                  SimpleImputer(fill_value=\\'missing\\',&#xa;                                                                strategy=\\'constant\\')),&#xa;                                                 (\\'onehot\\',&#xa;                                                  OneHotEncoder(handle_unknown=\\'ignore\\'))]),&#xa;                                 [\\'gender\\', \\'age_bracket\\']),&#xa;                                (\\'num\\',&#xa;                                 Pipeline(steps=[(\\'impute\\', SimpleImputer()),&#xa;                                                 (\\'scale\\', StandardScaler())]),&#xa;                                 [\\'age\\', \\'income\\'])])</pre></div></div></div><div class=\"sk-parallel\"><div class=\"sk-parallel-item\"><div class=\"sk-label-container\"><div class=\"sk-label sk-toggleable\"><input class=\"sk-toggleable__control sk-hidden--visually\" id=\"8130d219-340c-469b-bd53-fa002261c72a\" type=\"checkbox\"/><label class=\"sk-toggleable__label\" for=\"8130d219-340c-469b-bd53-fa002261c72a\">cat</label><div class=\"sk-toggleable__content\"><pre>[\\'gender\\', \\'age_bracket\\']</pre></div></div></div><div class=\"sk-serial\"><div class=\"sk-serial\"><div class=\"sk-serial-item\"><div class=\"sk-estimator sk-toggleable\"><input class=\"sk-toggleable__control sk-hidden--visually\" id=\"38f6b1f4-51ae-4274-9ef8-dd08586f6ad6\" type=\"checkbox\"/><label class=\"sk-toggleable__label\" for=\"38f6b1f4-51ae-4274-9ef8-dd08586f6ad6\">SimpleImputer</label><div class=\"sk-toggleable__content\"><pre>SimpleImputer(fill_value=\\'missing\\', strategy=\\'constant\\')</pre></div></div></div><div class=\"sk-serial-item\"><div class=\"sk-estimator sk-toggleable\"><input class=\"sk-toggleable__control sk-hidden--visually\" id=\"10ea2034-e282-4419-9f01-ee18fc2974db\" type=\"checkbox\"/><label class=\"sk-toggleable__label\" for=\"10ea2034-e282-4419-9f01-ee18fc2974db\">OneHotEncoder</label><div class=\"sk-toggleable__content\"><pre>OneHotEncoder(handle_unknown=\\'ignore\\')</pre></div></div></div></div></div></div><div class=\"sk-parallel-item\"><div class=\"sk-label-container\"><div class=\"sk-label sk-toggleable\"><input class=\"sk-toggleable__control sk-hidden--visually\" id=\"41b3c7df-62b9-4b91-8439-d26c6587331a\" type=\"checkbox\"/><label class=\"sk-toggleable__label\" for=\"41b3c7df-62b9-4b91-8439-d26c6587331a\">num</label><div class=\"sk-toggleable__content\"><pre>[\\'age\\', \\'income\\']</pre></div></div></div><div class=\"sk-serial\"><div class=\"sk-serial\"><div class=\"sk-serial-item\"><div class=\"sk-estimator sk-toggleable\"><input class=\"sk-toggleable__control sk-hidden--visually\" id=\"b6ff9d90-5388-4dad-8db2-0bac67ddc14c\" type=\"checkbox\"/><label class=\"sk-toggleable__label\" for=\"b6ff9d90-5388-4dad-8db2-0bac67ddc14c\">SimpleImputer</label><div class=\"sk-toggleable__content\"><pre>SimpleImputer()</pre></div></div></div><div class=\"sk-serial-item\"><div class=\"sk-estimator sk-toggleable\"><input class=\"sk-toggleable__control sk-hidden--visually\" id=\"86f999f5-7ff4-4faf-aa70-d7a965bbc3b4\" type=\"checkbox\"/><label class=\"sk-toggleable__label\" for=\"86f999f5-7ff4-4faf-aa70-d7a965bbc3b4\">StandardScaler</label><div class=\"sk-toggleable__content\"><pre>StandardScaler()</pre></div></div></div></div></div></div></div></div><div class=\"sk-serial-item\"><div class=\"sk-estimator sk-toggleable\"><input class=\"sk-toggleable__control sk-hidden--visually\" id=\"401100cd-a612-4411-8992-48a361df2ebc\" type=\"checkbox\"/><label class=\"sk-toggleable__label\" for=\"401100cd-a612-4411-8992-48a361df2ebc\">LogisticRegression</label><div class=\"sk-toggleable__content\"><pre>LogisticRegression()</pre></div></div></div></div></div></div></body></html>'"
      ]
     },
     "execution_count": 5,
     "metadata": {},
     "output_type": "execute_result"
    }
   ],
   "source": [
    "pipe2 = Pipeline([\n",
    "    ('preprocessor', preprcoessor),\n",
    "    ('lr', lr)\n",
    "])\n",
    "\n",
    "display_estimator(pipe2)"
   ]
  },
  {
   "cell_type": "markdown",
   "metadata": {},
   "source": [
    "We can build a more complicated classifier at the end:"
   ]
  },
  {
   "cell_type": "code",
   "execution_count": 6,
   "metadata": {},
   "outputs": [],
   "source": [
    "from sklearn.ensemble import VotingClassifier\n",
    "from sklearn.ensemble import RandomForestClassifier\n",
    "from sklearn.neural_network import MLPClassifier"
   ]
  },
  {
   "cell_type": "code",
   "execution_count": 7,
   "metadata": {},
   "outputs": [
    {
     "data": {
      "text/plain": [
       "'<html><head><style>.sk-toggleable {background-color: white;}.sk-toggleable__label {cursor: pointer;display: block;width: 100%;margin-bottom: 0;}.sk-toggleable__content {max-height: 0;max-width: 0;overflow: hidden;text-align: left;background-color: #f0f8ff;}div.sk-toggleable__content pre {margin: 0.5rem;margin-bottom: 0;border-radius: 0.25em;}.sk-toggleable__control:checked~.sk-toggleable__content {max-height: 200px;max-width: 100%;overflow: auto;}.sk-hidden--visually {border: 0;clip: rect(1px 1px 1px 1px);clip: rect(1px, 1px, 1px, 1px);height: 1px;margin: -1px;overflow: hidden;padding: 0;position: absolute;width: 1px;}.sk-estimator {font-family: monospace;background-color: #f0f8ff;padding: 0.5em;margin: 0.25em 0.25em;border: 1px dotted black;border-radius: 0.25em;text-align: center;}.sk-parallel-item::after {content: \"\";width: 100%;border-bottom: 1px solid gray;flex-grow: 1;}.sk-serial::before {content: \"\";position: absolute;border-left: 1px solid gray;top: 2em;bottom: 0;left: 50%;}.sk-serial {display: flex;flex-direction: column;align-items: center;float: left;background: white;}.sk-serial-item {z-index: 1;}.sk-parallel {display: flex;align-items: stretch;justify-content: center;}.sk-parallel-item {display: flex;flex-direction: column;position: relative;background: white;}.sk-parallel-item:first-child::after {align-self: flex-end;width: 50%;}.sk-parallel-item:last-child::after {align-self: flex-start;width: 50%;}.sk-parallel-item:only-child::after {width: 0;}.sk-dashed-wrapped {border: 1px dashed gray;padding: 0 0.25em 0.25em 0.25em;}.sk-label label {font-family: monospace;font-weight: bold;background: white;display: inline-block;margin: 0 0.5em;line-height: 1.4em;width: 97%;}.sk-label-container {text-align: center;border: #f0f8ff solid red;z-index: 1;}.sk-container {display: flex;flex-direction: column;align-items: flex-start;position: relative;float: left;}[sk-data-tooltip] {position: relative;cursor: pointer;}[sk-data-tooltip]:before {visibility: hidden;opacity: 0;font-weight: 400;position: absolute;top: 0;left: 0;padding: 0.5em;overflow: hidden;background-color: #f0f8ff;border: 1px solid gray;white-space: pre;content: attr(sk-data-tooltip);text-align: left;}[sk-data-tooltip]:hover:before {visibility: visible;opacity: 1;z-index: 2;}</style></head><body><div class=\"sk-top-container\"><div class=\"sk-container\"><div class=\"sk-serial\"><div class=\"sk-serial-item sk-dashed-wrapped\"><div class=\"sk-label-container\"><div class=\"sk-label sk-toggleable\"><input class=\"sk-toggleable__control sk-hidden--visually\" id=\"eb6a09f2-6b59-4830-ba1e-418b6902aa24\" type=\"checkbox\"/><label class=\"sk-toggleable__label\" for=\"eb6a09f2-6b59-4830-ba1e-418b6902aa24\">preprocessor</label><div class=\"sk-toggleable__content\"><pre>ColumnTransformer(transformers=[(\\'cat\\',&#xa;                                 Pipeline(steps=[(\\'impute\\',&#xa;                                                  SimpleImputer(fill_value=\\'missing\\',&#xa;                                                                strategy=\\'constant\\')),&#xa;                                                 (\\'onehot\\',&#xa;                                                  OneHotEncoder(handle_unknown=\\'ignore\\'))]),&#xa;                                 [\\'gender\\', \\'age_bracket\\']),&#xa;                                (\\'num\\',&#xa;                                 Pipeline(steps=[(\\'impute\\', SimpleImputer()),&#xa;                                                 (\\'scale\\', StandardScaler())]),&#xa;                                 [\\'age\\', \\'income\\'])])</pre></div></div></div><div class=\"sk-parallel\"><div class=\"sk-parallel-item\"><div class=\"sk-label-container\"><div class=\"sk-label sk-toggleable\"><input class=\"sk-toggleable__control sk-hidden--visually\" id=\"f64de697-8767-4f45-b8d8-960c17054bcf\" type=\"checkbox\"/><label class=\"sk-toggleable__label\" for=\"f64de697-8767-4f45-b8d8-960c17054bcf\">cat</label><div class=\"sk-toggleable__content\"><pre>[\\'gender\\', \\'age_bracket\\']</pre></div></div></div><div class=\"sk-serial\"><div class=\"sk-serial\"><div class=\"sk-serial-item\"><div class=\"sk-estimator sk-toggleable\"><input class=\"sk-toggleable__control sk-hidden--visually\" id=\"34007566-eb04-4118-9524-ad8d6a0e3c07\" type=\"checkbox\"/><label class=\"sk-toggleable__label\" for=\"34007566-eb04-4118-9524-ad8d6a0e3c07\">SimpleImputer</label><div class=\"sk-toggleable__content\"><pre>SimpleImputer(fill_value=\\'missing\\', strategy=\\'constant\\')</pre></div></div></div><div class=\"sk-serial-item\"><div class=\"sk-estimator sk-toggleable\"><input class=\"sk-toggleable__control sk-hidden--visually\" id=\"7a095888-680a-4d08-81b8-e019f3827913\" type=\"checkbox\"/><label class=\"sk-toggleable__label\" for=\"7a095888-680a-4d08-81b8-e019f3827913\">OneHotEncoder</label><div class=\"sk-toggleable__content\"><pre>OneHotEncoder(handle_unknown=\\'ignore\\')</pre></div></div></div></div></div></div><div class=\"sk-parallel-item\"><div class=\"sk-label-container\"><div class=\"sk-label sk-toggleable\"><input class=\"sk-toggleable__control sk-hidden--visually\" id=\"48d42e47-b716-4cf7-b823-e9c9c60a6912\" type=\"checkbox\"/><label class=\"sk-toggleable__label\" for=\"48d42e47-b716-4cf7-b823-e9c9c60a6912\">num</label><div class=\"sk-toggleable__content\"><pre>[\\'age\\', \\'income\\']</pre></div></div></div><div class=\"sk-serial\"><div class=\"sk-serial\"><div class=\"sk-serial-item\"><div class=\"sk-estimator sk-toggleable\"><input class=\"sk-toggleable__control sk-hidden--visually\" id=\"2c34eb4d-5358-42fe-bc37-e6e66315c9a3\" type=\"checkbox\"/><label class=\"sk-toggleable__label\" for=\"2c34eb4d-5358-42fe-bc37-e6e66315c9a3\">SimpleImputer</label><div class=\"sk-toggleable__content\"><pre>SimpleImputer()</pre></div></div></div><div class=\"sk-serial-item\"><div class=\"sk-estimator sk-toggleable\"><input class=\"sk-toggleable__control sk-hidden--visually\" id=\"d425b0ba-18f1-41ca-a1fd-fa681e5a6449\" type=\"checkbox\"/><label class=\"sk-toggleable__label\" for=\"d425b0ba-18f1-41ca-a1fd-fa681e5a6449\">StandardScaler</label><div class=\"sk-toggleable__content\"><pre>StandardScaler()</pre></div></div></div></div></div></div></div></div><div class=\"sk-serial-item sk-dashed-wrapped\"><div class=\"sk-label-container\"><div class=\"sk-label sk-toggleable\"><input class=\"sk-toggleable__control sk-hidden--visually\" id=\"6dd44105-d045-4551-b840-4611a1eaaa1e\" type=\"checkbox\"/><label class=\"sk-toggleable__label\" for=\"6dd44105-d045-4551-b840-4611a1eaaa1e\">clf</label><div class=\"sk-toggleable__content\"><pre>VotingClassifier(estimators=[(\\'rf\\', RandomForestClassifier()),&#xa;                             (\\'mlp\\', MLPClassifier()),&#xa;                             (\\'lr\\', LogisticRegression())])</pre></div></div></div><div class=\"sk-parallel\"><div class=\"sk-parallel-item\"><div class=\"sk-label-container\"><div class=\"sk-label sk-toggleable\"><label>rf</label></div></div><div class=\"sk-serial\"><div class=\"sk-serial-item\"><div class=\"sk-estimator sk-toggleable\"><input class=\"sk-toggleable__control sk-hidden--visually\" id=\"c2c286dc-d124-4261-ab28-313d3d2f0652\" type=\"checkbox\"/><label class=\"sk-toggleable__label\" for=\"c2c286dc-d124-4261-ab28-313d3d2f0652\">RandomForestClassifier</label><div class=\"sk-toggleable__content\"><pre>RandomForestClassifier()</pre></div></div></div></div></div><div class=\"sk-parallel-item\"><div class=\"sk-label-container\"><div class=\"sk-label sk-toggleable\"><label>mlp</label></div></div><div class=\"sk-serial\"><div class=\"sk-serial-item\"><div class=\"sk-estimator sk-toggleable\"><input class=\"sk-toggleable__control sk-hidden--visually\" id=\"4e45c0a5-07bd-481d-91a4-43bd5674855e\" type=\"checkbox\"/><label class=\"sk-toggleable__label\" for=\"4e45c0a5-07bd-481d-91a4-43bd5674855e\">MLPClassifier</label><div class=\"sk-toggleable__content\"><pre>MLPClassifier()</pre></div></div></div></div></div><div class=\"sk-parallel-item\"><div class=\"sk-label-container\"><div class=\"sk-label sk-toggleable\"><label>lr</label></div></div><div class=\"sk-serial\"><div class=\"sk-serial-item\"><div class=\"sk-estimator sk-toggleable\"><input class=\"sk-toggleable__control sk-hidden--visually\" id=\"18f1bdb8-9660-4295-9609-533d6ff92966\" type=\"checkbox\"/><label class=\"sk-toggleable__label\" for=\"18f1bdb8-9660-4295-9609-533d6ff92966\">LogisticRegression</label><div class=\"sk-toggleable__content\"><pre>LogisticRegression()</pre></div></div></div></div></div></div></div></div></div></div></body></html>'"
      ]
     },
     "execution_count": 7,
     "metadata": {},
     "output_type": "execute_result"
    }
   ],
   "source": [
    "vote_clf = VotingClassifier([\n",
    "    ('rf', RandomForestClassifier()),\n",
    "    ('mlp', MLPClassifier()),\n",
    "    ('lr', LogisticRegression())\n",
    "])\n",
    "\n",
    "pipe3  = Pipeline([\n",
    "    ('preprocessor', preprcoessor),\n",
    "    ('clf', vote_clf)\n",
    "])\n",
    "\n",
    "display_estimator(pipe3)"
   ]
  },
  {
   "cell_type": "markdown",
   "metadata": {},
   "source": [
    "Next, we can do some dimensional reduction with a PCA and a Truncated SVD:"
   ]
  },
  {
   "cell_type": "code",
   "execution_count": 8,
   "metadata": {},
   "outputs": [
    {
     "data": {
      "text/plain": [
       "'<html><head><style>.sk-toggleable {background-color: white;}.sk-toggleable__label {cursor: pointer;display: block;width: 100%;margin-bottom: 0;}.sk-toggleable__content {max-height: 0;max-width: 0;overflow: hidden;text-align: left;background-color: #f0f8ff;}div.sk-toggleable__content pre {margin: 0.5rem;margin-bottom: 0;border-radius: 0.25em;}.sk-toggleable__control:checked~.sk-toggleable__content {max-height: 200px;max-width: 100%;overflow: auto;}.sk-hidden--visually {border: 0;clip: rect(1px 1px 1px 1px);clip: rect(1px, 1px, 1px, 1px);height: 1px;margin: -1px;overflow: hidden;padding: 0;position: absolute;width: 1px;}.sk-estimator {font-family: monospace;background-color: #f0f8ff;padding: 0.5em;margin: 0.25em 0.25em;border: 1px dotted black;border-radius: 0.25em;text-align: center;}.sk-parallel-item::after {content: \"\";width: 100%;border-bottom: 1px solid gray;flex-grow: 1;}.sk-serial::before {content: \"\";position: absolute;border-left: 1px solid gray;top: 2em;bottom: 0;left: 50%;}.sk-serial {display: flex;flex-direction: column;align-items: center;float: left;background: white;}.sk-serial-item {z-index: 1;}.sk-parallel {display: flex;align-items: stretch;justify-content: center;}.sk-parallel-item {display: flex;flex-direction: column;position: relative;background: white;}.sk-parallel-item:first-child::after {align-self: flex-end;width: 50%;}.sk-parallel-item:last-child::after {align-self: flex-start;width: 50%;}.sk-parallel-item:only-child::after {width: 0;}.sk-dashed-wrapped {border: 1px dashed gray;padding: 0 0.25em 0.25em 0.25em;}.sk-label label {font-family: monospace;font-weight: bold;background: white;display: inline-block;margin: 0 0.5em;line-height: 1.4em;width: 97%;}.sk-label-container {text-align: center;border: #f0f8ff solid red;z-index: 1;}.sk-container {display: flex;flex-direction: column;align-items: flex-start;position: relative;float: left;}[sk-data-tooltip] {position: relative;cursor: pointer;}[sk-data-tooltip]:before {visibility: hidden;opacity: 0;font-weight: 400;position: absolute;top: 0;left: 0;padding: 0.5em;overflow: hidden;background-color: #f0f8ff;border: 1px solid gray;white-space: pre;content: attr(sk-data-tooltip);text-align: left;}[sk-data-tooltip]:hover:before {visibility: visible;opacity: 1;z-index: 2;}</style></head><body><div class=\"sk-top-container\"><div class=\"sk-container\"><div class=\"sk-serial\"><div class=\"sk-serial-item sk-dashed-wrapped\"><div class=\"sk-label-container\"><div class=\"sk-label sk-toggleable\"><input class=\"sk-toggleable__control sk-hidden--visually\" id=\"dae88966-8f27-4ae2-ac6c-8404fe817b0b\" type=\"checkbox\"/><label class=\"sk-toggleable__label\" for=\"dae88966-8f27-4ae2-ac6c-8404fe817b0b\">preprocessor</label><div class=\"sk-toggleable__content\"><pre>ColumnTransformer(transformers=[(\\'cat\\',&#xa;                                 Pipeline(steps=[(\\'impute\\',&#xa;                                                  SimpleImputer(fill_value=\\'missing\\',&#xa;                                                                strategy=\\'constant\\')),&#xa;                                                 (\\'onehot\\',&#xa;                                                  OneHotEncoder(handle_unknown=\\'ignore\\'))]),&#xa;                                 [\\'gender\\', \\'age_bracket\\']),&#xa;                                (\\'num\\',&#xa;                                 Pipeline(steps=[(\\'impute\\', SimpleImputer()),&#xa;                                                 (\\'scale\\', StandardScaler())]),&#xa;                                 [\\'age\\', \\'income\\'])])</pre></div></div></div><div class=\"sk-parallel\"><div class=\"sk-parallel-item\"><div class=\"sk-label-container\"><div class=\"sk-label sk-toggleable\"><input class=\"sk-toggleable__control sk-hidden--visually\" id=\"7dc2723f-27fc-4b31-b6e4-cea65a9c5a34\" type=\"checkbox\"/><label class=\"sk-toggleable__label\" for=\"7dc2723f-27fc-4b31-b6e4-cea65a9c5a34\">cat</label><div class=\"sk-toggleable__content\"><pre>[\\'gender\\', \\'age_bracket\\']</pre></div></div></div><div class=\"sk-serial\"><div class=\"sk-serial\"><div class=\"sk-serial-item\"><div class=\"sk-estimator sk-toggleable\"><input class=\"sk-toggleable__control sk-hidden--visually\" id=\"50134d95-2945-4517-b6b8-a72509a6f40e\" type=\"checkbox\"/><label class=\"sk-toggleable__label\" for=\"50134d95-2945-4517-b6b8-a72509a6f40e\">SimpleImputer</label><div class=\"sk-toggleable__content\"><pre>SimpleImputer(fill_value=\\'missing\\', strategy=\\'constant\\')</pre></div></div></div><div class=\"sk-serial-item\"><div class=\"sk-estimator sk-toggleable\"><input class=\"sk-toggleable__control sk-hidden--visually\" id=\"8e4c2a79-137b-4281-bc84-1d75e97fbe0d\" type=\"checkbox\"/><label class=\"sk-toggleable__label\" for=\"8e4c2a79-137b-4281-bc84-1d75e97fbe0d\">OneHotEncoder</label><div class=\"sk-toggleable__content\"><pre>OneHotEncoder(handle_unknown=\\'ignore\\')</pre></div></div></div></div></div></div><div class=\"sk-parallel-item\"><div class=\"sk-label-container\"><div class=\"sk-label sk-toggleable\"><input class=\"sk-toggleable__control sk-hidden--visually\" id=\"a78e1b16-80a4-4bec-bfac-375bc506dbe8\" type=\"checkbox\"/><label class=\"sk-toggleable__label\" for=\"a78e1b16-80a4-4bec-bfac-375bc506dbe8\">num</label><div class=\"sk-toggleable__content\"><pre>[\\'age\\', \\'income\\']</pre></div></div></div><div class=\"sk-serial\"><div class=\"sk-serial\"><div class=\"sk-serial-item\"><div class=\"sk-estimator sk-toggleable\"><input class=\"sk-toggleable__control sk-hidden--visually\" id=\"93a46133-f76b-4b4d-b800-7be825cfa1d4\" type=\"checkbox\"/><label class=\"sk-toggleable__label\" for=\"93a46133-f76b-4b4d-b800-7be825cfa1d4\">SimpleImputer</label><div class=\"sk-toggleable__content\"><pre>SimpleImputer()</pre></div></div></div><div class=\"sk-serial-item\"><div class=\"sk-estimator sk-toggleable\"><input class=\"sk-toggleable__control sk-hidden--visually\" id=\"c4aaa2e6-9774-4506-9ad3-7534c2771f40\" type=\"checkbox\"/><label class=\"sk-toggleable__label\" for=\"c4aaa2e6-9774-4506-9ad3-7534c2771f40\">StandardScaler</label><div class=\"sk-toggleable__content\"><pre>StandardScaler()</pre></div></div></div></div></div></div></div></div><div class=\"sk-serial-item sk-dashed-wrapped\"><div class=\"sk-label-container\"><div class=\"sk-label sk-toggleable\"><input class=\"sk-toggleable__control sk-hidden--visually\" id=\"201898c8-080c-4fc4-af58-e5fe100738df\" type=\"checkbox\"/><label class=\"sk-toggleable__label\" for=\"201898c8-080c-4fc4-af58-e5fe100738df\">dim_reduce</label><div class=\"sk-toggleable__content\"><pre>FeatureUnion(transformer_list=[(\\'pca\\', PCA(n_components=1)),&#xa;                               (\\'svd\\', TruncatedSVD())])</pre></div></div></div><div class=\"sk-parallel\"><div class=\"sk-parallel-item\"><div class=\"sk-label-container\"><div class=\"sk-label sk-toggleable\"><label>pca</label></div></div><div class=\"sk-serial\"><div class=\"sk-serial-item\"><div class=\"sk-estimator sk-toggleable\"><input class=\"sk-toggleable__control sk-hidden--visually\" id=\"cc860a44-c452-4fba-958b-5e3955b5904b\" type=\"checkbox\"/><label class=\"sk-toggleable__label\" for=\"cc860a44-c452-4fba-958b-5e3955b5904b\">PCA</label><div class=\"sk-toggleable__content\"><pre>PCA(n_components=1)</pre></div></div></div></div></div><div class=\"sk-parallel-item\"><div class=\"sk-label-container\"><div class=\"sk-label sk-toggleable\"><label>svd</label></div></div><div class=\"sk-serial\"><div class=\"sk-serial-item\"><div class=\"sk-estimator sk-toggleable\"><input class=\"sk-toggleable__control sk-hidden--visually\" id=\"98af290e-5ecf-4292-bb67-e65630aec59f\" type=\"checkbox\"/><label class=\"sk-toggleable__label\" for=\"98af290e-5ecf-4292-bb67-e65630aec59f\">TruncatedSVD</label><div class=\"sk-toggleable__content\"><pre>TruncatedSVD()</pre></div></div></div></div></div></div></div><div class=\"sk-serial-item sk-dashed-wrapped\"><div class=\"sk-label-container\"><div class=\"sk-label sk-toggleable\"><input class=\"sk-toggleable__control sk-hidden--visually\" id=\"8f4a4e57-2bff-456f-86f4-af368bad0f55\" type=\"checkbox\"/><label class=\"sk-toggleable__label\" for=\"8f4a4e57-2bff-456f-86f4-af368bad0f55\">clf</label><div class=\"sk-toggleable__content\"><pre>VotingClassifier(estimators=[(\\'rf\\', RandomForestClassifier()),&#xa;                             (\\'mlp\\', MLPClassifier()),&#xa;                             (\\'lr\\', LogisticRegression())])</pre></div></div></div><div class=\"sk-parallel\"><div class=\"sk-parallel-item\"><div class=\"sk-label-container\"><div class=\"sk-label sk-toggleable\"><label>rf</label></div></div><div class=\"sk-serial\"><div class=\"sk-serial-item\"><div class=\"sk-estimator sk-toggleable\"><input class=\"sk-toggleable__control sk-hidden--visually\" id=\"b308fd89-0fb2-4be5-86ae-d3abf48adadd\" type=\"checkbox\"/><label class=\"sk-toggleable__label\" for=\"b308fd89-0fb2-4be5-86ae-d3abf48adadd\">RandomForestClassifier</label><div class=\"sk-toggleable__content\"><pre>RandomForestClassifier()</pre></div></div></div></div></div><div class=\"sk-parallel-item\"><div class=\"sk-label-container\"><div class=\"sk-label sk-toggleable\"><label>mlp</label></div></div><div class=\"sk-serial\"><div class=\"sk-serial-item\"><div class=\"sk-estimator sk-toggleable\"><input class=\"sk-toggleable__control sk-hidden--visually\" id=\"90182fd6-b896-4ed3-9546-f64288bf80b0\" type=\"checkbox\"/><label class=\"sk-toggleable__label\" for=\"90182fd6-b896-4ed3-9546-f64288bf80b0\">MLPClassifier</label><div class=\"sk-toggleable__content\"><pre>MLPClassifier()</pre></div></div></div></div></div><div class=\"sk-parallel-item\"><div class=\"sk-label-container\"><div class=\"sk-label sk-toggleable\"><label>lr</label></div></div><div class=\"sk-serial\"><div class=\"sk-serial-item\"><div class=\"sk-estimator sk-toggleable\"><input class=\"sk-toggleable__control sk-hidden--visually\" id=\"633cd5a0-6a94-4cd4-bc5f-fdde879604dc\" type=\"checkbox\"/><label class=\"sk-toggleable__label\" for=\"633cd5a0-6a94-4cd4-bc5f-fdde879604dc\">LogisticRegression</label><div class=\"sk-toggleable__content\"><pre>LogisticRegression()</pre></div></div></div></div></div></div></div></div></div></div></body></html>'"
      ]
     },
     "execution_count": 8,
     "metadata": {},
     "output_type": "execute_result"
    }
   ],
   "source": [
    "from sklearn.pipeline import FeatureUnion\n",
    "from sklearn.decomposition import PCA, TruncatedSVD\n",
    "\n",
    "dim_reduce = FeatureUnion([(\"pca\", PCA(n_components=1)),\n",
    "                           (\"svd\", TruncatedSVD(n_components=2))])\n",
    "\n",
    "pipe4 = Pipeline([\n",
    "    ('preprocessor', preprcoessor),\n",
    "    ('dim_reduce', dim_reduce),\n",
    "    ('clf', vote_clf)\n",
    "])\n",
    "\n",
    "display_estimator(pipe4)"
   ]
  }
 ],
 "metadata": {
  "kernelspec": {
   "display_name": "sk2",
   "language": "python",
   "name": "conda-env-sk2-py"
  },
  "language_info": {
   "codemirror_mode": {
    "name": "ipython",
    "version": 3
   },
   "file_extension": ".py",
   "mimetype": "text/x-python",
   "name": "python",
   "nbconvert_exporter": "python",
   "pygments_lexer": "ipython3",
   "version": "3.7.5"
  }
 },
 "nbformat": 4,
 "nbformat_minor": 4
}
