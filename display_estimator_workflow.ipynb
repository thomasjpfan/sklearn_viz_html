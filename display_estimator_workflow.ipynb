{
 "cells": [
  {
   "cell_type": "markdown",
   "metadata": {},
   "source": [
    "# Workflow for Visualizing Esiimators\n",
    "\n",
    "We can build a simple pipeline for classification:"
   ]
  },
  {
   "cell_type": "code",
   "execution_count": 1,
   "metadata": {},
   "outputs": [],
   "source": [
    "from sklearn.pipeline import Pipeline\n",
    "from sklearn.decomposition import PCA\n",
    "from sklearn.linear_model import LogisticRegression\n",
    "from sklearn.model_selection import GridSearchCV"
   ]
  },
  {
   "cell_type": "code",
   "execution_count": 2,
   "metadata": {},
   "outputs": [
    {
     "data": {
      "text/html": [
       "<!DOCTYPE html><html lang=\"en\"><head><title>sklearn-viz</title><style>div.sk-toggleable {background-color: white;}label.sk-toggleable__label {cursor: pointer;display: block;width: 100%;margin-bottom: 0;padding: 0.2em 0.3em;box-sizing: border-box;text-align: center;}div.sk-toggleable__content {max-height: 0;max-width: 0;overflow: hidden;text-align: left;background-color: #f0f8ff;}div.sk-toggleable__content pre {margin: 0.2em;border-radius: 0.25em;background-color: #f0f8ff;}input.sk-toggleable__control:checked~div.sk-toggleable__content {max-height: 200px;max-width: 100%;overflow: auto;}div.sk-estimator input.sk-toggleable__control:checked~label.sk-toggleable__label {background-color: #d4ebff;}div.sk-label input.sk-toggleable__control:checked~label.sk-toggleable__label {background-color: #d4ebff;}input.sk-hidden--visually {border: 0;clip: rect(1px 1px 1px 1px);clip: rect(1px, 1px, 1px, 1px);height: 1px;margin: -1px;overflow: hidden;padding: 0;position: absolute;width: 1px;}div.sk-estimator {font-family: monospace;background-color: #f0f8ff;margin: 0.25em 0.25em;border: 1px dotted black;border-radius: 0.25em;box-sizing: border-box;}div.sk-estimator:hover {background-color: #d4ebff;}div.sk-parallel-item::after {content: \"\";width: 100%;border-bottom: 1px solid gray;flex-grow: 1;}div.sk-label:hover label.sk-toggleable__label {background-color: #d4ebff;}div.sk-serial::before {content: \"\";position: absolute;border-left: 1px solid gray;box-sizing: border-box;top: 2em;bottom: 0;left: 50%;}div.sk-serial {display: flex;flex-direction: column;align-items: center;float: left;background: white;}div.sk-serial-item {z-index: 1;}div.sk-parallel {display: flex;align-items: stretch;justify-content: center;}div.sk-parallel-item {display: flex;flex-direction: column;position: relative;background: white;}div.sk-parallel-item:first-child::after {align-self: flex-end;width: 50%;}div.sk-parallel-item:last-child::after {align-self: flex-start;width: 50%;}div.sk-parallel-item:only-child::after {width: 0;}div.sk-dashed-wrapped {border: 1px dashed gray;margin: 0 0.2em 0.2em 0.2em;box-sizing: border-box;padding-bottom: 0.2em;}div.sk-label label {font-family: monospace;font-weight: bold;background: white;display: inline-block;line-height: 1.4em;}div.sk-label-container {text-align: center;z-index: 1;}div.sk-container {display: flex;flex-direction: column;align-items: flex-start;position: relative;float: left;}</style></head><body><div class=\"sk-top-container\"><div class=\"sk-container\"><div class=\"sk-serial-item\"><div class=\"sk-estimator sk-toggleable\"><input class=\"sk-toggleable__control sk-hidden--visually\" id=\"0dcabaf9-235d-424b-b768-6a8dcfa1c56b\" type=\"checkbox\" checked><label class=\"sk-toggleable__label\" for=\"0dcabaf9-235d-424b-b768-6a8dcfa1c56b\">PCA</label><div class=\"sk-toggleable__content\"><pre>PCA(copy=True, iterated_power='auto', n_components=10, random_state=None,&#xa;    svd_solver='auto', tol=0.0, whiten=False)</pre></div></div></div></div></div></body></html>"
      ],
      "text/plain": [
       "PCA(copy=True, iterated_power='auto', n_components=10, random_state=None,\n",
       "    svd_solver='auto', tol=0.0, whiten=False)"
      ]
     },
     "execution_count": 2,
     "metadata": {},
     "output_type": "execute_result"
    }
   ],
   "source": [
    "pca = PCA(n_components=10)\n",
    "pca"
   ]
  },
  {
   "cell_type": "code",
   "execution_count": 3,
   "metadata": {},
   "outputs": [
    {
     "data": {
      "text/html": [
       "<!DOCTYPE html><html lang=\"en\"><head><title>sklearn-viz</title><style>div.sk-toggleable {background-color: white;}label.sk-toggleable__label {cursor: pointer;display: block;width: 100%;margin-bottom: 0;padding: 0.2em 0.3em;box-sizing: border-box;text-align: center;}div.sk-toggleable__content {max-height: 0;max-width: 0;overflow: hidden;text-align: left;background-color: #f0f8ff;}div.sk-toggleable__content pre {margin: 0.2em;border-radius: 0.25em;background-color: #f0f8ff;}input.sk-toggleable__control:checked~div.sk-toggleable__content {max-height: 200px;max-width: 100%;overflow: auto;}div.sk-estimator input.sk-toggleable__control:checked~label.sk-toggleable__label {background-color: #d4ebff;}div.sk-label input.sk-toggleable__control:checked~label.sk-toggleable__label {background-color: #d4ebff;}input.sk-hidden--visually {border: 0;clip: rect(1px 1px 1px 1px);clip: rect(1px, 1px, 1px, 1px);height: 1px;margin: -1px;overflow: hidden;padding: 0;position: absolute;width: 1px;}div.sk-estimator {font-family: monospace;background-color: #f0f8ff;margin: 0.25em 0.25em;border: 1px dotted black;border-radius: 0.25em;box-sizing: border-box;}div.sk-estimator:hover {background-color: #d4ebff;}div.sk-parallel-item::after {content: \"\";width: 100%;border-bottom: 1px solid gray;flex-grow: 1;}div.sk-label:hover label.sk-toggleable__label {background-color: #d4ebff;}div.sk-serial::before {content: \"\";position: absolute;border-left: 1px solid gray;box-sizing: border-box;top: 2em;bottom: 0;left: 50%;}div.sk-serial {display: flex;flex-direction: column;align-items: center;float: left;background: white;}div.sk-serial-item {z-index: 1;}div.sk-parallel {display: flex;align-items: stretch;justify-content: center;}div.sk-parallel-item {display: flex;flex-direction: column;position: relative;background: white;}div.sk-parallel-item:first-child::after {align-self: flex-end;width: 50%;}div.sk-parallel-item:last-child::after {align-self: flex-start;width: 50%;}div.sk-parallel-item:only-child::after {width: 0;}div.sk-dashed-wrapped {border: 1px dashed gray;margin: 0 0.2em 0.2em 0.2em;box-sizing: border-box;padding-bottom: 0.2em;}div.sk-label label {font-family: monospace;font-weight: bold;background: white;display: inline-block;line-height: 1.4em;}div.sk-label-container {text-align: center;z-index: 1;}div.sk-container {display: flex;flex-direction: column;align-items: flex-start;position: relative;float: left;}</style></head><body><div class=\"sk-top-container\"><div class=\"sk-container\"><div class=\"sk-serial-item sk-dashed-wrapped\"><div class=\"sk-label-container\"><div class=\"sk-label sk-toggleable\"><input class=\"sk-toggleable__control sk-hidden--visually\" id=\"c92f237e-9bab-47b9-a413-64417d81a3cc\" type=\"checkbox\" ><label class=\"sk-toggleable__label\" for=\"c92f237e-9bab-47b9-a413-64417d81a3cc\">GridSearchCV</label><div class=\"sk-toggleable__content\"><pre>GridSearchCV(estimator=PCA(n_components=10),&#xa;             param_grid={'n_components': [1, 2]})</pre></div></div></div><div class=\"sk-parallel\"><div class=\"sk-parallel-item\"><div class=\"sk-serial-item\"><div class=\"sk-estimator sk-toggleable\"><input class=\"sk-toggleable__control sk-hidden--visually\" id=\"b3e04f11-4369-4a2a-b419-27f9550569ab\" type=\"checkbox\" ><label class=\"sk-toggleable__label\" for=\"b3e04f11-4369-4a2a-b419-27f9550569ab\">PCA</label><div class=\"sk-toggleable__content\"><pre>PCA(n_components=10)</pre></div></div></div></div></div></div></div></div></body></html>"
      ],
      "text/plain": [
       "GridSearchCV(cv=None, error_score=nan,\n",
       "             estimator=PCA(copy=True, iterated_power='auto', n_components=10,\n",
       "                           random_state=None, svd_solver='auto', tol=0.0,\n",
       "                           whiten=False),\n",
       "             iid='deprecated', n_jobs=None, param_grid={'n_components': [1, 2]},\n",
       "             pre_dispatch='2*n_jobs', refit=True, return_train_score=False,\n",
       "             scoring=None, verbose=0)"
      ]
     },
     "execution_count": 3,
     "metadata": {},
     "output_type": "execute_result"
    }
   ],
   "source": [
    "grid = GridSearchCV(pca, {'n_components': [1, 2]})\n",
    "grid"
   ]
  },
  {
   "cell_type": "code",
   "execution_count": 4,
   "metadata": {},
   "outputs": [
    {
     "name": "stdout",
     "output_type": "stream",
     "text": [
      "GridSearchCV(cv=None, error_score=nan,\n",
      "             estimator=PCA(copy=True, iterated_power='auto', n_components=10,\n",
      "                           random_state=None, svd_solver='auto', tol=0.0,\n",
      "                           whiten=False),\n",
      "             iid='deprecated', n_jobs=None, param_grid={'n_components': [1, 2]},\n",
      "             pre_dispatch='2*n_jobs', refit=True, return_train_score=False,\n",
      "             scoring=None, verbose=0)\n"
     ]
    }
   ],
   "source": [
    "print(grid.__repr__())"
   ]
  },
  {
   "cell_type": "code",
   "execution_count": 5,
   "metadata": {},
   "outputs": [
    {
     "data": {
      "text/html": [
       "<!DOCTYPE html><html lang=\"en\"><head><title>sklearn-viz</title><style>div.sk-toggleable {background-color: white;}label.sk-toggleable__label {cursor: pointer;display: block;width: 100%;margin-bottom: 0;padding: 0.2em 0.3em;box-sizing: border-box;text-align: center;}div.sk-toggleable__content {max-height: 0;max-width: 0;overflow: hidden;text-align: left;background-color: #f0f8ff;}div.sk-toggleable__content pre {margin: 0.2em;border-radius: 0.25em;background-color: #f0f8ff;}input.sk-toggleable__control:checked~div.sk-toggleable__content {max-height: 200px;max-width: 100%;overflow: auto;}div.sk-estimator input.sk-toggleable__control:checked~label.sk-toggleable__label {background-color: #d4ebff;}div.sk-label input.sk-toggleable__control:checked~label.sk-toggleable__label {background-color: #d4ebff;}input.sk-hidden--visually {border: 0;clip: rect(1px 1px 1px 1px);clip: rect(1px, 1px, 1px, 1px);height: 1px;margin: -1px;overflow: hidden;padding: 0;position: absolute;width: 1px;}div.sk-estimator {font-family: monospace;background-color: #f0f8ff;margin: 0.25em 0.25em;border: 1px dotted black;border-radius: 0.25em;box-sizing: border-box;}div.sk-estimator:hover {background-color: #d4ebff;}div.sk-parallel-item::after {content: \"\";width: 100%;border-bottom: 1px solid gray;flex-grow: 1;}div.sk-label:hover label.sk-toggleable__label {background-color: #d4ebff;}div.sk-serial::before {content: \"\";position: absolute;border-left: 1px solid gray;box-sizing: border-box;top: 2em;bottom: 0;left: 50%;}div.sk-serial {display: flex;flex-direction: column;align-items: center;float: left;background: white;}div.sk-serial-item {z-index: 1;}div.sk-parallel {display: flex;align-items: stretch;justify-content: center;}div.sk-parallel-item {display: flex;flex-direction: column;position: relative;background: white;}div.sk-parallel-item:first-child::after {align-self: flex-end;width: 50%;}div.sk-parallel-item:last-child::after {align-self: flex-start;width: 50%;}div.sk-parallel-item:only-child::after {width: 0;}div.sk-dashed-wrapped {border: 1px dashed gray;margin: 0 0.2em 0.2em 0.2em;box-sizing: border-box;padding-bottom: 0.2em;}div.sk-label label {font-family: monospace;font-weight: bold;background: white;display: inline-block;line-height: 1.4em;}div.sk-label-container {text-align: center;z-index: 1;}div.sk-container {display: flex;flex-direction: column;align-items: flex-start;position: relative;float: left;}</style></head><body><div class=\"sk-top-container\"><div class=\"sk-container\"><div class=\"sk-serial\"><div class=\"sk-serial-item\"><div class=\"sk-estimator sk-toggleable\"><input class=\"sk-toggleable__control sk-hidden--visually\" id=\"a86d0d93-7568-4026-9272-9c6537755313\" type=\"checkbox\" ><label class=\"sk-toggleable__label\" for=\"a86d0d93-7568-4026-9272-9c6537755313\">PCA</label><div class=\"sk-toggleable__content\"><pre>PCA()</pre></div></div></div><div class=\"sk-serial-item\"><div class=\"sk-estimator sk-toggleable\"><input class=\"sk-toggleable__control sk-hidden--visually\" id=\"a245b7a4-b0b7-46b7-ac9c-258513cb6273\" type=\"checkbox\" ><label class=\"sk-toggleable__label\" for=\"a245b7a4-b0b7-46b7-ac9c-258513cb6273\">LogisticRegression</label><div class=\"sk-toggleable__content\"><pre>LogisticRegression()</pre></div></div></div></div></div></div></body></html>"
      ],
      "text/plain": [
       "Pipeline(memory=None,\n",
       "         steps=[('pca',\n",
       "                 PCA(copy=True, iterated_power='auto', n_components=None,\n",
       "                     random_state=None, svd_solver='auto', tol=0.0,\n",
       "                     whiten=False)),\n",
       "                ('lr',\n",
       "                 LogisticRegression(C=1.0, class_weight=None, dual=False,\n",
       "                                    fit_intercept=True, intercept_scaling=1,\n",
       "                                    l1_ratio=None, max_iter=100,\n",
       "                                    multi_class='auto', n_jobs=None,\n",
       "                                    penalty='l2', random_state=None,\n",
       "                                    solver='lbfgs', tol=0.0001, verbose=0,\n",
       "                                    warm_start=False))],\n",
       "         verbose=False)"
      ]
     },
     "execution_count": 5,
     "metadata": {},
     "output_type": "execute_result"
    }
   ],
   "source": [
    "pca = PCA()\n",
    "lr = LogisticRegression()\n",
    "pipe1 = Pipeline([\n",
    "    ('pca', PCA()),\n",
    "    ('lr', LogisticRegression())\n",
    "])\n",
    "\n",
    "pipe1"
   ]
  },
  {
   "cell_type": "markdown",
   "metadata": {},
   "source": [
    "To add a column transformer that handles categories and numerical features:"
   ]
  },
  {
   "cell_type": "code",
   "execution_count": 6,
   "metadata": {},
   "outputs": [],
   "source": [
    "from sklearn.compose import ColumnTransformer\n",
    "from sklearn.impute import SimpleImputer\n",
    "from sklearn.preprocessing import OneHotEncoder\n",
    "from sklearn.preprocessing import StandardScaler"
   ]
  },
  {
   "cell_type": "code",
   "execution_count": 7,
   "metadata": {},
   "outputs": [
    {
     "data": {
      "text/html": [
       "<!DOCTYPE html><html lang=\"en\"><head><title>sklearn-viz</title><style>div.sk-toggleable {background-color: white;}label.sk-toggleable__label {cursor: pointer;display: block;width: 100%;margin-bottom: 0;padding: 0.2em 0.3em;box-sizing: border-box;text-align: center;}div.sk-toggleable__content {max-height: 0;max-width: 0;overflow: hidden;text-align: left;background-color: #f0f8ff;}div.sk-toggleable__content pre {margin: 0.2em;border-radius: 0.25em;background-color: #f0f8ff;}input.sk-toggleable__control:checked~div.sk-toggleable__content {max-height: 200px;max-width: 100%;overflow: auto;}div.sk-estimator input.sk-toggleable__control:checked~label.sk-toggleable__label {background-color: #d4ebff;}div.sk-label input.sk-toggleable__control:checked~label.sk-toggleable__label {background-color: #d4ebff;}input.sk-hidden--visually {border: 0;clip: rect(1px 1px 1px 1px);clip: rect(1px, 1px, 1px, 1px);height: 1px;margin: -1px;overflow: hidden;padding: 0;position: absolute;width: 1px;}div.sk-estimator {font-family: monospace;background-color: #f0f8ff;margin: 0.25em 0.25em;border: 1px dotted black;border-radius: 0.25em;box-sizing: border-box;}div.sk-estimator:hover {background-color: #d4ebff;}div.sk-parallel-item::after {content: \"\";width: 100%;border-bottom: 1px solid gray;flex-grow: 1;}div.sk-label:hover label.sk-toggleable__label {background-color: #d4ebff;}div.sk-serial::before {content: \"\";position: absolute;border-left: 1px solid gray;box-sizing: border-box;top: 2em;bottom: 0;left: 50%;}div.sk-serial {display: flex;flex-direction: column;align-items: center;float: left;background: white;}div.sk-serial-item {z-index: 1;}div.sk-parallel {display: flex;align-items: stretch;justify-content: center;}div.sk-parallel-item {display: flex;flex-direction: column;position: relative;background: white;}div.sk-parallel-item:first-child::after {align-self: flex-end;width: 50%;}div.sk-parallel-item:last-child::after {align-self: flex-start;width: 50%;}div.sk-parallel-item:only-child::after {width: 0;}div.sk-dashed-wrapped {border: 1px dashed gray;margin: 0 0.2em 0.2em 0.2em;box-sizing: border-box;padding-bottom: 0.2em;}div.sk-label label {font-family: monospace;font-weight: bold;background: white;display: inline-block;line-height: 1.4em;}div.sk-label-container {text-align: center;z-index: 1;}div.sk-container {display: flex;flex-direction: column;align-items: flex-start;position: relative;float: left;}</style></head><body><div class=\"sk-top-container\"><div class=\"sk-container\"><div class=\"sk-serial-item sk-dashed-wrapped\"><div class=\"sk-label-container\"><div class=\"sk-label sk-toggleable\"><input class=\"sk-toggleable__control sk-hidden--visually\" id=\"6b3715df-4fbc-4ee7-9b24-5ed91b2a6866\" type=\"checkbox\" ><label class=\"sk-toggleable__label\" for=\"6b3715df-4fbc-4ee7-9b24-5ed91b2a6866\">ColumnTransformer</label><div class=\"sk-toggleable__content\"><pre>ColumnTransformer(transformers=[('cat',&#xa;                                 Pipeline(steps=[('impute',&#xa;                                                  SimpleImputer(fill_value='missing',&#xa;                                                                strategy='constant')),&#xa;                                                 ('onehot',&#xa;                                                  OneHotEncoder(handle_unknown='ignore'))]),&#xa;                                 ['gender', 'age_bracket']),&#xa;                                ('num',&#xa;                                 Pipeline(steps=[('impute', SimpleImputer()),&#xa;                                                 ('scale', StandardScaler())]),&#xa;                                 ['age', 'income'])])</pre></div></div></div><div class=\"sk-parallel\"><div class=\"sk-parallel-item\"><div class=\"sk-label-container\"><div class=\"sk-label sk-toggleable\"><input class=\"sk-toggleable__control sk-hidden--visually\" id=\"e3478b53-9975-451e-9a4d-be20542b6bb9\" type=\"checkbox\" ><label class=\"sk-toggleable__label\" for=\"e3478b53-9975-451e-9a4d-be20542b6bb9\">cat</label><div class=\"sk-toggleable__content\"><pre>['gender', 'age_bracket']</pre></div></div></div><div class=\"sk-serial\"><div class=\"sk-serial\"><div class=\"sk-serial-item\"><div class=\"sk-estimator sk-toggleable\"><input class=\"sk-toggleable__control sk-hidden--visually\" id=\"dba0d195-14ae-475a-b93a-17107c44c33d\" type=\"checkbox\" ><label class=\"sk-toggleable__label\" for=\"dba0d195-14ae-475a-b93a-17107c44c33d\">SimpleImputer</label><div class=\"sk-toggleable__content\"><pre>SimpleImputer(fill_value='missing', strategy='constant')</pre></div></div></div><div class=\"sk-serial-item\"><div class=\"sk-estimator sk-toggleable\"><input class=\"sk-toggleable__control sk-hidden--visually\" id=\"39cbb6c2-ca2a-40b9-a56e-c4230950c91f\" type=\"checkbox\" ><label class=\"sk-toggleable__label\" for=\"39cbb6c2-ca2a-40b9-a56e-c4230950c91f\">OneHotEncoder</label><div class=\"sk-toggleable__content\"><pre>OneHotEncoder(handle_unknown='ignore')</pre></div></div></div></div></div></div><div class=\"sk-parallel-item\"><div class=\"sk-label-container\"><div class=\"sk-label sk-toggleable\"><input class=\"sk-toggleable__control sk-hidden--visually\" id=\"c5eb76d2-62cd-4260-9024-d823652dda05\" type=\"checkbox\" ><label class=\"sk-toggleable__label\" for=\"c5eb76d2-62cd-4260-9024-d823652dda05\">num</label><div class=\"sk-toggleable__content\"><pre>['age', 'income']</pre></div></div></div><div class=\"sk-serial\"><div class=\"sk-serial\"><div class=\"sk-serial-item\"><div class=\"sk-estimator sk-toggleable\"><input class=\"sk-toggleable__control sk-hidden--visually\" id=\"3b968b1b-63a7-4444-814b-ebabe3cf1e86\" type=\"checkbox\" ><label class=\"sk-toggleable__label\" for=\"3b968b1b-63a7-4444-814b-ebabe3cf1e86\">SimpleImputer</label><div class=\"sk-toggleable__content\"><pre>SimpleImputer()</pre></div></div></div><div class=\"sk-serial-item\"><div class=\"sk-estimator sk-toggleable\"><input class=\"sk-toggleable__control sk-hidden--visually\" id=\"a0bfd64e-2923-4422-9d93-b51673dec94f\" type=\"checkbox\" ><label class=\"sk-toggleable__label\" for=\"a0bfd64e-2923-4422-9d93-b51673dec94f\">StandardScaler</label><div class=\"sk-toggleable__content\"><pre>StandardScaler()</pre></div></div></div></div></div></div></div></div></div></div></body></html>"
      ],
      "text/plain": [
       "ColumnTransformer(n_jobs=None, remainder='drop', sparse_threshold=0.3,\n",
       "                  transformer_weights=None,\n",
       "                  transformers=[('cat',\n",
       "                                 Pipeline(memory=None,\n",
       "                                          steps=[('impute',\n",
       "                                                  SimpleImputer(add_indicator=False,\n",
       "                                                                copy=True,\n",
       "                                                                fill_value='missing',\n",
       "                                                                missing_values=nan,\n",
       "                                                                strategy='constant',\n",
       "                                                                verbose=0)),\n",
       "                                                 ('onehot',\n",
       "                                                  OneHotEncoder(categories='auto',\n",
       "                                                                drop=None,\n",
       "                                                                dtype=<class 'numpy.float64'>,\n",
       "                                                                handle_unknown='ignore',\n",
       "                                                                sparse=True))],\n",
       "                                          verbose=False),\n",
       "                                 ['gender', 'age_bracket']),\n",
       "                                ('num',\n",
       "                                 Pipeline(memory=None,\n",
       "                                          steps=[('impute',\n",
       "                                                  SimpleImputer(add_indicator=False,\n",
       "                                                                copy=True,\n",
       "                                                                fill_value=None,\n",
       "                                                                missing_values=nan,\n",
       "                                                                strategy='mean',\n",
       "                                                                verbose=0)),\n",
       "                                                 ('scale',\n",
       "                                                  StandardScaler(copy=True,\n",
       "                                                                 with_mean=True,\n",
       "                                                                 with_std=True))],\n",
       "                                          verbose=False),\n",
       "                                 ['age', 'income'])],\n",
       "                  verbose=False)"
      ]
     },
     "execution_count": 7,
     "metadata": {},
     "output_type": "execute_result"
    }
   ],
   "source": [
    "cat_pipe = Pipeline([\n",
    "    ('impute', SimpleImputer(strategy='constant', fill_value='missing')),\n",
    "    ('onehot', OneHotEncoder(handle_unknown='ignore'))\n",
    "])\n",
    "\n",
    "num_pipe = Pipeline([\n",
    "    ('impute', SimpleImputer()),\n",
    "    ('scale', StandardScaler())\n",
    "])\n",
    "\n",
    "preprcoessor = ColumnTransformer([\n",
    "    ('cat', cat_pipe, ['gender', 'age_bracket']),\n",
    "    ('num', num_pipe, ['age', 'income'])\n",
    "])\n",
    "\n",
    "preprcoessor"
   ]
  },
  {
   "cell_type": "markdown",
   "metadata": {},
   "source": [
    "Next, we can attached a classifier to this preprocessor:"
   ]
  },
  {
   "cell_type": "code",
   "execution_count": 8,
   "metadata": {},
   "outputs": [
    {
     "data": {
      "text/html": [
       "<!DOCTYPE html><html lang=\"en\"><head><title>sklearn-viz</title><style>div.sk-toggleable {background-color: white;}label.sk-toggleable__label {cursor: pointer;display: block;width: 100%;margin-bottom: 0;padding: 0.2em 0.3em;box-sizing: border-box;text-align: center;}div.sk-toggleable__content {max-height: 0;max-width: 0;overflow: hidden;text-align: left;background-color: #f0f8ff;}div.sk-toggleable__content pre {margin: 0.2em;border-radius: 0.25em;background-color: #f0f8ff;}input.sk-toggleable__control:checked~div.sk-toggleable__content {max-height: 200px;max-width: 100%;overflow: auto;}div.sk-estimator input.sk-toggleable__control:checked~label.sk-toggleable__label {background-color: #d4ebff;}div.sk-label input.sk-toggleable__control:checked~label.sk-toggleable__label {background-color: #d4ebff;}input.sk-hidden--visually {border: 0;clip: rect(1px 1px 1px 1px);clip: rect(1px, 1px, 1px, 1px);height: 1px;margin: -1px;overflow: hidden;padding: 0;position: absolute;width: 1px;}div.sk-estimator {font-family: monospace;background-color: #f0f8ff;margin: 0.25em 0.25em;border: 1px dotted black;border-radius: 0.25em;box-sizing: border-box;}div.sk-estimator:hover {background-color: #d4ebff;}div.sk-parallel-item::after {content: \"\";width: 100%;border-bottom: 1px solid gray;flex-grow: 1;}div.sk-label:hover label.sk-toggleable__label {background-color: #d4ebff;}div.sk-serial::before {content: \"\";position: absolute;border-left: 1px solid gray;box-sizing: border-box;top: 2em;bottom: 0;left: 50%;}div.sk-serial {display: flex;flex-direction: column;align-items: center;float: left;background: white;}div.sk-serial-item {z-index: 1;}div.sk-parallel {display: flex;align-items: stretch;justify-content: center;}div.sk-parallel-item {display: flex;flex-direction: column;position: relative;background: white;}div.sk-parallel-item:first-child::after {align-self: flex-end;width: 50%;}div.sk-parallel-item:last-child::after {align-self: flex-start;width: 50%;}div.sk-parallel-item:only-child::after {width: 0;}div.sk-dashed-wrapped {border: 1px dashed gray;margin: 0 0.2em 0.2em 0.2em;box-sizing: border-box;padding-bottom: 0.2em;}div.sk-label label {font-family: monospace;font-weight: bold;background: white;display: inline-block;line-height: 1.4em;}div.sk-label-container {text-align: center;z-index: 1;}div.sk-container {display: flex;flex-direction: column;align-items: flex-start;position: relative;float: left;}</style></head><body><div class=\"sk-top-container\"><div class=\"sk-container\"><div class=\"sk-serial\"><div class=\"sk-serial-item sk-dashed-wrapped\"><div class=\"sk-label-container\"><div class=\"sk-label sk-toggleable\"><input class=\"sk-toggleable__control sk-hidden--visually\" id=\"e3d7b06d-651c-43ed-b1e7-6bb439254ad7\" type=\"checkbox\" ><label class=\"sk-toggleable__label\" for=\"e3d7b06d-651c-43ed-b1e7-6bb439254ad7\">preprocessor</label><div class=\"sk-toggleable__content\"><pre>ColumnTransformer(transformers=[('cat',&#xa;                                 Pipeline(steps=[('impute',&#xa;                                                  SimpleImputer(fill_value='missing',&#xa;                                                                strategy='constant')),&#xa;                                                 ('onehot',&#xa;                                                  OneHotEncoder(handle_unknown='ignore'))]),&#xa;                                 ['gender', 'age_bracket']),&#xa;                                ('num',&#xa;                                 Pipeline(steps=[('impute', SimpleImputer()),&#xa;                                                 ('scale', StandardScaler())]),&#xa;                                 ['age', 'income'])])</pre></div></div></div><div class=\"sk-parallel\"><div class=\"sk-parallel-item\"><div class=\"sk-label-container\"><div class=\"sk-label sk-toggleable\"><input class=\"sk-toggleable__control sk-hidden--visually\" id=\"6029479e-2634-44da-9bdc-964cde0ebff1\" type=\"checkbox\" ><label class=\"sk-toggleable__label\" for=\"6029479e-2634-44da-9bdc-964cde0ebff1\">cat</label><div class=\"sk-toggleable__content\"><pre>['gender', 'age_bracket']</pre></div></div></div><div class=\"sk-serial\"><div class=\"sk-serial\"><div class=\"sk-serial-item\"><div class=\"sk-estimator sk-toggleable\"><input class=\"sk-toggleable__control sk-hidden--visually\" id=\"37344795-a2c3-4a86-a12e-6c1e595105f5\" type=\"checkbox\" ><label class=\"sk-toggleable__label\" for=\"37344795-a2c3-4a86-a12e-6c1e595105f5\">SimpleImputer</label><div class=\"sk-toggleable__content\"><pre>SimpleImputer(fill_value='missing', strategy='constant')</pre></div></div></div><div class=\"sk-serial-item\"><div class=\"sk-estimator sk-toggleable\"><input class=\"sk-toggleable__control sk-hidden--visually\" id=\"420e0aae-ef72-4256-8b3d-4ef7a3367a0a\" type=\"checkbox\" ><label class=\"sk-toggleable__label\" for=\"420e0aae-ef72-4256-8b3d-4ef7a3367a0a\">OneHotEncoder</label><div class=\"sk-toggleable__content\"><pre>OneHotEncoder(handle_unknown='ignore')</pre></div></div></div></div></div></div><div class=\"sk-parallel-item\"><div class=\"sk-label-container\"><div class=\"sk-label sk-toggleable\"><input class=\"sk-toggleable__control sk-hidden--visually\" id=\"486b94dd-4263-4fce-b820-aa31a3627d24\" type=\"checkbox\" ><label class=\"sk-toggleable__label\" for=\"486b94dd-4263-4fce-b820-aa31a3627d24\">num</label><div class=\"sk-toggleable__content\"><pre>['age', 'income']</pre></div></div></div><div class=\"sk-serial\"><div class=\"sk-serial\"><div class=\"sk-serial-item\"><div class=\"sk-estimator sk-toggleable\"><input class=\"sk-toggleable__control sk-hidden--visually\" id=\"dc762c71-3632-4796-99f7-bbf1648e61cf\" type=\"checkbox\" ><label class=\"sk-toggleable__label\" for=\"dc762c71-3632-4796-99f7-bbf1648e61cf\">SimpleImputer</label><div class=\"sk-toggleable__content\"><pre>SimpleImputer()</pre></div></div></div><div class=\"sk-serial-item\"><div class=\"sk-estimator sk-toggleable\"><input class=\"sk-toggleable__control sk-hidden--visually\" id=\"f69712fd-e6a6-4e57-99b8-8774f73c3613\" type=\"checkbox\" ><label class=\"sk-toggleable__label\" for=\"f69712fd-e6a6-4e57-99b8-8774f73c3613\">StandardScaler</label><div class=\"sk-toggleable__content\"><pre>StandardScaler()</pre></div></div></div></div></div></div></div></div><div class=\"sk-serial-item\"><div class=\"sk-estimator sk-toggleable\"><input class=\"sk-toggleable__control sk-hidden--visually\" id=\"8d5b9d6f-3440-4b4e-b2a8-e0b7e930c12c\" type=\"checkbox\" ><label class=\"sk-toggleable__label\" for=\"8d5b9d6f-3440-4b4e-b2a8-e0b7e930c12c\">LogisticRegression</label><div class=\"sk-toggleable__content\"><pre>LogisticRegression()</pre></div></div></div></div></div></div></body></html>"
      ],
      "text/plain": [
       "Pipeline(memory=None,\n",
       "         steps=[('preprocessor',\n",
       "                 ColumnTransformer(n_jobs=None, remainder='drop',\n",
       "                                   sparse_threshold=0.3,\n",
       "                                   transformer_weights=None,\n",
       "                                   transformers=[('cat',\n",
       "                                                  Pipeline(memory=None,\n",
       "                                                           steps=[('impute',\n",
       "                                                                   SimpleImputer(add_indicator=False,\n",
       "                                                                                 copy=True,\n",
       "                                                                                 fill_value='missing',\n",
       "                                                                                 missing_values=nan,\n",
       "                                                                                 strategy='constant',\n",
       "                                                                                 verbose=0)),\n",
       "                                                                  ('onehot',\n",
       "                                                                   OneHotEncoder(categories='au...\n",
       "                                                                   StandardScaler(copy=True,\n",
       "                                                                                  with_mean=True,\n",
       "                                                                                  with_std=True))],\n",
       "                                                           verbose=False),\n",
       "                                                  ['age', 'income'])],\n",
       "                                   verbose=False)),\n",
       "                ('lr',\n",
       "                 LogisticRegression(C=1.0, class_weight=None, dual=False,\n",
       "                                    fit_intercept=True, intercept_scaling=1,\n",
       "                                    l1_ratio=None, max_iter=100,\n",
       "                                    multi_class='auto', n_jobs=None,\n",
       "                                    penalty='l2', random_state=None,\n",
       "                                    solver='lbfgs', tol=0.0001, verbose=0,\n",
       "                                    warm_start=False))],\n",
       "         verbose=False)"
      ]
     },
     "execution_count": 8,
     "metadata": {},
     "output_type": "execute_result"
    }
   ],
   "source": [
    "pipe2 = Pipeline([\n",
    "    ('preprocessor', preprcoessor),\n",
    "    ('lr', lr)\n",
    "])\n",
    "\n",
    "pipe2"
   ]
  },
  {
   "cell_type": "markdown",
   "metadata": {},
   "source": [
    "We can build a more complicated classifier at the end:"
   ]
  },
  {
   "cell_type": "code",
   "execution_count": 9,
   "metadata": {},
   "outputs": [],
   "source": [
    "from sklearn.ensemble import VotingClassifier\n",
    "from sklearn.ensemble import RandomForestClassifier\n",
    "from sklearn.neural_network import MLPClassifier"
   ]
  },
  {
   "cell_type": "code",
   "execution_count": 10,
   "metadata": {},
   "outputs": [
    {
     "data": {
      "text/html": [
       "<!DOCTYPE html><html lang=\"en\"><head><title>sklearn-viz</title><style>div.sk-toggleable {background-color: white;}label.sk-toggleable__label {cursor: pointer;display: block;width: 100%;margin-bottom: 0;padding: 0.2em 0.3em;box-sizing: border-box;text-align: center;}div.sk-toggleable__content {max-height: 0;max-width: 0;overflow: hidden;text-align: left;background-color: #f0f8ff;}div.sk-toggleable__content pre {margin: 0.2em;border-radius: 0.25em;background-color: #f0f8ff;}input.sk-toggleable__control:checked~div.sk-toggleable__content {max-height: 200px;max-width: 100%;overflow: auto;}div.sk-estimator input.sk-toggleable__control:checked~label.sk-toggleable__label {background-color: #d4ebff;}div.sk-label input.sk-toggleable__control:checked~label.sk-toggleable__label {background-color: #d4ebff;}input.sk-hidden--visually {border: 0;clip: rect(1px 1px 1px 1px);clip: rect(1px, 1px, 1px, 1px);height: 1px;margin: -1px;overflow: hidden;padding: 0;position: absolute;width: 1px;}div.sk-estimator {font-family: monospace;background-color: #f0f8ff;margin: 0.25em 0.25em;border: 1px dotted black;border-radius: 0.25em;box-sizing: border-box;}div.sk-estimator:hover {background-color: #d4ebff;}div.sk-parallel-item::after {content: \"\";width: 100%;border-bottom: 1px solid gray;flex-grow: 1;}div.sk-label:hover label.sk-toggleable__label {background-color: #d4ebff;}div.sk-serial::before {content: \"\";position: absolute;border-left: 1px solid gray;box-sizing: border-box;top: 2em;bottom: 0;left: 50%;}div.sk-serial {display: flex;flex-direction: column;align-items: center;float: left;background: white;}div.sk-serial-item {z-index: 1;}div.sk-parallel {display: flex;align-items: stretch;justify-content: center;}div.sk-parallel-item {display: flex;flex-direction: column;position: relative;background: white;}div.sk-parallel-item:first-child::after {align-self: flex-end;width: 50%;}div.sk-parallel-item:last-child::after {align-self: flex-start;width: 50%;}div.sk-parallel-item:only-child::after {width: 0;}div.sk-dashed-wrapped {border: 1px dashed gray;margin: 0 0.2em 0.2em 0.2em;box-sizing: border-box;padding-bottom: 0.2em;}div.sk-label label {font-family: monospace;font-weight: bold;background: white;display: inline-block;line-height: 1.4em;}div.sk-label-container {text-align: center;z-index: 1;}div.sk-container {display: flex;flex-direction: column;align-items: flex-start;position: relative;float: left;}</style></head><body><div class=\"sk-top-container\"><div class=\"sk-container\"><div class=\"sk-serial\"><div class=\"sk-serial-item sk-dashed-wrapped\"><div class=\"sk-label-container\"><div class=\"sk-label sk-toggleable\"><input class=\"sk-toggleable__control sk-hidden--visually\" id=\"f55afff4-f866-4d47-85b7-3f260cc8a467\" type=\"checkbox\" ><label class=\"sk-toggleable__label\" for=\"f55afff4-f866-4d47-85b7-3f260cc8a467\">preprocessor</label><div class=\"sk-toggleable__content\"><pre>ColumnTransformer(transformers=[('cat',&#xa;                                 Pipeline(steps=[('impute',&#xa;                                                  SimpleImputer(fill_value='missing',&#xa;                                                                strategy='constant')),&#xa;                                                 ('onehot',&#xa;                                                  OneHotEncoder(handle_unknown='ignore'))]),&#xa;                                 ['gender', 'age_bracket']),&#xa;                                ('num',&#xa;                                 Pipeline(steps=[('impute', SimpleImputer()),&#xa;                                                 ('scale', StandardScaler())]),&#xa;                                 ['age', 'income'])])</pre></div></div></div><div class=\"sk-parallel\"><div class=\"sk-parallel-item\"><div class=\"sk-label-container\"><div class=\"sk-label sk-toggleable\"><input class=\"sk-toggleable__control sk-hidden--visually\" id=\"a6a202f8-0ea0-425f-bcb2-38cc243a74fd\" type=\"checkbox\" ><label class=\"sk-toggleable__label\" for=\"a6a202f8-0ea0-425f-bcb2-38cc243a74fd\">cat</label><div class=\"sk-toggleable__content\"><pre>['gender', 'age_bracket']</pre></div></div></div><div class=\"sk-serial\"><div class=\"sk-serial\"><div class=\"sk-serial-item\"><div class=\"sk-estimator sk-toggleable\"><input class=\"sk-toggleable__control sk-hidden--visually\" id=\"99d34abe-29de-48fc-ac9f-dff3fe6178ba\" type=\"checkbox\" ><label class=\"sk-toggleable__label\" for=\"99d34abe-29de-48fc-ac9f-dff3fe6178ba\">SimpleImputer</label><div class=\"sk-toggleable__content\"><pre>SimpleImputer(fill_value='missing', strategy='constant')</pre></div></div></div><div class=\"sk-serial-item\"><div class=\"sk-estimator sk-toggleable\"><input class=\"sk-toggleable__control sk-hidden--visually\" id=\"04668ec6-d69d-4a3c-9685-f948b84cfb3a\" type=\"checkbox\" ><label class=\"sk-toggleable__label\" for=\"04668ec6-d69d-4a3c-9685-f948b84cfb3a\">OneHotEncoder</label><div class=\"sk-toggleable__content\"><pre>OneHotEncoder(handle_unknown='ignore')</pre></div></div></div></div></div></div><div class=\"sk-parallel-item\"><div class=\"sk-label-container\"><div class=\"sk-label sk-toggleable\"><input class=\"sk-toggleable__control sk-hidden--visually\" id=\"4fb49a6b-877c-496d-9990-8f53a1d1681f\" type=\"checkbox\" ><label class=\"sk-toggleable__label\" for=\"4fb49a6b-877c-496d-9990-8f53a1d1681f\">num</label><div class=\"sk-toggleable__content\"><pre>['age', 'income']</pre></div></div></div><div class=\"sk-serial\"><div class=\"sk-serial\"><div class=\"sk-serial-item\"><div class=\"sk-estimator sk-toggleable\"><input class=\"sk-toggleable__control sk-hidden--visually\" id=\"ef48a56d-9139-45ea-b257-03ea9ea8579d\" type=\"checkbox\" ><label class=\"sk-toggleable__label\" for=\"ef48a56d-9139-45ea-b257-03ea9ea8579d\">SimpleImputer</label><div class=\"sk-toggleable__content\"><pre>SimpleImputer()</pre></div></div></div><div class=\"sk-serial-item\"><div class=\"sk-estimator sk-toggleable\"><input class=\"sk-toggleable__control sk-hidden--visually\" id=\"cfc7c22c-7d0c-434d-83bd-1c08077bf218\" type=\"checkbox\" ><label class=\"sk-toggleable__label\" for=\"cfc7c22c-7d0c-434d-83bd-1c08077bf218\">StandardScaler</label><div class=\"sk-toggleable__content\"><pre>StandardScaler()</pre></div></div></div></div></div></div></div></div><div class=\"sk-serial-item sk-dashed-wrapped\"><div class=\"sk-label-container\"><div class=\"sk-label sk-toggleable\"><input class=\"sk-toggleable__control sk-hidden--visually\" id=\"4b8891ff-adb6-4e14-bb7a-146b233fec87\" type=\"checkbox\" ><label class=\"sk-toggleable__label\" for=\"4b8891ff-adb6-4e14-bb7a-146b233fec87\">clf</label><div class=\"sk-toggleable__content\"><pre>VotingClassifier(estimators=[('rf', RandomForestClassifier()),&#xa;                             ('mlp', MLPClassifier()),&#xa;                             ('lr', LogisticRegression())])</pre></div></div></div><div class=\"sk-parallel\"><div class=\"sk-parallel-item\"><div class=\"sk-label-container\"><div class=\"sk-label sk-toggleable\"><label>rf</label></div></div><div class=\"sk-serial\"><div class=\"sk-serial-item\"><div class=\"sk-estimator sk-toggleable\"><input class=\"sk-toggleable__control sk-hidden--visually\" id=\"0015c33a-0243-49c0-9104-e22a7dc65762\" type=\"checkbox\" ><label class=\"sk-toggleable__label\" for=\"0015c33a-0243-49c0-9104-e22a7dc65762\">RandomForestClassifier</label><div class=\"sk-toggleable__content\"><pre>RandomForestClassifier()</pre></div></div></div></div></div><div class=\"sk-parallel-item\"><div class=\"sk-label-container\"><div class=\"sk-label sk-toggleable\"><label>mlp</label></div></div><div class=\"sk-serial\"><div class=\"sk-serial-item\"><div class=\"sk-estimator sk-toggleable\"><input class=\"sk-toggleable__control sk-hidden--visually\" id=\"42fadb6d-d9e4-4d5f-b7c5-d5e7c3196a06\" type=\"checkbox\" ><label class=\"sk-toggleable__label\" for=\"42fadb6d-d9e4-4d5f-b7c5-d5e7c3196a06\">MLPClassifier</label><div class=\"sk-toggleable__content\"><pre>MLPClassifier()</pre></div></div></div></div></div><div class=\"sk-parallel-item\"><div class=\"sk-label-container\"><div class=\"sk-label sk-toggleable\"><label>lr</label></div></div><div class=\"sk-serial\"><div class=\"sk-serial-item\"><div class=\"sk-estimator sk-toggleable\"><input class=\"sk-toggleable__control sk-hidden--visually\" id=\"e066f42c-59ca-4286-9b75-ab307554dabe\" type=\"checkbox\" ><label class=\"sk-toggleable__label\" for=\"e066f42c-59ca-4286-9b75-ab307554dabe\">LogisticRegression</label><div class=\"sk-toggleable__content\"><pre>LogisticRegression()</pre></div></div></div></div></div></div></div></div></div></div></body></html>"
      ],
      "text/plain": [
       "Pipeline(memory=None,\n",
       "         steps=[('preprocessor',\n",
       "                 ColumnTransformer(n_jobs=None, remainder='drop',\n",
       "                                   sparse_threshold=0.3,\n",
       "                                   transformer_weights=None,\n",
       "                                   transformers=[('cat',\n",
       "                                                  Pipeline(memory=None,\n",
       "                                                           steps=[('impute',\n",
       "                                                                   SimpleImputer(add_indicator=False,\n",
       "                                                                                 copy=True,\n",
       "                                                                                 fill_value='missing',\n",
       "                                                                                 missing_values=nan,\n",
       "                                                                                 strategy='constant',\n",
       "                                                                                 verbose=0)),\n",
       "                                                                  ('onehot',\n",
       "                                                                   OneHotEncoder(categories='au...\n",
       "                                                             warm_start=False)),\n",
       "                                              ('lr',\n",
       "                                               LogisticRegression(C=1.0,\n",
       "                                                                  class_weight=None,\n",
       "                                                                  dual=False,\n",
       "                                                                  fit_intercept=True,\n",
       "                                                                  intercept_scaling=1,\n",
       "                                                                  l1_ratio=None,\n",
       "                                                                  max_iter=100,\n",
       "                                                                  multi_class='auto',\n",
       "                                                                  n_jobs=None,\n",
       "                                                                  penalty='l2',\n",
       "                                                                  random_state=None,\n",
       "                                                                  solver='lbfgs',\n",
       "                                                                  tol=0.0001,\n",
       "                                                                  verbose=0,\n",
       "                                                                  warm_start=False))],\n",
       "                                  flatten_transform=True, n_jobs=None,\n",
       "                                  verbose=False, voting='hard',\n",
       "                                  weights=None))],\n",
       "         verbose=False)"
      ]
     },
     "execution_count": 10,
     "metadata": {},
     "output_type": "execute_result"
    }
   ],
   "source": [
    "vote_clf = VotingClassifier([\n",
    "    ('rf', RandomForestClassifier()),\n",
    "    ('mlp', MLPClassifier()),\n",
    "    ('lr', LogisticRegression())\n",
    "])\n",
    "\n",
    "pipe3  = Pipeline([\n",
    "    ('preprocessor', preprcoessor),\n",
    "    ('clf', vote_clf)\n",
    "])\n",
    "\n",
    "pipe3"
   ]
  },
  {
   "cell_type": "markdown",
   "metadata": {},
   "source": [
    "Next, we can do some dimensional reduction with a PCA and a Truncated SVD:"
   ]
  },
  {
   "cell_type": "code",
   "execution_count": 11,
   "metadata": {},
   "outputs": [
    {
     "data": {
      "text/html": [
       "<!DOCTYPE html><html lang=\"en\"><head><title>sklearn-viz</title><style>div.sk-toggleable {background-color: white;}label.sk-toggleable__label {cursor: pointer;display: block;width: 100%;margin-bottom: 0;padding: 0.2em 0.3em;box-sizing: border-box;text-align: center;}div.sk-toggleable__content {max-height: 0;max-width: 0;overflow: hidden;text-align: left;background-color: #f0f8ff;}div.sk-toggleable__content pre {margin: 0.2em;border-radius: 0.25em;background-color: #f0f8ff;}input.sk-toggleable__control:checked~div.sk-toggleable__content {max-height: 200px;max-width: 100%;overflow: auto;}div.sk-estimator input.sk-toggleable__control:checked~label.sk-toggleable__label {background-color: #d4ebff;}div.sk-label input.sk-toggleable__control:checked~label.sk-toggleable__label {background-color: #d4ebff;}input.sk-hidden--visually {border: 0;clip: rect(1px 1px 1px 1px);clip: rect(1px, 1px, 1px, 1px);height: 1px;margin: -1px;overflow: hidden;padding: 0;position: absolute;width: 1px;}div.sk-estimator {font-family: monospace;background-color: #f0f8ff;margin: 0.25em 0.25em;border: 1px dotted black;border-radius: 0.25em;box-sizing: border-box;}div.sk-estimator:hover {background-color: #d4ebff;}div.sk-parallel-item::after {content: \"\";width: 100%;border-bottom: 1px solid gray;flex-grow: 1;}div.sk-label:hover label.sk-toggleable__label {background-color: #d4ebff;}div.sk-serial::before {content: \"\";position: absolute;border-left: 1px solid gray;box-sizing: border-box;top: 2em;bottom: 0;left: 50%;}div.sk-serial {display: flex;flex-direction: column;align-items: center;float: left;background: white;}div.sk-serial-item {z-index: 1;}div.sk-parallel {display: flex;align-items: stretch;justify-content: center;}div.sk-parallel-item {display: flex;flex-direction: column;position: relative;background: white;}div.sk-parallel-item:first-child::after {align-self: flex-end;width: 50%;}div.sk-parallel-item:last-child::after {align-self: flex-start;width: 50%;}div.sk-parallel-item:only-child::after {width: 0;}div.sk-dashed-wrapped {border: 1px dashed gray;margin: 0 0.2em 0.2em 0.2em;box-sizing: border-box;padding-bottom: 0.2em;}div.sk-label label {font-family: monospace;font-weight: bold;background: white;display: inline-block;line-height: 1.4em;}div.sk-label-container {text-align: center;z-index: 1;}div.sk-container {display: flex;flex-direction: column;align-items: flex-start;position: relative;float: left;}</style></head><body><div class=\"sk-top-container\"><div class=\"sk-container\"><div class=\"sk-serial\"><div class=\"sk-serial-item sk-dashed-wrapped\"><div class=\"sk-label-container\"><div class=\"sk-label sk-toggleable\"><input class=\"sk-toggleable__control sk-hidden--visually\" id=\"48a6a04f-a34c-467e-a46b-f70fe4510d50\" type=\"checkbox\" ><label class=\"sk-toggleable__label\" for=\"48a6a04f-a34c-467e-a46b-f70fe4510d50\">preprocessor</label><div class=\"sk-toggleable__content\"><pre>ColumnTransformer(transformers=[('cat',&#xa;                                 Pipeline(steps=[('impute',&#xa;                                                  SimpleImputer(fill_value='missing',&#xa;                                                                strategy='constant')),&#xa;                                                 ('onehot',&#xa;                                                  OneHotEncoder(handle_unknown='ignore'))]),&#xa;                                 ['gender', 'age_bracket']),&#xa;                                ('num',&#xa;                                 Pipeline(steps=[('impute', SimpleImputer()),&#xa;                                                 ('scale', StandardScaler())]),&#xa;                                 ['age', 'income'])])</pre></div></div></div><div class=\"sk-parallel\"><div class=\"sk-parallel-item\"><div class=\"sk-label-container\"><div class=\"sk-label sk-toggleable\"><input class=\"sk-toggleable__control sk-hidden--visually\" id=\"2add5e13-ecb8-46be-8232-a4854aa459cc\" type=\"checkbox\" ><label class=\"sk-toggleable__label\" for=\"2add5e13-ecb8-46be-8232-a4854aa459cc\">cat</label><div class=\"sk-toggleable__content\"><pre>['gender', 'age_bracket']</pre></div></div></div><div class=\"sk-serial\"><div class=\"sk-serial\"><div class=\"sk-serial-item\"><div class=\"sk-estimator sk-toggleable\"><input class=\"sk-toggleable__control sk-hidden--visually\" id=\"719c8d77-cfc5-4c09-a524-dcf6d7b55a8b\" type=\"checkbox\" ><label class=\"sk-toggleable__label\" for=\"719c8d77-cfc5-4c09-a524-dcf6d7b55a8b\">SimpleImputer</label><div class=\"sk-toggleable__content\"><pre>SimpleImputer(fill_value='missing', strategy='constant')</pre></div></div></div><div class=\"sk-serial-item\"><div class=\"sk-estimator sk-toggleable\"><input class=\"sk-toggleable__control sk-hidden--visually\" id=\"1ccdd560-d544-42d8-83e9-af0c01bd09aa\" type=\"checkbox\" ><label class=\"sk-toggleable__label\" for=\"1ccdd560-d544-42d8-83e9-af0c01bd09aa\">OneHotEncoder</label><div class=\"sk-toggleable__content\"><pre>OneHotEncoder(handle_unknown='ignore')</pre></div></div></div></div></div></div><div class=\"sk-parallel-item\"><div class=\"sk-label-container\"><div class=\"sk-label sk-toggleable\"><input class=\"sk-toggleable__control sk-hidden--visually\" id=\"ba573d16-06fc-4e7a-8bfc-1f85c65eed36\" type=\"checkbox\" ><label class=\"sk-toggleable__label\" for=\"ba573d16-06fc-4e7a-8bfc-1f85c65eed36\">num</label><div class=\"sk-toggleable__content\"><pre>['age', 'income']</pre></div></div></div><div class=\"sk-serial\"><div class=\"sk-serial\"><div class=\"sk-serial-item\"><div class=\"sk-estimator sk-toggleable\"><input class=\"sk-toggleable__control sk-hidden--visually\" id=\"38f83353-28a9-439c-9fa2-bfbc996f9dc7\" type=\"checkbox\" ><label class=\"sk-toggleable__label\" for=\"38f83353-28a9-439c-9fa2-bfbc996f9dc7\">SimpleImputer</label><div class=\"sk-toggleable__content\"><pre>SimpleImputer()</pre></div></div></div><div class=\"sk-serial-item\"><div class=\"sk-estimator sk-toggleable\"><input class=\"sk-toggleable__control sk-hidden--visually\" id=\"9981c354-670e-4be8-ab34-82b37c9aa932\" type=\"checkbox\" ><label class=\"sk-toggleable__label\" for=\"9981c354-670e-4be8-ab34-82b37c9aa932\">StandardScaler</label><div class=\"sk-toggleable__content\"><pre>StandardScaler()</pre></div></div></div></div></div></div></div></div><div class=\"sk-serial-item sk-dashed-wrapped\"><div class=\"sk-label-container\"><div class=\"sk-label sk-toggleable\"><input class=\"sk-toggleable__control sk-hidden--visually\" id=\"a5d96608-f526-4a98-95e2-0deb50ba9308\" type=\"checkbox\" ><label class=\"sk-toggleable__label\" for=\"a5d96608-f526-4a98-95e2-0deb50ba9308\">dim_reduce</label><div class=\"sk-toggleable__content\"><pre>FeatureUnion(transformer_list=[('pca', PCA(n_components=1)),&#xa;                               ('svd', TruncatedSVD())])</pre></div></div></div><div class=\"sk-parallel\"><div class=\"sk-parallel-item\"><div class=\"sk-label-container\"><div class=\"sk-label sk-toggleable\"><label>pca</label></div></div><div class=\"sk-serial\"><div class=\"sk-serial-item\"><div class=\"sk-estimator sk-toggleable\"><input class=\"sk-toggleable__control sk-hidden--visually\" id=\"7a72e255-cc0a-4fe0-bdd8-8454286043ed\" type=\"checkbox\" ><label class=\"sk-toggleable__label\" for=\"7a72e255-cc0a-4fe0-bdd8-8454286043ed\">PCA</label><div class=\"sk-toggleable__content\"><pre>PCA(n_components=1)</pre></div></div></div></div></div><div class=\"sk-parallel-item\"><div class=\"sk-label-container\"><div class=\"sk-label sk-toggleable\"><label>svd</label></div></div><div class=\"sk-serial\"><div class=\"sk-serial-item\"><div class=\"sk-estimator sk-toggleable\"><input class=\"sk-toggleable__control sk-hidden--visually\" id=\"e9370c2f-9fc3-4f84-94ae-10fbbcb299fa\" type=\"checkbox\" ><label class=\"sk-toggleable__label\" for=\"e9370c2f-9fc3-4f84-94ae-10fbbcb299fa\">TruncatedSVD</label><div class=\"sk-toggleable__content\"><pre>TruncatedSVD()</pre></div></div></div></div></div></div></div><div class=\"sk-serial-item sk-dashed-wrapped\"><div class=\"sk-label-container\"><div class=\"sk-label sk-toggleable\"><input class=\"sk-toggleable__control sk-hidden--visually\" id=\"ec41ed87-fc7e-473b-8305-a9a19db88c99\" type=\"checkbox\" ><label class=\"sk-toggleable__label\" for=\"ec41ed87-fc7e-473b-8305-a9a19db88c99\">clf</label><div class=\"sk-toggleable__content\"><pre>VotingClassifier(estimators=[('rf', RandomForestClassifier()),&#xa;                             ('mlp', MLPClassifier()),&#xa;                             ('lr', LogisticRegression())])</pre></div></div></div><div class=\"sk-parallel\"><div class=\"sk-parallel-item\"><div class=\"sk-label-container\"><div class=\"sk-label sk-toggleable\"><label>rf</label></div></div><div class=\"sk-serial\"><div class=\"sk-serial-item\"><div class=\"sk-estimator sk-toggleable\"><input class=\"sk-toggleable__control sk-hidden--visually\" id=\"aa00852a-98c6-4b8d-b5e1-2a69300dbc14\" type=\"checkbox\" ><label class=\"sk-toggleable__label\" for=\"aa00852a-98c6-4b8d-b5e1-2a69300dbc14\">RandomForestClassifier</label><div class=\"sk-toggleable__content\"><pre>RandomForestClassifier()</pre></div></div></div></div></div><div class=\"sk-parallel-item\"><div class=\"sk-label-container\"><div class=\"sk-label sk-toggleable\"><label>mlp</label></div></div><div class=\"sk-serial\"><div class=\"sk-serial-item\"><div class=\"sk-estimator sk-toggleable\"><input class=\"sk-toggleable__control sk-hidden--visually\" id=\"fedb4661-9333-4d14-a816-9bacfbc65931\" type=\"checkbox\" ><label class=\"sk-toggleable__label\" for=\"fedb4661-9333-4d14-a816-9bacfbc65931\">MLPClassifier</label><div class=\"sk-toggleable__content\"><pre>MLPClassifier()</pre></div></div></div></div></div><div class=\"sk-parallel-item\"><div class=\"sk-label-container\"><div class=\"sk-label sk-toggleable\"><label>lr</label></div></div><div class=\"sk-serial\"><div class=\"sk-serial-item\"><div class=\"sk-estimator sk-toggleable\"><input class=\"sk-toggleable__control sk-hidden--visually\" id=\"d612cdcb-d789-40ed-a8d5-8995861762b2\" type=\"checkbox\" ><label class=\"sk-toggleable__label\" for=\"d612cdcb-d789-40ed-a8d5-8995861762b2\">LogisticRegression</label><div class=\"sk-toggleable__content\"><pre>LogisticRegression()</pre></div></div></div></div></div></div></div></div></div></div></body></html>"
      ],
      "text/plain": [
       "Pipeline(memory=None,\n",
       "         steps=[('preprocessor',\n",
       "                 ColumnTransformer(n_jobs=None, remainder='drop',\n",
       "                                   sparse_threshold=0.3,\n",
       "                                   transformer_weights=None,\n",
       "                                   transformers=[('cat',\n",
       "                                                  Pipeline(memory=None,\n",
       "                                                           steps=[('impute',\n",
       "                                                                   SimpleImputer(add_indicator=False,\n",
       "                                                                                 copy=True,\n",
       "                                                                                 fill_value='missing',\n",
       "                                                                                 missing_values=nan,\n",
       "                                                                                 strategy='constant',\n",
       "                                                                                 verbose=0)),\n",
       "                                                                  ('onehot',\n",
       "                                                                   OneHotEncoder(categories='au...\n",
       "                                                             warm_start=False)),\n",
       "                                              ('lr',\n",
       "                                               LogisticRegression(C=1.0,\n",
       "                                                                  class_weight=None,\n",
       "                                                                  dual=False,\n",
       "                                                                  fit_intercept=True,\n",
       "                                                                  intercept_scaling=1,\n",
       "                                                                  l1_ratio=None,\n",
       "                                                                  max_iter=100,\n",
       "                                                                  multi_class='auto',\n",
       "                                                                  n_jobs=None,\n",
       "                                                                  penalty='l2',\n",
       "                                                                  random_state=None,\n",
       "                                                                  solver='lbfgs',\n",
       "                                                                  tol=0.0001,\n",
       "                                                                  verbose=0,\n",
       "                                                                  warm_start=False))],\n",
       "                                  flatten_transform=True, n_jobs=None,\n",
       "                                  verbose=False, voting='hard',\n",
       "                                  weights=None))],\n",
       "         verbose=False)"
      ]
     },
     "execution_count": 11,
     "metadata": {},
     "output_type": "execute_result"
    }
   ],
   "source": [
    "from sklearn.pipeline import FeatureUnion\n",
    "from sklearn.decomposition import PCA, TruncatedSVD\n",
    "\n",
    "dim_reduce = FeatureUnion([(\"pca\", PCA(n_components=1)),\n",
    "                           (\"svd\", TruncatedSVD(n_components=2))])\n",
    "\n",
    "pipe4 = Pipeline([\n",
    "    ('preprocessor', preprcoessor),\n",
    "    ('dim_reduce', dim_reduce),\n",
    "    ('clf', vote_clf)\n",
    "])\n",
    "\n",
    "pipe4"
   ]
  }
 ],
 "metadata": {
  "kernelspec": {
   "display_name": "sk2",
   "language": "python",
   "name": "conda-env-sk2-py"
  },
  "language_info": {
   "codemirror_mode": {
    "name": "ipython",
    "version": 3
   },
   "file_extension": ".py",
   "mimetype": "text/x-python",
   "name": "python",
   "nbconvert_exporter": "python",
   "pygments_lexer": "ipython3",
   "version": "3.7.5"
  }
 },
 "nbformat": 4,
 "nbformat_minor": 4
}
