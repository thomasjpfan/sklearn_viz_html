{
 "cells": [
  {
   "cell_type": "markdown",
   "metadata": {},
   "source": [
    "# Workflow for Visualizing Esiimators\n",
    "\n",
    "We can build a simple pipeline for classification:"
   ]
  },
  {
   "cell_type": "code",
   "execution_count": 1,
   "metadata": {},
   "outputs": [],
   "source": [
    "from sklearn.pipeline import Pipeline\n",
    "from sklearn.decomposition import PCA\n",
    "from sklearn.linear_model import LogisticRegression\n",
    "from sklearn.model_selection import GridSearchCV\n",
    "from sklearn.svm import LinearSVC\n",
    "from sklearn.ensemble import StackingClassifier\n",
    "from sklearn.compose import ColumnTransformer\n",
    "from sklearn.impute import SimpleImputer\n",
    "from sklearn.preprocessing import OneHotEncoder\n",
    "from sklearn.preprocessing import StandardScaler\n",
    "from sklearn.ensemble import VotingClassifier\n",
    "from sklearn.ensemble import RandomForestClassifier\n",
    "from sklearn.neural_network import MLPClassifier\n",
    "from sklearn.pipeline import FeatureUnion\n",
    "from sklearn.decomposition import TruncatedSVD"
   ]
  },
  {
   "cell_type": "code",
   "execution_count": 2,
   "metadata": {},
   "outputs": [
    {
     "data": {
      "text/html": [
       "<!DOCTYPE html><html lang=\"en\"><head><title>sklearn-viz</title><style>div.sk-top-container {color: black;background-color: white;}div.sk-toggleable {background-color: white;}label.sk-toggleable__label {cursor: pointer;display: block;width: 100%;margin-bottom: 0;padding: 0.2em 0.3em;box-sizing: border-box;text-align: center;}div.sk-toggleable__content {max-height: 0;max-width: 0;overflow: hidden;text-align: left;background-color: #f0f8ff;}div.sk-toggleable__content pre {margin: 0.2em;color: black;border-radius: 0.25em;background-color: #f0f8ff;}input.sk-toggleable__control:checked~div.sk-toggleable__content {max-height: 200px;max-width: 100%;overflow: auto;}div.sk-estimator input.sk-toggleable__control:checked~label.sk-toggleable__label {background-color: #d4ebff;}div.sk-label input.sk-toggleable__control:checked~label.sk-toggleable__label {background-color: #d4ebff;}input.sk-hidden--visually {border: 0;clip: rect(1px 1px 1px 1px);clip: rect(1px, 1px, 1px, 1px);height: 1px;margin: -1px;overflow: hidden;padding: 0;position: absolute;width: 1px;}div.sk-estimator {font-family: monospace;background-color: #f0f8ff;margin: 0.25em 0.25em;border: 1px dotted black;border-radius: 0.25em;box-sizing: border-box;}div.sk-estimator:hover {background-color: #d4ebff;}div.sk-parallel-item::after {content: \"\";width: 100%;border-bottom: 1px solid gray;flex-grow: 1;}div.sk-label:hover label.sk-toggleable__label {background-color: #d4ebff;}div.sk-serial::before {content: \"\";position: absolute;border-left: 1px solid gray;box-sizing: border-box;top: 2em;bottom: 0;left: 50%;}div.sk-serial {display: flex;flex-direction: column;align-items: center;background-color: white;}div.sk-item {z-index: 1;}div.sk-parallel {display: flex;align-items: stretch;justify-content: center;background-color: white;}div.sk-parallel-item {display: flex;flex-direction: column;position: relative;background-color: white;}div.sk-parallel-item:first-child::after {align-self: flex-end;width: 50%;}div.sk-parallel-item:last-child::after {align-self: flex-start;width: 50%;}div.sk-parallel-item:only-child::after {width: 0;}div.sk-dashed-wrapped {border: 1px dashed gray;margin: 0.2em;box-sizing: border-box;padding-bottom: 0.1em;background-color: white;position: relative;}div.sk-label label {font-family: monospace;font-weight: bold;background-color: white;display: inline-block;line-height: 1.2em;}div.sk-label-container {position: relative;z-index: 2;text-align: center;}div.sk-container {display: flex;flex-direction: column;align-items: flex-start;position: relative;float: left;}</style></head><body><div class=\"sk-top-container\"><div class=\"sk-container\"><div class=\"sk-item\"><div class=\"sk-estimator sk-toggleable\"><input class=\"sk-toggleable__control sk-hidden--visually\" id=\"fb15c0ed-5222-4daa-82f2-54bb62e234ad\" type=\"checkbox\" checked><label class=\"sk-toggleable__label\" for=\"fb15c0ed-5222-4daa-82f2-54bb62e234ad\">PCA</label><div class=\"sk-toggleable__content\"><pre>PCA(copy=True, iterated_power='auto', n_components=10, random_state=None,\n",
       "    svd_solver='auto', tol=0.0, whiten=False)</pre></div></div></div></div></div></body></html>"
      ],
      "text/plain": [
       "PCA(copy=True, iterated_power='auto', n_components=10, random_state=None,\n",
       "    svd_solver='auto', tol=0.0, whiten=False)"
      ]
     },
     "execution_count": 2,
     "metadata": {},
     "output_type": "execute_result"
    }
   ],
   "source": [
    "pca = PCA(n_components=10)\n",
    "pca"
   ]
  },
  {
   "cell_type": "code",
   "execution_count": 3,
   "metadata": {},
   "outputs": [
    {
     "data": {
      "text/html": [
       "<!DOCTYPE html><html lang=\"en\"><head><title>sklearn-viz</title><style>div.sk-top-container {color: black;background-color: white;}div.sk-toggleable {background-color: white;}label.sk-toggleable__label {cursor: pointer;display: block;width: 100%;margin-bottom: 0;padding: 0.2em 0.3em;box-sizing: border-box;text-align: center;}div.sk-toggleable__content {max-height: 0;max-width: 0;overflow: hidden;text-align: left;background-color: #f0f8ff;}div.sk-toggleable__content pre {margin: 0.2em;color: black;border-radius: 0.25em;background-color: #f0f8ff;}input.sk-toggleable__control:checked~div.sk-toggleable__content {max-height: 200px;max-width: 100%;overflow: auto;}div.sk-estimator input.sk-toggleable__control:checked~label.sk-toggleable__label {background-color: #d4ebff;}div.sk-label input.sk-toggleable__control:checked~label.sk-toggleable__label {background-color: #d4ebff;}input.sk-hidden--visually {border: 0;clip: rect(1px 1px 1px 1px);clip: rect(1px, 1px, 1px, 1px);height: 1px;margin: -1px;overflow: hidden;padding: 0;position: absolute;width: 1px;}div.sk-estimator {font-family: monospace;background-color: #f0f8ff;margin: 0.25em 0.25em;border: 1px dotted black;border-radius: 0.25em;box-sizing: border-box;}div.sk-estimator:hover {background-color: #d4ebff;}div.sk-parallel-item::after {content: \"\";width: 100%;border-bottom: 1px solid gray;flex-grow: 1;}div.sk-label:hover label.sk-toggleable__label {background-color: #d4ebff;}div.sk-serial::before {content: \"\";position: absolute;border-left: 1px solid gray;box-sizing: border-box;top: 2em;bottom: 0;left: 50%;}div.sk-serial {display: flex;flex-direction: column;align-items: center;background-color: white;}div.sk-item {z-index: 1;}div.sk-parallel {display: flex;align-items: stretch;justify-content: center;background-color: white;}div.sk-parallel-item {display: flex;flex-direction: column;position: relative;background-color: white;}div.sk-parallel-item:first-child::after {align-self: flex-end;width: 50%;}div.sk-parallel-item:last-child::after {align-self: flex-start;width: 50%;}div.sk-parallel-item:only-child::after {width: 0;}div.sk-dashed-wrapped {border: 1px dashed gray;margin: 0.2em;box-sizing: border-box;padding-bottom: 0.1em;background-color: white;position: relative;}div.sk-label label {font-family: monospace;font-weight: bold;background-color: white;display: inline-block;line-height: 1.2em;}div.sk-label-container {position: relative;z-index: 2;text-align: center;}div.sk-container {display: flex;flex-direction: column;align-items: flex-start;position: relative;float: left;}</style></head><body><div class=\"sk-top-container\"><div class=\"sk-container\"><div class=\"sk-item sk-dashed-wrapped\"><div class=\"sk-label-container\"><div class=\"sk-label sk-toggleable\"><input class=\"sk-toggleable__control sk-hidden--visually\" id=\"298d44ba-accc-4760-84da-2d3bb12b7189\" type=\"checkbox\" ><label class=\"sk-toggleable__label\" for=\"298d44ba-accc-4760-84da-2d3bb12b7189\">GridSearchCV</label><div class=\"sk-toggleable__content\"><pre>GridSearchCV(estimator=PCA(n_components=10),\n",
       "             param_grid={'n_components': [1, 2]})</pre></div></div></div><div class=\"sk-serial\"><div class=\"sk-item\"><div class=\"sk-estimator sk-toggleable\"><input class=\"sk-toggleable__control sk-hidden--visually\" id=\"bcf5903b-56b8-48f9-b3bd-3aa6222a2b3e\" type=\"checkbox\" ><label class=\"sk-toggleable__label\" for=\"bcf5903b-56b8-48f9-b3bd-3aa6222a2b3e\">PCA</label><div class=\"sk-toggleable__content\"><pre>PCA(n_components=10)</pre></div></div></div></div></div></div></div></body></html>"
      ],
      "text/plain": [
       "GridSearchCV(cv=None, error_score=nan,\n",
       "             estimator=PCA(copy=True, iterated_power='auto', n_components=10,\n",
       "                           random_state=None, svd_solver='auto', tol=0.0,\n",
       "                           whiten=False),\n",
       "             iid='deprecated', n_jobs=None, param_grid={'n_components': [1, 2]},\n",
       "             pre_dispatch='2*n_jobs', refit=True, return_train_score=False,\n",
       "             scoring=None, verbose=0)"
      ]
     },
     "execution_count": 3,
     "metadata": {},
     "output_type": "execute_result"
    }
   ],
   "source": [
    "grid = GridSearchCV(pca, {'n_components': [1, 2]})\n",
    "grid"
   ]
  },
  {
   "cell_type": "code",
   "execution_count": 4,
   "metadata": {},
   "outputs": [
    {
     "data": {
      "text/html": [
       "<!DOCTYPE html><html lang=\"en\"><head><title>sklearn-viz</title><style>div.sk-top-container {color: black;background-color: white;}div.sk-toggleable {background-color: white;}label.sk-toggleable__label {cursor: pointer;display: block;width: 100%;margin-bottom: 0;padding: 0.2em 0.3em;box-sizing: border-box;text-align: center;}div.sk-toggleable__content {max-height: 0;max-width: 0;overflow: hidden;text-align: left;background-color: #f0f8ff;}div.sk-toggleable__content pre {margin: 0.2em;color: black;border-radius: 0.25em;background-color: #f0f8ff;}input.sk-toggleable__control:checked~div.sk-toggleable__content {max-height: 200px;max-width: 100%;overflow: auto;}div.sk-estimator input.sk-toggleable__control:checked~label.sk-toggleable__label {background-color: #d4ebff;}div.sk-label input.sk-toggleable__control:checked~label.sk-toggleable__label {background-color: #d4ebff;}input.sk-hidden--visually {border: 0;clip: rect(1px 1px 1px 1px);clip: rect(1px, 1px, 1px, 1px);height: 1px;margin: -1px;overflow: hidden;padding: 0;position: absolute;width: 1px;}div.sk-estimator {font-family: monospace;background-color: #f0f8ff;margin: 0.25em 0.25em;border: 1px dotted black;border-radius: 0.25em;box-sizing: border-box;}div.sk-estimator:hover {background-color: #d4ebff;}div.sk-parallel-item::after {content: \"\";width: 100%;border-bottom: 1px solid gray;flex-grow: 1;}div.sk-label:hover label.sk-toggleable__label {background-color: #d4ebff;}div.sk-serial::before {content: \"\";position: absolute;border-left: 1px solid gray;box-sizing: border-box;top: 2em;bottom: 0;left: 50%;}div.sk-serial {display: flex;flex-direction: column;align-items: center;background-color: white;}div.sk-item {z-index: 1;}div.sk-parallel {display: flex;align-items: stretch;justify-content: center;background-color: white;}div.sk-parallel-item {display: flex;flex-direction: column;position: relative;background-color: white;}div.sk-parallel-item:first-child::after {align-self: flex-end;width: 50%;}div.sk-parallel-item:last-child::after {align-self: flex-start;width: 50%;}div.sk-parallel-item:only-child::after {width: 0;}div.sk-dashed-wrapped {border: 1px dashed gray;margin: 0.2em;box-sizing: border-box;padding-bottom: 0.1em;background-color: white;position: relative;}div.sk-label label {font-family: monospace;font-weight: bold;background-color: white;display: inline-block;line-height: 1.2em;}div.sk-label-container {position: relative;z-index: 2;text-align: center;}div.sk-container {display: flex;flex-direction: column;align-items: flex-start;position: relative;float: left;}</style></head><body><div class=\"sk-top-container\"><div class=\"sk-container\"><div class=\"sk-item sk-dashed-wrapped\"><div class=\"sk-label-container\"><div class=\"sk-label sk-toggleable\"><input class=\"sk-toggleable__control sk-hidden--visually\" id=\"9c24a856-f6fc-4aef-9cfa-9778dd51031e\" type=\"checkbox\" ><label class=\"sk-toggleable__label\" for=\"9c24a856-f6fc-4aef-9cfa-9778dd51031e\">Pipeline</label><div class=\"sk-toggleable__content\"><pre>Pipeline(steps=[('pca', PCA()), ('lr', LogisticRegression())])</pre></div></div></div><div class=\"sk-serial\"><div class=\"sk-item\"><div class=\"sk-estimator sk-toggleable\"><input class=\"sk-toggleable__control sk-hidden--visually\" id=\"7da62f47-9d92-485f-b48f-368ba57c093e\" type=\"checkbox\" ><label class=\"sk-toggleable__label\" for=\"7da62f47-9d92-485f-b48f-368ba57c093e\">PCA</label><div class=\"sk-toggleable__content\"><pre>PCA()</pre></div></div></div><div class=\"sk-item\"><div class=\"sk-estimator sk-toggleable\"><input class=\"sk-toggleable__control sk-hidden--visually\" id=\"45cfda7b-f628-49f1-83d8-cefd5fcaaf66\" type=\"checkbox\" ><label class=\"sk-toggleable__label\" for=\"45cfda7b-f628-49f1-83d8-cefd5fcaaf66\">LogisticRegression</label><div class=\"sk-toggleable__content\"><pre>LogisticRegression()</pre></div></div></div></div></div></div></div></body></html>"
      ],
      "text/plain": [
       "Pipeline(memory=None,\n",
       "         steps=[('pca',\n",
       "                 PCA(copy=True, iterated_power='auto', n_components=None,\n",
       "                     random_state=None, svd_solver='auto', tol=0.0,\n",
       "                     whiten=False)),\n",
       "                ('lr',\n",
       "                 LogisticRegression(C=1.0, class_weight=None, dual=False,\n",
       "                                    fit_intercept=True, intercept_scaling=1,\n",
       "                                    l1_ratio=None, max_iter=100,\n",
       "                                    multi_class='auto', n_jobs=None,\n",
       "                                    penalty='l2', random_state=None,\n",
       "                                    solver='lbfgs', tol=0.0001, verbose=0,\n",
       "                                    warm_start=False))],\n",
       "         verbose=False)"
      ]
     },
     "execution_count": 4,
     "metadata": {},
     "output_type": "execute_result"
    }
   ],
   "source": [
    "pca = PCA()\n",
    "lr = LogisticRegression()\n",
    "pipe1 = Pipeline([\n",
    "    ('pca', PCA()),\n",
    "    ('lr', LogisticRegression())\n",
    "])\n",
    "\n",
    "pipe1"
   ]
  },
  {
   "cell_type": "markdown",
   "metadata": {},
   "source": [
    "To add a column transformer that handles categories and numerical features:"
   ]
  },
  {
   "cell_type": "code",
   "execution_count": 5,
   "metadata": {},
   "outputs": [
    {
     "data": {
      "text/html": [
       "<!DOCTYPE html><html lang=\"en\"><head><title>sklearn-viz</title><style>div.sk-top-container {color: black;background-color: white;}div.sk-toggleable {background-color: white;}label.sk-toggleable__label {cursor: pointer;display: block;width: 100%;margin-bottom: 0;padding: 0.2em 0.3em;box-sizing: border-box;text-align: center;}div.sk-toggleable__content {max-height: 0;max-width: 0;overflow: hidden;text-align: left;background-color: #f0f8ff;}div.sk-toggleable__content pre {margin: 0.2em;color: black;border-radius: 0.25em;background-color: #f0f8ff;}input.sk-toggleable__control:checked~div.sk-toggleable__content {max-height: 200px;max-width: 100%;overflow: auto;}div.sk-estimator input.sk-toggleable__control:checked~label.sk-toggleable__label {background-color: #d4ebff;}div.sk-label input.sk-toggleable__control:checked~label.sk-toggleable__label {background-color: #d4ebff;}input.sk-hidden--visually {border: 0;clip: rect(1px 1px 1px 1px);clip: rect(1px, 1px, 1px, 1px);height: 1px;margin: -1px;overflow: hidden;padding: 0;position: absolute;width: 1px;}div.sk-estimator {font-family: monospace;background-color: #f0f8ff;margin: 0.25em 0.25em;border: 1px dotted black;border-radius: 0.25em;box-sizing: border-box;}div.sk-estimator:hover {background-color: #d4ebff;}div.sk-parallel-item::after {content: \"\";width: 100%;border-bottom: 1px solid gray;flex-grow: 1;}div.sk-label:hover label.sk-toggleable__label {background-color: #d4ebff;}div.sk-serial::before {content: \"\";position: absolute;border-left: 1px solid gray;box-sizing: border-box;top: 2em;bottom: 0;left: 50%;}div.sk-serial {display: flex;flex-direction: column;align-items: center;background-color: white;}div.sk-item {z-index: 1;}div.sk-parallel {display: flex;align-items: stretch;justify-content: center;background-color: white;}div.sk-parallel-item {display: flex;flex-direction: column;position: relative;background-color: white;}div.sk-parallel-item:first-child::after {align-self: flex-end;width: 50%;}div.sk-parallel-item:last-child::after {align-self: flex-start;width: 50%;}div.sk-parallel-item:only-child::after {width: 0;}div.sk-dashed-wrapped {border: 1px dashed gray;margin: 0.2em;box-sizing: border-box;padding-bottom: 0.1em;background-color: white;position: relative;}div.sk-label label {font-family: monospace;font-weight: bold;background-color: white;display: inline-block;line-height: 1.2em;}div.sk-label-container {position: relative;z-index: 2;text-align: center;}div.sk-container {display: flex;flex-direction: column;align-items: flex-start;position: relative;float: left;}</style></head><body><div class=\"sk-top-container\"><div class=\"sk-container\"><div class=\"sk-item sk-dashed-wrapped\"><div class=\"sk-label-container\"><div class=\"sk-label sk-toggleable\"><input class=\"sk-toggleable__control sk-hidden--visually\" id=\"58e3e9bc-f9c0-408c-8fca-5c5f7deb3897\" type=\"checkbox\" ><label class=\"sk-toggleable__label\" for=\"58e3e9bc-f9c0-408c-8fca-5c5f7deb3897\">ColumnTransformer</label><div class=\"sk-toggleable__content\"><pre>ColumnTransformer(transformers=[('cat',\n",
       "                                 Pipeline(steps=[('impute',\n",
       "                                                  SimpleImputer(fill_value='missing',\n",
       "                                                                strategy='constant')),\n",
       "                                                 ('onehot',\n",
       "                                                  OneHotEncoder(handle_unknown='ignore'))]),\n",
       "                                 ['gender', 'age_bracket']),\n",
       "                                ('num',\n",
       "                                 Pipeline(steps=[('impute', SimpleImputer()),\n",
       "                                                 ('scale', StandardScaler())]),\n",
       "                                 ['age', 'income'])])</pre></div></div></div><div class=\"sk-parallel\"><div class=\"sk-parallel-item\"><div class=\"sk-label-container\"><div class=\"sk-label sk-toggleable\"><input class=\"sk-toggleable__control sk-hidden--visually\" id=\"ea12a6a7-a195-48a0-9bfc-b73eacb4ccec\" type=\"checkbox\" ><label class=\"sk-toggleable__label\" for=\"ea12a6a7-a195-48a0-9bfc-b73eacb4ccec\">cat</label><div class=\"sk-toggleable__content\"><pre>['gender', 'age_bracket']</pre></div></div></div><div class=\"sk-serial\"><div class=\"sk-item\"><div class=\"sk-serial\"><div class=\"sk-item\"><div class=\"sk-estimator sk-toggleable\"><input class=\"sk-toggleable__control sk-hidden--visually\" id=\"ac37c8ae-a34e-4ff4-8370-5dc33ee00aee\" type=\"checkbox\" ><label class=\"sk-toggleable__label\" for=\"ac37c8ae-a34e-4ff4-8370-5dc33ee00aee\">SimpleImputer</label><div class=\"sk-toggleable__content\"><pre>SimpleImputer(fill_value='missing', strategy='constant')</pre></div></div></div><div class=\"sk-item\"><div class=\"sk-estimator sk-toggleable\"><input class=\"sk-toggleable__control sk-hidden--visually\" id=\"083884c6-3a81-46d2-ab01-91dcf5a3342f\" type=\"checkbox\" ><label class=\"sk-toggleable__label\" for=\"083884c6-3a81-46d2-ab01-91dcf5a3342f\">OneHotEncoder</label><div class=\"sk-toggleable__content\"><pre>OneHotEncoder(handle_unknown='ignore')</pre></div></div></div></div></div></div></div><div class=\"sk-parallel-item\"><div class=\"sk-label-container\"><div class=\"sk-label sk-toggleable\"><input class=\"sk-toggleable__control sk-hidden--visually\" id=\"e85f4438-b4f1-4551-96fd-c995d1a2b1ec\" type=\"checkbox\" ><label class=\"sk-toggleable__label\" for=\"e85f4438-b4f1-4551-96fd-c995d1a2b1ec\">num</label><div class=\"sk-toggleable__content\"><pre>['age', 'income']</pre></div></div></div><div class=\"sk-serial\"><div class=\"sk-item\"><div class=\"sk-serial\"><div class=\"sk-item\"><div class=\"sk-estimator sk-toggleable\"><input class=\"sk-toggleable__control sk-hidden--visually\" id=\"5990648d-0346-4387-b7d3-bb983b53ee48\" type=\"checkbox\" ><label class=\"sk-toggleable__label\" for=\"5990648d-0346-4387-b7d3-bb983b53ee48\">SimpleImputer</label><div class=\"sk-toggleable__content\"><pre>SimpleImputer()</pre></div></div></div><div class=\"sk-item\"><div class=\"sk-estimator sk-toggleable\"><input class=\"sk-toggleable__control sk-hidden--visually\" id=\"6820ee1b-1f11-4373-a870-e35817535e31\" type=\"checkbox\" ><label class=\"sk-toggleable__label\" for=\"6820ee1b-1f11-4373-a870-e35817535e31\">StandardScaler</label><div class=\"sk-toggleable__content\"><pre>StandardScaler()</pre></div></div></div></div></div></div></div></div></div></div></div></body></html>"
      ],
      "text/plain": [
       "ColumnTransformer(n_jobs=None, remainder='drop', sparse_threshold=0.3,\n",
       "                  transformer_weights=None,\n",
       "                  transformers=[('cat',\n",
       "                                 Pipeline(memory=None,\n",
       "                                          steps=[('impute',\n",
       "                                                  SimpleImputer(add_indicator=False,\n",
       "                                                                copy=True,\n",
       "                                                                fill_value='missing',\n",
       "                                                                missing_values=nan,\n",
       "                                                                strategy='constant',\n",
       "                                                                verbose=0)),\n",
       "                                                 ('onehot',\n",
       "                                                  OneHotEncoder(categories='auto',\n",
       "                                                                drop=None,\n",
       "                                                                dtype=<class 'numpy.float64'>,\n",
       "                                                                handle_unknown='ignore',\n",
       "                                                                sparse=True))],\n",
       "                                          verbose=False),\n",
       "                                 ['gender', 'age_bracket']),\n",
       "                                ('num',\n",
       "                                 Pipeline(memory=None,\n",
       "                                          steps=[('impute',\n",
       "                                                  SimpleImputer(add_indicator=False,\n",
       "                                                                copy=True,\n",
       "                                                                fill_value=None,\n",
       "                                                                missing_values=nan,\n",
       "                                                                strategy='mean',\n",
       "                                                                verbose=0)),\n",
       "                                                 ('scale',\n",
       "                                                  StandardScaler(copy=True,\n",
       "                                                                 with_mean=True,\n",
       "                                                                 with_std=True))],\n",
       "                                          verbose=False),\n",
       "                                 ['age', 'income'])],\n",
       "                  verbose=False)"
      ]
     },
     "execution_count": 5,
     "metadata": {},
     "output_type": "execute_result"
    }
   ],
   "source": [
    "cat_pipe = Pipeline([\n",
    "    ('impute', SimpleImputer(strategy='constant', fill_value='missing')),\n",
    "    ('onehot', OneHotEncoder(handle_unknown='ignore'))\n",
    "])\n",
    "\n",
    "num_pipe = Pipeline([\n",
    "    ('impute', SimpleImputer()),\n",
    "    ('scale', StandardScaler())\n",
    "])\n",
    "\n",
    "preprcoessor = ColumnTransformer([\n",
    "    ('cat', cat_pipe, ['gender', 'age_bracket']),\n",
    "    ('num', num_pipe, ['age', 'income'])\n",
    "])\n",
    "\n",
    "preprcoessor"
   ]
  },
  {
   "cell_type": "markdown",
   "metadata": {},
   "source": [
    "Next, we can attached a classifier to this preprocessor:"
   ]
  },
  {
   "cell_type": "code",
   "execution_count": 6,
   "metadata": {},
   "outputs": [
    {
     "data": {
      "text/html": [
       "<!DOCTYPE html><html lang=\"en\"><head><title>sklearn-viz</title><style>div.sk-top-container {color: black;background-color: white;}div.sk-toggleable {background-color: white;}label.sk-toggleable__label {cursor: pointer;display: block;width: 100%;margin-bottom: 0;padding: 0.2em 0.3em;box-sizing: border-box;text-align: center;}div.sk-toggleable__content {max-height: 0;max-width: 0;overflow: hidden;text-align: left;background-color: #f0f8ff;}div.sk-toggleable__content pre {margin: 0.2em;color: black;border-radius: 0.25em;background-color: #f0f8ff;}input.sk-toggleable__control:checked~div.sk-toggleable__content {max-height: 200px;max-width: 100%;overflow: auto;}div.sk-estimator input.sk-toggleable__control:checked~label.sk-toggleable__label {background-color: #d4ebff;}div.sk-label input.sk-toggleable__control:checked~label.sk-toggleable__label {background-color: #d4ebff;}input.sk-hidden--visually {border: 0;clip: rect(1px 1px 1px 1px);clip: rect(1px, 1px, 1px, 1px);height: 1px;margin: -1px;overflow: hidden;padding: 0;position: absolute;width: 1px;}div.sk-estimator {font-family: monospace;background-color: #f0f8ff;margin: 0.25em 0.25em;border: 1px dotted black;border-radius: 0.25em;box-sizing: border-box;}div.sk-estimator:hover {background-color: #d4ebff;}div.sk-parallel-item::after {content: \"\";width: 100%;border-bottom: 1px solid gray;flex-grow: 1;}div.sk-label:hover label.sk-toggleable__label {background-color: #d4ebff;}div.sk-serial::before {content: \"\";position: absolute;border-left: 1px solid gray;box-sizing: border-box;top: 2em;bottom: 0;left: 50%;}div.sk-serial {display: flex;flex-direction: column;align-items: center;background-color: white;}div.sk-item {z-index: 1;}div.sk-parallel {display: flex;align-items: stretch;justify-content: center;background-color: white;}div.sk-parallel-item {display: flex;flex-direction: column;position: relative;background-color: white;}div.sk-parallel-item:first-child::after {align-self: flex-end;width: 50%;}div.sk-parallel-item:last-child::after {align-self: flex-start;width: 50%;}div.sk-parallel-item:only-child::after {width: 0;}div.sk-dashed-wrapped {border: 1px dashed gray;margin: 0.2em;box-sizing: border-box;padding-bottom: 0.1em;background-color: white;position: relative;}div.sk-label label {font-family: monospace;font-weight: bold;background-color: white;display: inline-block;line-height: 1.2em;}div.sk-label-container {position: relative;z-index: 2;text-align: center;}div.sk-container {display: flex;flex-direction: column;align-items: flex-start;position: relative;float: left;}</style></head><body><div class=\"sk-top-container\"><div class=\"sk-container\"><div class=\"sk-item sk-dashed-wrapped\"><div class=\"sk-label-container\"><div class=\"sk-label sk-toggleable\"><input class=\"sk-toggleable__control sk-hidden--visually\" id=\"6c2347fd-4b7a-4efd-b34e-74e4aa876c5f\" type=\"checkbox\" ><label class=\"sk-toggleable__label\" for=\"6c2347fd-4b7a-4efd-b34e-74e4aa876c5f\">Pipeline</label><div class=\"sk-toggleable__content\"><pre>Pipeline(steps=[('preprocessor',\n",
       "                 ColumnTransformer(transformers=[('cat',\n",
       "                                                  Pipeline(steps=[('impute',\n",
       "                                                                   SimpleImputer(fill_value='missing',\n",
       "                                                                                 strategy='constant')),\n",
       "                                                                  ('onehot',\n",
       "                                                                   OneHotEncoder(handle_unknown='ignore'))]),\n",
       "                                                  ['gender', 'age_bracket']),\n",
       "                                                 ('num',\n",
       "                                                  Pipeline(steps=[('impute',\n",
       "                                                                   SimpleImputer()),\n",
       "                                                                  ('scale',\n",
       "                                                                   StandardScaler())]),\n",
       "                                                  ['age', 'income'])])),\n",
       "                ('lr', LogisticRegression())])</pre></div></div></div><div class=\"sk-serial\"><div class=\"sk-item sk-dashed-wrapped\"><div class=\"sk-label-container\"><div class=\"sk-label sk-toggleable\"><input class=\"sk-toggleable__control sk-hidden--visually\" id=\"fc911efd-db57-420e-b364-34bcb8e4a861\" type=\"checkbox\" ><label class=\"sk-toggleable__label\" for=\"fc911efd-db57-420e-b364-34bcb8e4a861\">preprocessor: ColumnTransformer</label><div class=\"sk-toggleable__content\"><pre>ColumnTransformer(transformers=[('cat',\n",
       "                                 Pipeline(steps=[('impute',\n",
       "                                                  SimpleImputer(fill_value='missing',\n",
       "                                                                strategy='constant')),\n",
       "                                                 ('onehot',\n",
       "                                                  OneHotEncoder(handle_unknown='ignore'))]),\n",
       "                                 ['gender', 'age_bracket']),\n",
       "                                ('num',\n",
       "                                 Pipeline(steps=[('impute', SimpleImputer()),\n",
       "                                                 ('scale', StandardScaler())]),\n",
       "                                 ['age', 'income'])])</pre></div></div></div><div class=\"sk-parallel\"><div class=\"sk-parallel-item\"><div class=\"sk-label-container\"><div class=\"sk-label sk-toggleable\"><input class=\"sk-toggleable__control sk-hidden--visually\" id=\"3cb6a3a3-483e-4227-9a92-d271b83db4bd\" type=\"checkbox\" ><label class=\"sk-toggleable__label\" for=\"3cb6a3a3-483e-4227-9a92-d271b83db4bd\">cat</label><div class=\"sk-toggleable__content\"><pre>['gender', 'age_bracket']</pre></div></div></div><div class=\"sk-serial\"><div class=\"sk-item\"><div class=\"sk-serial\"><div class=\"sk-item\"><div class=\"sk-estimator sk-toggleable\"><input class=\"sk-toggleable__control sk-hidden--visually\" id=\"4353fe1d-d3b3-4f55-a7ef-aa3c1349c89e\" type=\"checkbox\" ><label class=\"sk-toggleable__label\" for=\"4353fe1d-d3b3-4f55-a7ef-aa3c1349c89e\">SimpleImputer</label><div class=\"sk-toggleable__content\"><pre>SimpleImputer(fill_value='missing', strategy='constant')</pre></div></div></div><div class=\"sk-item\"><div class=\"sk-estimator sk-toggleable\"><input class=\"sk-toggleable__control sk-hidden--visually\" id=\"046905c5-7f02-4834-a736-0caf28d6b9b9\" type=\"checkbox\" ><label class=\"sk-toggleable__label\" for=\"046905c5-7f02-4834-a736-0caf28d6b9b9\">OneHotEncoder</label><div class=\"sk-toggleable__content\"><pre>OneHotEncoder(handle_unknown='ignore')</pre></div></div></div></div></div></div></div><div class=\"sk-parallel-item\"><div class=\"sk-label-container\"><div class=\"sk-label sk-toggleable\"><input class=\"sk-toggleable__control sk-hidden--visually\" id=\"1945b520-11f7-489c-8bc2-ceac4f64448a\" type=\"checkbox\" ><label class=\"sk-toggleable__label\" for=\"1945b520-11f7-489c-8bc2-ceac4f64448a\">num</label><div class=\"sk-toggleable__content\"><pre>['age', 'income']</pre></div></div></div><div class=\"sk-serial\"><div class=\"sk-item\"><div class=\"sk-serial\"><div class=\"sk-item\"><div class=\"sk-estimator sk-toggleable\"><input class=\"sk-toggleable__control sk-hidden--visually\" id=\"72712e23-0cfc-42ce-9ec7-383785ff1c8a\" type=\"checkbox\" ><label class=\"sk-toggleable__label\" for=\"72712e23-0cfc-42ce-9ec7-383785ff1c8a\">SimpleImputer</label><div class=\"sk-toggleable__content\"><pre>SimpleImputer()</pre></div></div></div><div class=\"sk-item\"><div class=\"sk-estimator sk-toggleable\"><input class=\"sk-toggleable__control sk-hidden--visually\" id=\"3529f4bb-d4d1-46b4-881e-52595d6d630c\" type=\"checkbox\" ><label class=\"sk-toggleable__label\" for=\"3529f4bb-d4d1-46b4-881e-52595d6d630c\">StandardScaler</label><div class=\"sk-toggleable__content\"><pre>StandardScaler()</pre></div></div></div></div></div></div></div></div></div><div class=\"sk-item\"><div class=\"sk-estimator sk-toggleable\"><input class=\"sk-toggleable__control sk-hidden--visually\" id=\"109837b5-8713-40d7-b649-4e42fdc587d0\" type=\"checkbox\" ><label class=\"sk-toggleable__label\" for=\"109837b5-8713-40d7-b649-4e42fdc587d0\">LogisticRegression</label><div class=\"sk-toggleable__content\"><pre>LogisticRegression()</pre></div></div></div></div></div></div></div></body></html>"
      ],
      "text/plain": [
       "Pipeline(memory=None,\n",
       "         steps=[('preprocessor',\n",
       "                 ColumnTransformer(n_jobs=None, remainder='drop',\n",
       "                                   sparse_threshold=0.3,\n",
       "                                   transformer_weights=None,\n",
       "                                   transformers=[('cat',\n",
       "                                                  Pipeline(memory=None,\n",
       "                                                           steps=[('impute',\n",
       "                                                                   SimpleImputer(add_indicator=False,\n",
       "                                                                                 copy=True,\n",
       "                                                                                 fill_value='missing',\n",
       "                                                                                 missing_values=nan,\n",
       "                                                                                 strategy='constant',\n",
       "                                                                                 verbose=0)),\n",
       "                                                                  ('onehot',\n",
       "                                                                   OneHotEncoder(categories='au...\n",
       "                                                                   StandardScaler(copy=True,\n",
       "                                                                                  with_mean=True,\n",
       "                                                                                  with_std=True))],\n",
       "                                                           verbose=False),\n",
       "                                                  ['age', 'income'])],\n",
       "                                   verbose=False)),\n",
       "                ('lr',\n",
       "                 LogisticRegression(C=1.0, class_weight=None, dual=False,\n",
       "                                    fit_intercept=True, intercept_scaling=1,\n",
       "                                    l1_ratio=None, max_iter=100,\n",
       "                                    multi_class='auto', n_jobs=None,\n",
       "                                    penalty='l2', random_state=None,\n",
       "                                    solver='lbfgs', tol=0.0001, verbose=0,\n",
       "                                    warm_start=False))],\n",
       "         verbose=False)"
      ]
     },
     "execution_count": 6,
     "metadata": {},
     "output_type": "execute_result"
    }
   ],
   "source": [
    "pipe2 = Pipeline([\n",
    "    ('preprocessor', preprcoessor),\n",
    "    ('lr', lr)\n",
    "])\n",
    "\n",
    "pipe2"
   ]
  },
  {
   "cell_type": "markdown",
   "metadata": {},
   "source": [
    "We can build a more complicated classifier at the end:"
   ]
  },
  {
   "cell_type": "code",
   "execution_count": 7,
   "metadata": {},
   "outputs": [
    {
     "data": {
      "text/html": [
       "<!DOCTYPE html><html lang=\"en\"><head><title>sklearn-viz</title><style>div.sk-top-container {color: black;background-color: white;}div.sk-toggleable {background-color: white;}label.sk-toggleable__label {cursor: pointer;display: block;width: 100%;margin-bottom: 0;padding: 0.2em 0.3em;box-sizing: border-box;text-align: center;}div.sk-toggleable__content {max-height: 0;max-width: 0;overflow: hidden;text-align: left;background-color: #f0f8ff;}div.sk-toggleable__content pre {margin: 0.2em;color: black;border-radius: 0.25em;background-color: #f0f8ff;}input.sk-toggleable__control:checked~div.sk-toggleable__content {max-height: 200px;max-width: 100%;overflow: auto;}div.sk-estimator input.sk-toggleable__control:checked~label.sk-toggleable__label {background-color: #d4ebff;}div.sk-label input.sk-toggleable__control:checked~label.sk-toggleable__label {background-color: #d4ebff;}input.sk-hidden--visually {border: 0;clip: rect(1px 1px 1px 1px);clip: rect(1px, 1px, 1px, 1px);height: 1px;margin: -1px;overflow: hidden;padding: 0;position: absolute;width: 1px;}div.sk-estimator {font-family: monospace;background-color: #f0f8ff;margin: 0.25em 0.25em;border: 1px dotted black;border-radius: 0.25em;box-sizing: border-box;}div.sk-estimator:hover {background-color: #d4ebff;}div.sk-parallel-item::after {content: \"\";width: 100%;border-bottom: 1px solid gray;flex-grow: 1;}div.sk-label:hover label.sk-toggleable__label {background-color: #d4ebff;}div.sk-serial::before {content: \"\";position: absolute;border-left: 1px solid gray;box-sizing: border-box;top: 2em;bottom: 0;left: 50%;}div.sk-serial {display: flex;flex-direction: column;align-items: center;background-color: white;}div.sk-item {z-index: 1;}div.sk-parallel {display: flex;align-items: stretch;justify-content: center;background-color: white;}div.sk-parallel-item {display: flex;flex-direction: column;position: relative;background-color: white;}div.sk-parallel-item:first-child::after {align-self: flex-end;width: 50%;}div.sk-parallel-item:last-child::after {align-self: flex-start;width: 50%;}div.sk-parallel-item:only-child::after {width: 0;}div.sk-dashed-wrapped {border: 1px dashed gray;margin: 0.2em;box-sizing: border-box;padding-bottom: 0.1em;background-color: white;position: relative;}div.sk-label label {font-family: monospace;font-weight: bold;background-color: white;display: inline-block;line-height: 1.2em;}div.sk-label-container {position: relative;z-index: 2;text-align: center;}div.sk-container {display: flex;flex-direction: column;align-items: flex-start;position: relative;float: left;}</style></head><body><div class=\"sk-top-container\"><div class=\"sk-container\"><div class=\"sk-item sk-dashed-wrapped\"><div class=\"sk-label-container\"><div class=\"sk-label sk-toggleable\"><input class=\"sk-toggleable__control sk-hidden--visually\" id=\"856414fc-1305-42cb-869c-87280c7c4641\" type=\"checkbox\" ><label class=\"sk-toggleable__label\" for=\"856414fc-1305-42cb-869c-87280c7c4641\">Pipeline</label><div class=\"sk-toggleable__content\"><pre>Pipeline(steps=[('preprocessor',\n",
       "                 ColumnTransformer(transformers=[('cat',\n",
       "                                                  Pipeline(steps=[('impute',\n",
       "                                                                   SimpleImputer(fill_value='missing',\n",
       "                                                                                 strategy='constant')),\n",
       "                                                                  ('onehot',\n",
       "                                                                   OneHotEncoder(handle_unknown='ignore'))]),\n",
       "                                                  ['gender', 'age_bracket']),\n",
       "                                                 ('num',\n",
       "                                                  Pipeline(steps=[('impute',\n",
       "                                                                   SimpleImputer()),\n",
       "                                                                  ('scale',\n",
       "                                                                   StandardScaler())]),\n",
       "                                                  ['age', 'income'])])),\n",
       "                ('clf',\n",
       "                 VotingClassifier(estimators=[('rf', RandomForestClassifier()),\n",
       "                                              ('mlp', MLPClassifier()),\n",
       "                                              ('lr', LogisticRegression())]))])</pre></div></div></div><div class=\"sk-serial\"><div class=\"sk-item sk-dashed-wrapped\"><div class=\"sk-label-container\"><div class=\"sk-label sk-toggleable\"><input class=\"sk-toggleable__control sk-hidden--visually\" id=\"9687a1da-2685-4bb1-8168-13477c805331\" type=\"checkbox\" ><label class=\"sk-toggleable__label\" for=\"9687a1da-2685-4bb1-8168-13477c805331\">preprocessor: ColumnTransformer</label><div class=\"sk-toggleable__content\"><pre>ColumnTransformer(transformers=[('cat',\n",
       "                                 Pipeline(steps=[('impute',\n",
       "                                                  SimpleImputer(fill_value='missing',\n",
       "                                                                strategy='constant')),\n",
       "                                                 ('onehot',\n",
       "                                                  OneHotEncoder(handle_unknown='ignore'))]),\n",
       "                                 ['gender', 'age_bracket']),\n",
       "                                ('num',\n",
       "                                 Pipeline(steps=[('impute', SimpleImputer()),\n",
       "                                                 ('scale', StandardScaler())]),\n",
       "                                 ['age', 'income'])])</pre></div></div></div><div class=\"sk-parallel\"><div class=\"sk-parallel-item\"><div class=\"sk-label-container\"><div class=\"sk-label sk-toggleable\"><input class=\"sk-toggleable__control sk-hidden--visually\" id=\"336af0cf-49b1-4cd0-8378-898a55891e32\" type=\"checkbox\" ><label class=\"sk-toggleable__label\" for=\"336af0cf-49b1-4cd0-8378-898a55891e32\">cat</label><div class=\"sk-toggleable__content\"><pre>['gender', 'age_bracket']</pre></div></div></div><div class=\"sk-serial\"><div class=\"sk-item\"><div class=\"sk-serial\"><div class=\"sk-item\"><div class=\"sk-estimator sk-toggleable\"><input class=\"sk-toggleable__control sk-hidden--visually\" id=\"a89fb5bd-9b6d-4799-bcda-4d980da60d45\" type=\"checkbox\" ><label class=\"sk-toggleable__label\" for=\"a89fb5bd-9b6d-4799-bcda-4d980da60d45\">SimpleImputer</label><div class=\"sk-toggleable__content\"><pre>SimpleImputer(fill_value='missing', strategy='constant')</pre></div></div></div><div class=\"sk-item\"><div class=\"sk-estimator sk-toggleable\"><input class=\"sk-toggleable__control sk-hidden--visually\" id=\"4cb18e12-77ac-43be-a40c-4daafef5f965\" type=\"checkbox\" ><label class=\"sk-toggleable__label\" for=\"4cb18e12-77ac-43be-a40c-4daafef5f965\">OneHotEncoder</label><div class=\"sk-toggleable__content\"><pre>OneHotEncoder(handle_unknown='ignore')</pre></div></div></div></div></div></div></div><div class=\"sk-parallel-item\"><div class=\"sk-label-container\"><div class=\"sk-label sk-toggleable\"><input class=\"sk-toggleable__control sk-hidden--visually\" id=\"bd542ed5-32f1-4ce9-bce8-880d9ea78a97\" type=\"checkbox\" ><label class=\"sk-toggleable__label\" for=\"bd542ed5-32f1-4ce9-bce8-880d9ea78a97\">num</label><div class=\"sk-toggleable__content\"><pre>['age', 'income']</pre></div></div></div><div class=\"sk-serial\"><div class=\"sk-item\"><div class=\"sk-serial\"><div class=\"sk-item\"><div class=\"sk-estimator sk-toggleable\"><input class=\"sk-toggleable__control sk-hidden--visually\" id=\"86a7d619-4ac3-47e2-b7d8-d6e1c2b594cc\" type=\"checkbox\" ><label class=\"sk-toggleable__label\" for=\"86a7d619-4ac3-47e2-b7d8-d6e1c2b594cc\">SimpleImputer</label><div class=\"sk-toggleable__content\"><pre>SimpleImputer()</pre></div></div></div><div class=\"sk-item\"><div class=\"sk-estimator sk-toggleable\"><input class=\"sk-toggleable__control sk-hidden--visually\" id=\"da621521-2a0d-4e5c-8ba3-aa139e9598ef\" type=\"checkbox\" ><label class=\"sk-toggleable__label\" for=\"da621521-2a0d-4e5c-8ba3-aa139e9598ef\">StandardScaler</label><div class=\"sk-toggleable__content\"><pre>StandardScaler()</pre></div></div></div></div></div></div></div></div></div><div class=\"sk-item sk-dashed-wrapped\"><div class=\"sk-label-container\"><div class=\"sk-label sk-toggleable\"><input class=\"sk-toggleable__control sk-hidden--visually\" id=\"eee0263f-aefc-4105-919a-1f88cd924875\" type=\"checkbox\" ><label class=\"sk-toggleable__label\" for=\"eee0263f-aefc-4105-919a-1f88cd924875\">clf: VotingClassifier</label><div class=\"sk-toggleable__content\"><pre>VotingClassifier(estimators=[('rf', RandomForestClassifier()),\n",
       "                             ('mlp', MLPClassifier()),\n",
       "                             ('lr', LogisticRegression())])</pre></div></div></div><div class=\"sk-parallel\"><div class=\"sk-parallel-item\"><div class=\"sk-label-container\"><div class=\"sk-label sk-toggleable\"><input class=\"sk-toggleable__control sk-hidden--visually\" id=\"31f9d5cb-4a41-4388-9364-1a89dbfbf5c1\" type=\"checkbox\" ><label class=\"sk-toggleable__label\" for=\"31f9d5cb-4a41-4388-9364-1a89dbfbf5c1\">rf</label><div class=\"sk-toggleable__content\"><pre>RandomForestClassifier()</pre></div></div></div><div class=\"sk-serial\"><div class=\"sk-item\"><div class=\"sk-estimator sk-toggleable\"><input class=\"sk-toggleable__control sk-hidden--visually\" id=\"70d1930d-aeab-47f8-844d-6d7b1ad54efb\" type=\"checkbox\" ><label class=\"sk-toggleable__label\" for=\"70d1930d-aeab-47f8-844d-6d7b1ad54efb\">RandomForestClassifier</label><div class=\"sk-toggleable__content\"><pre>RandomForestClassifier()</pre></div></div></div></div></div><div class=\"sk-parallel-item\"><div class=\"sk-label-container\"><div class=\"sk-label sk-toggleable\"><input class=\"sk-toggleable__control sk-hidden--visually\" id=\"be19b77b-0a90-49e7-939e-6daf355c694d\" type=\"checkbox\" ><label class=\"sk-toggleable__label\" for=\"be19b77b-0a90-49e7-939e-6daf355c694d\">mlp</label><div class=\"sk-toggleable__content\"><pre>MLPClassifier()</pre></div></div></div><div class=\"sk-serial\"><div class=\"sk-item\"><div class=\"sk-estimator sk-toggleable\"><input class=\"sk-toggleable__control sk-hidden--visually\" id=\"8132ea16-882b-4cfc-be50-348734e39ab1\" type=\"checkbox\" ><label class=\"sk-toggleable__label\" for=\"8132ea16-882b-4cfc-be50-348734e39ab1\">MLPClassifier</label><div class=\"sk-toggleable__content\"><pre>MLPClassifier()</pre></div></div></div></div></div><div class=\"sk-parallel-item\"><div class=\"sk-label-container\"><div class=\"sk-label sk-toggleable\"><input class=\"sk-toggleable__control sk-hidden--visually\" id=\"7bee972c-e7e8-4d56-a081-a974857cb41f\" type=\"checkbox\" ><label class=\"sk-toggleable__label\" for=\"7bee972c-e7e8-4d56-a081-a974857cb41f\">lr</label><div class=\"sk-toggleable__content\"><pre>LogisticRegression()</pre></div></div></div><div class=\"sk-serial\"><div class=\"sk-item\"><div class=\"sk-estimator sk-toggleable\"><input class=\"sk-toggleable__control sk-hidden--visually\" id=\"8356571a-6ad0-4810-b395-a1add6474e06\" type=\"checkbox\" ><label class=\"sk-toggleable__label\" for=\"8356571a-6ad0-4810-b395-a1add6474e06\">LogisticRegression</label><div class=\"sk-toggleable__content\"><pre>LogisticRegression()</pre></div></div></div></div></div></div></div></div></div></div></div></body></html>"
      ],
      "text/plain": [
       "Pipeline(memory=None,\n",
       "         steps=[('preprocessor',\n",
       "                 ColumnTransformer(n_jobs=None, remainder='drop',\n",
       "                                   sparse_threshold=0.3,\n",
       "                                   transformer_weights=None,\n",
       "                                   transformers=[('cat',\n",
       "                                                  Pipeline(memory=None,\n",
       "                                                           steps=[('impute',\n",
       "                                                                   SimpleImputer(add_indicator=False,\n",
       "                                                                                 copy=True,\n",
       "                                                                                 fill_value='missing',\n",
       "                                                                                 missing_values=nan,\n",
       "                                                                                 strategy='constant',\n",
       "                                                                                 verbose=0)),\n",
       "                                                                  ('onehot',\n",
       "                                                                   OneHotEncoder(categories='au...\n",
       "                                                             warm_start=False)),\n",
       "                                              ('lr',\n",
       "                                               LogisticRegression(C=1.0,\n",
       "                                                                  class_weight=None,\n",
       "                                                                  dual=False,\n",
       "                                                                  fit_intercept=True,\n",
       "                                                                  intercept_scaling=1,\n",
       "                                                                  l1_ratio=None,\n",
       "                                                                  max_iter=100,\n",
       "                                                                  multi_class='auto',\n",
       "                                                                  n_jobs=None,\n",
       "                                                                  penalty='l2',\n",
       "                                                                  random_state=None,\n",
       "                                                                  solver='lbfgs',\n",
       "                                                                  tol=0.0001,\n",
       "                                                                  verbose=0,\n",
       "                                                                  warm_start=False))],\n",
       "                                  flatten_transform=True, n_jobs=None,\n",
       "                                  verbose=False, voting='hard',\n",
       "                                  weights=None))],\n",
       "         verbose=False)"
      ]
     },
     "execution_count": 7,
     "metadata": {},
     "output_type": "execute_result"
    }
   ],
   "source": [
    "vote_clf = VotingClassifier([\n",
    "    ('rf', RandomForestClassifier()),\n",
    "    ('mlp', MLPClassifier()),\n",
    "    ('lr', LogisticRegression())\n",
    "])\n",
    "\n",
    "pipe3  = Pipeline([\n",
    "    ('preprocessor', preprcoessor),\n",
    "    ('clf', vote_clf)\n",
    "])\n",
    "\n",
    "pipe3"
   ]
  },
  {
   "cell_type": "markdown",
   "metadata": {},
   "source": [
    "Next, we can do some dimensional reduction with a PCA and a Truncated SVD:"
   ]
  },
  {
   "cell_type": "code",
   "execution_count": 8,
   "metadata": {},
   "outputs": [
    {
     "data": {
      "text/html": [
       "<!DOCTYPE html><html lang=\"en\"><head><title>sklearn-viz</title><style>div.sk-top-container {color: black;background-color: white;}div.sk-toggleable {background-color: white;}label.sk-toggleable__label {cursor: pointer;display: block;width: 100%;margin-bottom: 0;padding: 0.2em 0.3em;box-sizing: border-box;text-align: center;}div.sk-toggleable__content {max-height: 0;max-width: 0;overflow: hidden;text-align: left;background-color: #f0f8ff;}div.sk-toggleable__content pre {margin: 0.2em;color: black;border-radius: 0.25em;background-color: #f0f8ff;}input.sk-toggleable__control:checked~div.sk-toggleable__content {max-height: 200px;max-width: 100%;overflow: auto;}div.sk-estimator input.sk-toggleable__control:checked~label.sk-toggleable__label {background-color: #d4ebff;}div.sk-label input.sk-toggleable__control:checked~label.sk-toggleable__label {background-color: #d4ebff;}input.sk-hidden--visually {border: 0;clip: rect(1px 1px 1px 1px);clip: rect(1px, 1px, 1px, 1px);height: 1px;margin: -1px;overflow: hidden;padding: 0;position: absolute;width: 1px;}div.sk-estimator {font-family: monospace;background-color: #f0f8ff;margin: 0.25em 0.25em;border: 1px dotted black;border-radius: 0.25em;box-sizing: border-box;}div.sk-estimator:hover {background-color: #d4ebff;}div.sk-parallel-item::after {content: \"\";width: 100%;border-bottom: 1px solid gray;flex-grow: 1;}div.sk-label:hover label.sk-toggleable__label {background-color: #d4ebff;}div.sk-serial::before {content: \"\";position: absolute;border-left: 1px solid gray;box-sizing: border-box;top: 2em;bottom: 0;left: 50%;}div.sk-serial {display: flex;flex-direction: column;align-items: center;background-color: white;}div.sk-item {z-index: 1;}div.sk-parallel {display: flex;align-items: stretch;justify-content: center;background-color: white;}div.sk-parallel-item {display: flex;flex-direction: column;position: relative;background-color: white;}div.sk-parallel-item:first-child::after {align-self: flex-end;width: 50%;}div.sk-parallel-item:last-child::after {align-self: flex-start;width: 50%;}div.sk-parallel-item:only-child::after {width: 0;}div.sk-dashed-wrapped {border: 1px dashed gray;margin: 0.2em;box-sizing: border-box;padding-bottom: 0.1em;background-color: white;position: relative;}div.sk-label label {font-family: monospace;font-weight: bold;background-color: white;display: inline-block;line-height: 1.2em;}div.sk-label-container {position: relative;z-index: 2;text-align: center;}div.sk-container {display: flex;flex-direction: column;align-items: flex-start;position: relative;float: left;}</style></head><body><div class=\"sk-top-container\"><div class=\"sk-container\"><div class=\"sk-item sk-dashed-wrapped\"><div class=\"sk-label-container\"><div class=\"sk-label sk-toggleable\"><input class=\"sk-toggleable__control sk-hidden--visually\" id=\"3f3db6a7-5c99-4a5e-b521-bc3eb35f0a8c\" type=\"checkbox\" ><label class=\"sk-toggleable__label\" for=\"3f3db6a7-5c99-4a5e-b521-bc3eb35f0a8c\">Pipeline</label><div class=\"sk-toggleable__content\"><pre>Pipeline(steps=[('preprocessor',\n",
       "                 ColumnTransformer(transformers=[('cat',\n",
       "                                                  Pipeline(steps=[('impute',\n",
       "                                                                   SimpleImputer(fill_value='missing',\n",
       "                                                                                 strategy='constant')),\n",
       "                                                                  ('onehot',\n",
       "                                                                   OneHotEncoder(handle_unknown='ignore'))]),\n",
       "                                                  ['gender', 'age_bracket']),\n",
       "                                                 ('num',\n",
       "                                                  Pipeline(steps=[('impute',\n",
       "                                                                   SimpleImputer()),\n",
       "                                                                  ('scale',\n",
       "                                                                   StandardScaler())]),\n",
       "                                                  ['age', 'income'])])),\n",
       "                ('dim_reduce',\n",
       "                 FeatureUnion(transformer_list=[('pca', PCA(n_components=1)),\n",
       "                                                ('svd', TruncatedSVD())])),\n",
       "                ('clf',\n",
       "                 VotingClassifier(estimators=[('rf', RandomForestClassifier()),\n",
       "                                              ('mlp', MLPClassifier()),\n",
       "                                              ('lr', LogisticRegression())]))])</pre></div></div></div><div class=\"sk-serial\"><div class=\"sk-item sk-dashed-wrapped\"><div class=\"sk-label-container\"><div class=\"sk-label sk-toggleable\"><input class=\"sk-toggleable__control sk-hidden--visually\" id=\"517f28a2-0bbb-4381-b99d-bb629f62851c\" type=\"checkbox\" ><label class=\"sk-toggleable__label\" for=\"517f28a2-0bbb-4381-b99d-bb629f62851c\">preprocessor: ColumnTransformer</label><div class=\"sk-toggleable__content\"><pre>ColumnTransformer(transformers=[('cat',\n",
       "                                 Pipeline(steps=[('impute',\n",
       "                                                  SimpleImputer(fill_value='missing',\n",
       "                                                                strategy='constant')),\n",
       "                                                 ('onehot',\n",
       "                                                  OneHotEncoder(handle_unknown='ignore'))]),\n",
       "                                 ['gender', 'age_bracket']),\n",
       "                                ('num',\n",
       "                                 Pipeline(steps=[('impute', SimpleImputer()),\n",
       "                                                 ('scale', StandardScaler())]),\n",
       "                                 ['age', 'income'])])</pre></div></div></div><div class=\"sk-parallel\"><div class=\"sk-parallel-item\"><div class=\"sk-label-container\"><div class=\"sk-label sk-toggleable\"><input class=\"sk-toggleable__control sk-hidden--visually\" id=\"9d6830d3-ef09-4dc2-9382-3f8a57d52329\" type=\"checkbox\" ><label class=\"sk-toggleable__label\" for=\"9d6830d3-ef09-4dc2-9382-3f8a57d52329\">cat</label><div class=\"sk-toggleable__content\"><pre>['gender', 'age_bracket']</pre></div></div></div><div class=\"sk-serial\"><div class=\"sk-item\"><div class=\"sk-serial\"><div class=\"sk-item\"><div class=\"sk-estimator sk-toggleable\"><input class=\"sk-toggleable__control sk-hidden--visually\" id=\"63ff915d-bec7-4a60-8f66-1dffe336fa1e\" type=\"checkbox\" ><label class=\"sk-toggleable__label\" for=\"63ff915d-bec7-4a60-8f66-1dffe336fa1e\">SimpleImputer</label><div class=\"sk-toggleable__content\"><pre>SimpleImputer(fill_value='missing', strategy='constant')</pre></div></div></div><div class=\"sk-item\"><div class=\"sk-estimator sk-toggleable\"><input class=\"sk-toggleable__control sk-hidden--visually\" id=\"e2df2bb4-fd85-4c83-bae2-14d3bd85ed75\" type=\"checkbox\" ><label class=\"sk-toggleable__label\" for=\"e2df2bb4-fd85-4c83-bae2-14d3bd85ed75\">OneHotEncoder</label><div class=\"sk-toggleable__content\"><pre>OneHotEncoder(handle_unknown='ignore')</pre></div></div></div></div></div></div></div><div class=\"sk-parallel-item\"><div class=\"sk-label-container\"><div class=\"sk-label sk-toggleable\"><input class=\"sk-toggleable__control sk-hidden--visually\" id=\"fa92ec33-f50b-4791-99a2-627b698ac899\" type=\"checkbox\" ><label class=\"sk-toggleable__label\" for=\"fa92ec33-f50b-4791-99a2-627b698ac899\">num</label><div class=\"sk-toggleable__content\"><pre>['age', 'income']</pre></div></div></div><div class=\"sk-serial\"><div class=\"sk-item\"><div class=\"sk-serial\"><div class=\"sk-item\"><div class=\"sk-estimator sk-toggleable\"><input class=\"sk-toggleable__control sk-hidden--visually\" id=\"7d3f4ac1-4bd5-4127-b7b2-a2adbef02c71\" type=\"checkbox\" ><label class=\"sk-toggleable__label\" for=\"7d3f4ac1-4bd5-4127-b7b2-a2adbef02c71\">SimpleImputer</label><div class=\"sk-toggleable__content\"><pre>SimpleImputer()</pre></div></div></div><div class=\"sk-item\"><div class=\"sk-estimator sk-toggleable\"><input class=\"sk-toggleable__control sk-hidden--visually\" id=\"178059d0-7337-4cb9-a652-1a3743feb490\" type=\"checkbox\" ><label class=\"sk-toggleable__label\" for=\"178059d0-7337-4cb9-a652-1a3743feb490\">StandardScaler</label><div class=\"sk-toggleable__content\"><pre>StandardScaler()</pre></div></div></div></div></div></div></div></div></div><div class=\"sk-item sk-dashed-wrapped\"><div class=\"sk-label-container\"><div class=\"sk-label sk-toggleable\"><input class=\"sk-toggleable__control sk-hidden--visually\" id=\"a0c4975c-8bc3-409d-b03d-fcb31edd837a\" type=\"checkbox\" ><label class=\"sk-toggleable__label\" for=\"a0c4975c-8bc3-409d-b03d-fcb31edd837a\">dim_reduce: FeatureUnion</label><div class=\"sk-toggleable__content\"><pre>FeatureUnion(transformer_list=[('pca', PCA(n_components=1)),\n",
       "                               ('svd', TruncatedSVD())])</pre></div></div></div><div class=\"sk-parallel\"><div class=\"sk-parallel-item\"><div class=\"sk-label-container\"><div class=\"sk-label sk-toggleable\"><input class=\"sk-toggleable__control sk-hidden--visually\" id=\"fdc78280-17b4-4d2e-bc3e-293aa2b15718\" type=\"checkbox\" ><label class=\"sk-toggleable__label\" for=\"fdc78280-17b4-4d2e-bc3e-293aa2b15718\">pca</label><div class=\"sk-toggleable__content\"><pre>PCA(n_components=1)</pre></div></div></div><div class=\"sk-serial\"><div class=\"sk-item\"><div class=\"sk-estimator sk-toggleable\"><input class=\"sk-toggleable__control sk-hidden--visually\" id=\"39191be0-8f65-48eb-93cb-29ac8e200373\" type=\"checkbox\" ><label class=\"sk-toggleable__label\" for=\"39191be0-8f65-48eb-93cb-29ac8e200373\">PCA</label><div class=\"sk-toggleable__content\"><pre>PCA(n_components=1)</pre></div></div></div></div></div><div class=\"sk-parallel-item\"><div class=\"sk-label-container\"><div class=\"sk-label sk-toggleable\"><input class=\"sk-toggleable__control sk-hidden--visually\" id=\"780c399f-e714-452a-b6c0-bd5174a5a3a3\" type=\"checkbox\" ><label class=\"sk-toggleable__label\" for=\"780c399f-e714-452a-b6c0-bd5174a5a3a3\">svd</label><div class=\"sk-toggleable__content\"><pre>TruncatedSVD()</pre></div></div></div><div class=\"sk-serial\"><div class=\"sk-item\"><div class=\"sk-estimator sk-toggleable\"><input class=\"sk-toggleable__control sk-hidden--visually\" id=\"b0df2767-512c-45e6-a17f-c2bd88a11bc2\" type=\"checkbox\" ><label class=\"sk-toggleable__label\" for=\"b0df2767-512c-45e6-a17f-c2bd88a11bc2\">TruncatedSVD</label><div class=\"sk-toggleable__content\"><pre>TruncatedSVD()</pre></div></div></div></div></div></div></div><div class=\"sk-item sk-dashed-wrapped\"><div class=\"sk-label-container\"><div class=\"sk-label sk-toggleable\"><input class=\"sk-toggleable__control sk-hidden--visually\" id=\"b47b9ae5-7e2a-48dd-bbfe-8c6cfb0d978b\" type=\"checkbox\" ><label class=\"sk-toggleable__label\" for=\"b47b9ae5-7e2a-48dd-bbfe-8c6cfb0d978b\">clf: VotingClassifier</label><div class=\"sk-toggleable__content\"><pre>VotingClassifier(estimators=[('rf', RandomForestClassifier()),\n",
       "                             ('mlp', MLPClassifier()),\n",
       "                             ('lr', LogisticRegression())])</pre></div></div></div><div class=\"sk-parallel\"><div class=\"sk-parallel-item\"><div class=\"sk-label-container\"><div class=\"sk-label sk-toggleable\"><input class=\"sk-toggleable__control sk-hidden--visually\" id=\"45dbc5a5-c1fc-4775-82c5-efa85e3c4964\" type=\"checkbox\" ><label class=\"sk-toggleable__label\" for=\"45dbc5a5-c1fc-4775-82c5-efa85e3c4964\">rf</label><div class=\"sk-toggleable__content\"><pre>RandomForestClassifier()</pre></div></div></div><div class=\"sk-serial\"><div class=\"sk-item\"><div class=\"sk-estimator sk-toggleable\"><input class=\"sk-toggleable__control sk-hidden--visually\" id=\"1cd995da-f094-4df9-b716-ba1df9cb20ec\" type=\"checkbox\" ><label class=\"sk-toggleable__label\" for=\"1cd995da-f094-4df9-b716-ba1df9cb20ec\">RandomForestClassifier</label><div class=\"sk-toggleable__content\"><pre>RandomForestClassifier()</pre></div></div></div></div></div><div class=\"sk-parallel-item\"><div class=\"sk-label-container\"><div class=\"sk-label sk-toggleable\"><input class=\"sk-toggleable__control sk-hidden--visually\" id=\"ef03d7af-cb83-4c41-b86e-79a9d6e20657\" type=\"checkbox\" ><label class=\"sk-toggleable__label\" for=\"ef03d7af-cb83-4c41-b86e-79a9d6e20657\">mlp</label><div class=\"sk-toggleable__content\"><pre>MLPClassifier()</pre></div></div></div><div class=\"sk-serial\"><div class=\"sk-item\"><div class=\"sk-estimator sk-toggleable\"><input class=\"sk-toggleable__control sk-hidden--visually\" id=\"b6324d92-141a-481b-8894-7878013659a8\" type=\"checkbox\" ><label class=\"sk-toggleable__label\" for=\"b6324d92-141a-481b-8894-7878013659a8\">MLPClassifier</label><div class=\"sk-toggleable__content\"><pre>MLPClassifier()</pre></div></div></div></div></div><div class=\"sk-parallel-item\"><div class=\"sk-label-container\"><div class=\"sk-label sk-toggleable\"><input class=\"sk-toggleable__control sk-hidden--visually\" id=\"2e4009ef-5cbe-4da0-a126-6b709888bc71\" type=\"checkbox\" ><label class=\"sk-toggleable__label\" for=\"2e4009ef-5cbe-4da0-a126-6b709888bc71\">lr</label><div class=\"sk-toggleable__content\"><pre>LogisticRegression()</pre></div></div></div><div class=\"sk-serial\"><div class=\"sk-item\"><div class=\"sk-estimator sk-toggleable\"><input class=\"sk-toggleable__control sk-hidden--visually\" id=\"d4a78771-e186-4392-8f5f-2b747274fbf9\" type=\"checkbox\" ><label class=\"sk-toggleable__label\" for=\"d4a78771-e186-4392-8f5f-2b747274fbf9\">LogisticRegression</label><div class=\"sk-toggleable__content\"><pre>LogisticRegression()</pre></div></div></div></div></div></div></div></div></div></div></div></body></html>"
      ],
      "text/plain": [
       "Pipeline(memory=None,\n",
       "         steps=[('preprocessor',\n",
       "                 ColumnTransformer(n_jobs=None, remainder='drop',\n",
       "                                   sparse_threshold=0.3,\n",
       "                                   transformer_weights=None,\n",
       "                                   transformers=[('cat',\n",
       "                                                  Pipeline(memory=None,\n",
       "                                                           steps=[('impute',\n",
       "                                                                   SimpleImputer(add_indicator=False,\n",
       "                                                                                 copy=True,\n",
       "                                                                                 fill_value='missing',\n",
       "                                                                                 missing_values=nan,\n",
       "                                                                                 strategy='constant',\n",
       "                                                                                 verbose=0)),\n",
       "                                                                  ('onehot',\n",
       "                                                                   OneHotEncoder(categories='au...\n",
       "                                                             warm_start=False)),\n",
       "                                              ('lr',\n",
       "                                               LogisticRegression(C=1.0,\n",
       "                                                                  class_weight=None,\n",
       "                                                                  dual=False,\n",
       "                                                                  fit_intercept=True,\n",
       "                                                                  intercept_scaling=1,\n",
       "                                                                  l1_ratio=None,\n",
       "                                                                  max_iter=100,\n",
       "                                                                  multi_class='auto',\n",
       "                                                                  n_jobs=None,\n",
       "                                                                  penalty='l2',\n",
       "                                                                  random_state=None,\n",
       "                                                                  solver='lbfgs',\n",
       "                                                                  tol=0.0001,\n",
       "                                                                  verbose=0,\n",
       "                                                                  warm_start=False))],\n",
       "                                  flatten_transform=True, n_jobs=None,\n",
       "                                  verbose=False, voting='hard',\n",
       "                                  weights=None))],\n",
       "         verbose=False)"
      ]
     },
     "execution_count": 8,
     "metadata": {},
     "output_type": "execute_result"
    }
   ],
   "source": [
    "dim_reduce = FeatureUnion([(\"pca\", PCA(n_components=1)),\n",
    "                           (\"svd\", TruncatedSVD(n_components=2))])\n",
    "\n",
    "pipe4 = Pipeline([\n",
    "    ('preprocessor', preprcoessor),\n",
    "    ('dim_reduce', dim_reduce),\n",
    "    ('clf', vote_clf)\n",
    "])\n",
    "\n",
    "pipe4"
   ]
  },
  {
   "cell_type": "code",
   "execution_count": 10,
   "metadata": {},
   "outputs": [
    {
     "data": {
      "text/html": [
       "<!DOCTYPE html><html lang=\"en\"><head><title>sklearn-viz</title><style>div.sk-top-container {color: black;background-color: white;}div.sk-toggleable {background-color: white;}label.sk-toggleable__label {cursor: pointer;display: block;width: 100%;margin-bottom: 0;padding: 0.2em 0.3em;box-sizing: border-box;text-align: center;}div.sk-toggleable__content {max-height: 0;max-width: 0;overflow: hidden;text-align: left;background-color: #f0f8ff;}div.sk-toggleable__content pre {margin: 0.2em;color: black;border-radius: 0.25em;background-color: #f0f8ff;}input.sk-toggleable__control:checked~div.sk-toggleable__content {max-height: 200px;max-width: 100%;overflow: auto;}div.sk-estimator input.sk-toggleable__control:checked~label.sk-toggleable__label {background-color: #d4ebff;}div.sk-label input.sk-toggleable__control:checked~label.sk-toggleable__label {background-color: #d4ebff;}input.sk-hidden--visually {border: 0;clip: rect(1px 1px 1px 1px);clip: rect(1px, 1px, 1px, 1px);height: 1px;margin: -1px;overflow: hidden;padding: 0;position: absolute;width: 1px;}div.sk-estimator {font-family: monospace;background-color: #f0f8ff;margin: 0.25em 0.25em;border: 1px dotted black;border-radius: 0.25em;box-sizing: border-box;}div.sk-estimator:hover {background-color: #d4ebff;}div.sk-parallel-item::after {content: \"\";width: 100%;border-bottom: 1px solid gray;flex-grow: 1;}div.sk-label:hover label.sk-toggleable__label {background-color: #d4ebff;}div.sk-serial::before {content: \"\";position: absolute;border-left: 1px solid gray;box-sizing: border-box;top: 2em;bottom: 0;left: 50%;}div.sk-serial {display: flex;flex-direction: column;align-items: center;background-color: white;}div.sk-item {z-index: 1;}div.sk-parallel {display: flex;align-items: stretch;justify-content: center;background-color: white;}div.sk-parallel-item {display: flex;flex-direction: column;position: relative;background-color: white;}div.sk-parallel-item:first-child::after {align-self: flex-end;width: 50%;}div.sk-parallel-item:last-child::after {align-self: flex-start;width: 50%;}div.sk-parallel-item:only-child::after {width: 0;}div.sk-dashed-wrapped {border: 1px dashed gray;margin: 0.2em;box-sizing: border-box;padding-bottom: 0.1em;background-color: white;position: relative;}div.sk-label label {font-family: monospace;font-weight: bold;background-color: white;display: inline-block;line-height: 1.2em;}div.sk-label-container {position: relative;z-index: 2;text-align: center;}div.sk-container {display: flex;flex-direction: column;align-items: flex-start;position: relative;float: left;}</style></head><body><div class=\"sk-top-container\"><div class=\"sk-container\"><div class=\"sk-item sk-dashed-wrapped\"><div class=\"sk-label-container\"><div class=\"sk-label sk-toggleable\"><input class=\"sk-toggleable__control sk-hidden--visually\" id=\"bbff38e1-2126-4c41-9b7b-4d741b5ed383\" type=\"checkbox\" ><label class=\"sk-toggleable__label\" for=\"bbff38e1-2126-4c41-9b7b-4d741b5ed383\">Pipeline</label><div class=\"sk-toggleable__content\"><pre>Pipeline(steps=[('preprocessor',\n",
       "                 ColumnTransformer(transformers=[('cat',\n",
       "                                                  Pipeline(steps=[('impute',\n",
       "                                                                   SimpleImputer(fill_value='missing',\n",
       "                                                                                 strategy='constant')),\n",
       "                                                                  ('onehot',\n",
       "                                                                   OneHotEncoder(handle_unknown='ignore'))]),\n",
       "                                                  ['gender', 'age_bracket']),\n",
       "                                                 ('num',\n",
       "                                                  Pipeline(steps=[('impute',\n",
       "                                                                   SimpleImputer()),\n",
       "                                                                  ('scale',\n",
       "                                                                   StandardScaler())]),\n",
       "                                                  ['age', 'income'])])),\n",
       "                ('dim_reduce', PCA()),\n",
       "                ('clf',\n",
       "                 VotingClassifier(estimators=[('rf', RandomForestClassifier()),\n",
       "                                              ('mlp', MLPClassifier()),\n",
       "                                              ('lr', LogisticRegression())]))])</pre></div></div></div><div class=\"sk-serial\"><div class=\"sk-item sk-dashed-wrapped\"><div class=\"sk-label-container\"><div class=\"sk-label sk-toggleable\"><input class=\"sk-toggleable__control sk-hidden--visually\" id=\"7f349fee-bab9-4762-beb4-09f3dbaf310b\" type=\"checkbox\" ><label class=\"sk-toggleable__label\" for=\"7f349fee-bab9-4762-beb4-09f3dbaf310b\">preprocessor: ColumnTransformer</label><div class=\"sk-toggleable__content\"><pre>ColumnTransformer(transformers=[('cat',\n",
       "                                 Pipeline(steps=[('impute',\n",
       "                                                  SimpleImputer(fill_value='missing',\n",
       "                                                                strategy='constant')),\n",
       "                                                 ('onehot',\n",
       "                                                  OneHotEncoder(handle_unknown='ignore'))]),\n",
       "                                 ['gender', 'age_bracket']),\n",
       "                                ('num',\n",
       "                                 Pipeline(steps=[('impute', SimpleImputer()),\n",
       "                                                 ('scale', StandardScaler())]),\n",
       "                                 ['age', 'income'])])</pre></div></div></div><div class=\"sk-parallel\"><div class=\"sk-parallel-item\"><div class=\"sk-label-container\"><div class=\"sk-label sk-toggleable\"><input class=\"sk-toggleable__control sk-hidden--visually\" id=\"2219691f-015b-4d99-a2df-b19dd7242a26\" type=\"checkbox\" ><label class=\"sk-toggleable__label\" for=\"2219691f-015b-4d99-a2df-b19dd7242a26\">cat</label><div class=\"sk-toggleable__content\"><pre>['gender', 'age_bracket']</pre></div></div></div><div class=\"sk-serial\"><div class=\"sk-item\"><div class=\"sk-serial\"><div class=\"sk-item\"><div class=\"sk-estimator sk-toggleable\"><input class=\"sk-toggleable__control sk-hidden--visually\" id=\"41b6d9b9-1062-41e2-8fe2-eee2428a7f93\" type=\"checkbox\" ><label class=\"sk-toggleable__label\" for=\"41b6d9b9-1062-41e2-8fe2-eee2428a7f93\">SimpleImputer</label><div class=\"sk-toggleable__content\"><pre>SimpleImputer(fill_value='missing', strategy='constant')</pre></div></div></div><div class=\"sk-item\"><div class=\"sk-estimator sk-toggleable\"><input class=\"sk-toggleable__control sk-hidden--visually\" id=\"85e50327-b8d9-4886-a028-b1cd43740b40\" type=\"checkbox\" ><label class=\"sk-toggleable__label\" for=\"85e50327-b8d9-4886-a028-b1cd43740b40\">OneHotEncoder</label><div class=\"sk-toggleable__content\"><pre>OneHotEncoder(handle_unknown='ignore')</pre></div></div></div></div></div></div></div><div class=\"sk-parallel-item\"><div class=\"sk-label-container\"><div class=\"sk-label sk-toggleable\"><input class=\"sk-toggleable__control sk-hidden--visually\" id=\"caefbce3-2926-4088-a07c-2c3108a30355\" type=\"checkbox\" ><label class=\"sk-toggleable__label\" for=\"caefbce3-2926-4088-a07c-2c3108a30355\">num</label><div class=\"sk-toggleable__content\"><pre>['age', 'income']</pre></div></div></div><div class=\"sk-serial\"><div class=\"sk-item\"><div class=\"sk-serial\"><div class=\"sk-item\"><div class=\"sk-estimator sk-toggleable\"><input class=\"sk-toggleable__control sk-hidden--visually\" id=\"56f0c74f-7a40-4cc5-ac19-dc5c2af26496\" type=\"checkbox\" ><label class=\"sk-toggleable__label\" for=\"56f0c74f-7a40-4cc5-ac19-dc5c2af26496\">SimpleImputer</label><div class=\"sk-toggleable__content\"><pre>SimpleImputer()</pre></div></div></div><div class=\"sk-item\"><div class=\"sk-estimator sk-toggleable\"><input class=\"sk-toggleable__control sk-hidden--visually\" id=\"d82b228d-8fab-4154-98b3-048f14671e29\" type=\"checkbox\" ><label class=\"sk-toggleable__label\" for=\"d82b228d-8fab-4154-98b3-048f14671e29\">StandardScaler</label><div class=\"sk-toggleable__content\"><pre>StandardScaler()</pre></div></div></div></div></div></div></div></div></div><div class=\"sk-item\"><div class=\"sk-estimator sk-toggleable\"><input class=\"sk-toggleable__control sk-hidden--visually\" id=\"ad14e95d-e884-4964-9c23-88908be7ab72\" type=\"checkbox\" ><label class=\"sk-toggleable__label\" for=\"ad14e95d-e884-4964-9c23-88908be7ab72\">PCA</label><div class=\"sk-toggleable__content\"><pre>PCA()</pre></div></div></div><div class=\"sk-item sk-dashed-wrapped\"><div class=\"sk-label-container\"><div class=\"sk-label sk-toggleable\"><input class=\"sk-toggleable__control sk-hidden--visually\" id=\"39e9ec63-20a3-4e98-bc6f-36ee14755cc4\" type=\"checkbox\" ><label class=\"sk-toggleable__label\" for=\"39e9ec63-20a3-4e98-bc6f-36ee14755cc4\">clf: VotingClassifier</label><div class=\"sk-toggleable__content\"><pre>VotingClassifier(estimators=[('rf', RandomForestClassifier()),\n",
       "                             ('mlp', MLPClassifier()),\n",
       "                             ('lr', LogisticRegression())])</pre></div></div></div><div class=\"sk-parallel\"><div class=\"sk-parallel-item\"><div class=\"sk-label-container\"><div class=\"sk-label sk-toggleable\"><input class=\"sk-toggleable__control sk-hidden--visually\" id=\"a8752122-882a-45ef-bf9e-63a12dc1ba64\" type=\"checkbox\" ><label class=\"sk-toggleable__label\" for=\"a8752122-882a-45ef-bf9e-63a12dc1ba64\">rf</label><div class=\"sk-toggleable__content\"><pre>RandomForestClassifier()</pre></div></div></div><div class=\"sk-serial\"><div class=\"sk-item\"><div class=\"sk-estimator sk-toggleable\"><input class=\"sk-toggleable__control sk-hidden--visually\" id=\"667dc584-32d8-4f5a-a77f-f8704deec74a\" type=\"checkbox\" ><label class=\"sk-toggleable__label\" for=\"667dc584-32d8-4f5a-a77f-f8704deec74a\">RandomForestClassifier</label><div class=\"sk-toggleable__content\"><pre>RandomForestClassifier()</pre></div></div></div></div></div><div class=\"sk-parallel-item\"><div class=\"sk-label-container\"><div class=\"sk-label sk-toggleable\"><input class=\"sk-toggleable__control sk-hidden--visually\" id=\"53fbef10-e4ad-4dc2-b932-90bb9c6b3148\" type=\"checkbox\" ><label class=\"sk-toggleable__label\" for=\"53fbef10-e4ad-4dc2-b932-90bb9c6b3148\">mlp</label><div class=\"sk-toggleable__content\"><pre>MLPClassifier()</pre></div></div></div><div class=\"sk-serial\"><div class=\"sk-item\"><div class=\"sk-estimator sk-toggleable\"><input class=\"sk-toggleable__control sk-hidden--visually\" id=\"b56ab95b-924c-4ca6-905f-416a57237aad\" type=\"checkbox\" ><label class=\"sk-toggleable__label\" for=\"b56ab95b-924c-4ca6-905f-416a57237aad\">MLPClassifier</label><div class=\"sk-toggleable__content\"><pre>MLPClassifier()</pre></div></div></div></div></div><div class=\"sk-parallel-item\"><div class=\"sk-label-container\"><div class=\"sk-label sk-toggleable\"><input class=\"sk-toggleable__control sk-hidden--visually\" id=\"d6b56054-5ee4-4778-9d28-c792af148375\" type=\"checkbox\" ><label class=\"sk-toggleable__label\" for=\"d6b56054-5ee4-4778-9d28-c792af148375\">lr</label><div class=\"sk-toggleable__content\"><pre>LogisticRegression()</pre></div></div></div><div class=\"sk-serial\"><div class=\"sk-item\"><div class=\"sk-estimator sk-toggleable\"><input class=\"sk-toggleable__control sk-hidden--visually\" id=\"a792b50d-e509-4ad4-8850-20049c2a91d7\" type=\"checkbox\" ><label class=\"sk-toggleable__label\" for=\"a792b50d-e509-4ad4-8850-20049c2a91d7\">LogisticRegression</label><div class=\"sk-toggleable__content\"><pre>LogisticRegression()</pre></div></div></div></div></div></div></div></div></div></div></div></body></html>"
      ],
      "text/plain": [
       "Pipeline(memory=None,\n",
       "         steps=[('preprocessor',\n",
       "                 ColumnTransformer(n_jobs=None, remainder='drop',\n",
       "                                   sparse_threshold=0.3,\n",
       "                                   transformer_weights=None,\n",
       "                                   transformers=[('cat',\n",
       "                                                  Pipeline(memory=None,\n",
       "                                                           steps=[('impute',\n",
       "                                                                   SimpleImputer(add_indicator=False,\n",
       "                                                                                 copy=True,\n",
       "                                                                                 fill_value='missing',\n",
       "                                                                                 missing_values=nan,\n",
       "                                                                                 strategy='constant',\n",
       "                                                                                 verbose=0)),\n",
       "                                                                  ('onehot',\n",
       "                                                                   OneHotEncoder(categories='au...\n",
       "                                                             warm_start=False)),\n",
       "                                              ('lr',\n",
       "                                               LogisticRegression(C=1.0,\n",
       "                                                                  class_weight=None,\n",
       "                                                                  dual=False,\n",
       "                                                                  fit_intercept=True,\n",
       "                                                                  intercept_scaling=1,\n",
       "                                                                  l1_ratio=None,\n",
       "                                                                  max_iter=100,\n",
       "                                                                  multi_class='auto',\n",
       "                                                                  n_jobs=None,\n",
       "                                                                  penalty='l2',\n",
       "                                                                  random_state=None,\n",
       "                                                                  solver='lbfgs',\n",
       "                                                                  tol=0.0001,\n",
       "                                                                  verbose=0,\n",
       "                                                                  warm_start=False))],\n",
       "                                  flatten_transform=True, n_jobs=None,\n",
       "                                  verbose=False, voting='hard',\n",
       "                                  weights=None))],\n",
       "         verbose=False)"
      ]
     },
     "execution_count": 10,
     "metadata": {},
     "output_type": "execute_result"
    }
   ],
   "source": [
    "# Single PCA for dimensino reduction\n",
    "pipe4.set_params(dim_reduce=PCA())"
   ]
  },
  {
   "cell_type": "code",
   "execution_count": 11,
   "metadata": {},
   "outputs": [
    {
     "data": {
      "text/html": [
       "<!DOCTYPE html><html lang=\"en\"><head><title>sklearn-viz</title><style>div.sk-top-container {color: black;background-color: white;}div.sk-toggleable {background-color: white;}label.sk-toggleable__label {cursor: pointer;display: block;width: 100%;margin-bottom: 0;padding: 0.2em 0.3em;box-sizing: border-box;text-align: center;}div.sk-toggleable__content {max-height: 0;max-width: 0;overflow: hidden;text-align: left;background-color: #f0f8ff;}div.sk-toggleable__content pre {margin: 0.2em;color: black;border-radius: 0.25em;background-color: #f0f8ff;}input.sk-toggleable__control:checked~div.sk-toggleable__content {max-height: 200px;max-width: 100%;overflow: auto;}div.sk-estimator input.sk-toggleable__control:checked~label.sk-toggleable__label {background-color: #d4ebff;}div.sk-label input.sk-toggleable__control:checked~label.sk-toggleable__label {background-color: #d4ebff;}input.sk-hidden--visually {border: 0;clip: rect(1px 1px 1px 1px);clip: rect(1px, 1px, 1px, 1px);height: 1px;margin: -1px;overflow: hidden;padding: 0;position: absolute;width: 1px;}div.sk-estimator {font-family: monospace;background-color: #f0f8ff;margin: 0.25em 0.25em;border: 1px dotted black;border-radius: 0.25em;box-sizing: border-box;}div.sk-estimator:hover {background-color: #d4ebff;}div.sk-parallel-item::after {content: \"\";width: 100%;border-bottom: 1px solid gray;flex-grow: 1;}div.sk-label:hover label.sk-toggleable__label {background-color: #d4ebff;}div.sk-serial::before {content: \"\";position: absolute;border-left: 1px solid gray;box-sizing: border-box;top: 2em;bottom: 0;left: 50%;}div.sk-serial {display: flex;flex-direction: column;align-items: center;background-color: white;}div.sk-item {z-index: 1;}div.sk-parallel {display: flex;align-items: stretch;justify-content: center;background-color: white;}div.sk-parallel-item {display: flex;flex-direction: column;position: relative;background-color: white;}div.sk-parallel-item:first-child::after {align-self: flex-end;width: 50%;}div.sk-parallel-item:last-child::after {align-self: flex-start;width: 50%;}div.sk-parallel-item:only-child::after {width: 0;}div.sk-dashed-wrapped {border: 1px dashed gray;margin: 0.2em;box-sizing: border-box;padding-bottom: 0.1em;background-color: white;position: relative;}div.sk-label label {font-family: monospace;font-weight: bold;background-color: white;display: inline-block;line-height: 1.2em;}div.sk-label-container {position: relative;z-index: 2;text-align: center;}div.sk-container {display: flex;flex-direction: column;align-items: flex-start;position: relative;float: left;}</style></head><body><div class=\"sk-top-container\"><div class=\"sk-container\"><div class=\"sk-item sk-dashed-wrapped\"><div class=\"sk-label-container\"><div class=\"sk-label sk-toggleable\"><input class=\"sk-toggleable__control sk-hidden--visually\" id=\"dad4ac12-f5ba-4417-805e-f81cecee7023\" type=\"checkbox\" ><label class=\"sk-toggleable__label\" for=\"dad4ac12-f5ba-4417-805e-f81cecee7023\">StackingClassifier</label><div class=\"sk-toggleable__content\"><pre>StackingClassifier(estimators=[('lr', LogisticRegression()),\n",
       "                               ('svc', LinearSVC())])</pre></div></div></div><div class=\"sk-serial\"><div class=\"sk-item\"><div class=\"sk-serial\"><div class=\"sk-item\"><div class=\"sk-parallel\"><div class=\"sk-parallel-item\"><div class=\"sk-label-container\"><div class=\"sk-label sk-toggleable\"><label>lr</label></div></div><div class=\"sk-serial\"><div class=\"sk-item\"><div class=\"sk-estimator sk-toggleable\"><input class=\"sk-toggleable__control sk-hidden--visually\" id=\"a3e11405-60ca-4e99-9850-d7014590f04f\" type=\"checkbox\" ><label class=\"sk-toggleable__label\" for=\"a3e11405-60ca-4e99-9850-d7014590f04f\">LogisticRegression</label><div class=\"sk-toggleable__content\"><pre>LogisticRegression()</pre></div></div></div></div></div><div class=\"sk-parallel-item\"><div class=\"sk-label-container\"><div class=\"sk-label sk-toggleable\"><label>svc</label></div></div><div class=\"sk-serial\"><div class=\"sk-item\"><div class=\"sk-estimator sk-toggleable\"><input class=\"sk-toggleable__control sk-hidden--visually\" id=\"0d6df758-ce01-4e69-9fec-d215465f76e4\" type=\"checkbox\" ><label class=\"sk-toggleable__label\" for=\"0d6df758-ce01-4e69-9fec-d215465f76e4\">LinearSVC</label><div class=\"sk-toggleable__content\"><pre>LinearSVC()</pre></div></div></div></div></div></div></div><div class=\"sk-item\"><div class=\"sk-estimator sk-toggleable\"><input class=\"sk-toggleable__control sk-hidden--visually\" id=\"8eeee062-bff1-4ca3-a8ba-4815fa1620b4\" type=\"checkbox\" ><label class=\"sk-toggleable__label\" for=\"8eeee062-bff1-4ca3-a8ba-4815fa1620b4\">LogisticRegression</label><div class=\"sk-toggleable__content\"><pre>LogisticRegression()</pre></div></div></div></div></div></div></div></div></div></body></html>"
      ],
      "text/plain": [
       "StackingClassifier(cv=None,\n",
       "                   estimators=[('lr',\n",
       "                                LogisticRegression(C=1.0, class_weight=None,\n",
       "                                                   dual=False,\n",
       "                                                   fit_intercept=True,\n",
       "                                                   intercept_scaling=1,\n",
       "                                                   l1_ratio=None, max_iter=100,\n",
       "                                                   multi_class='auto',\n",
       "                                                   n_jobs=None, penalty='l2',\n",
       "                                                   random_state=None,\n",
       "                                                   solver='lbfgs', tol=0.0001,\n",
       "                                                   verbose=0,\n",
       "                                                   warm_start=False)),\n",
       "                               ('svc',\n",
       "                                LinearSVC(C=1.0, class_weight=None, dual=True,\n",
       "                                          fit_intercept=True,\n",
       "                                          intercept_scaling=1,\n",
       "                                          loss='squared_hinge', max_iter=1000,\n",
       "                                          multi_class='ovr', penalty='l2',\n",
       "                                          random_state=None, tol=0.0001,\n",
       "                                          verbose=0))],\n",
       "                   final_estimator=None, n_jobs=None, passthrough=False,\n",
       "                   stack_method='auto', verbose=0)"
      ]
     },
     "execution_count": 11,
     "metadata": {},
     "output_type": "execute_result"
    }
   ],
   "source": [
    "estimators = [('lr', LogisticRegression()), ('svc', LinearSVC())]\n",
    "clf = StackingClassifier(\n",
    "    estimators=estimators, final_estimator=None)\n",
    "clf"
   ]
  },
  {
   "cell_type": "code",
   "execution_count": 12,
   "metadata": {},
   "outputs": [
    {
     "data": {
      "text/html": [
       "<!DOCTYPE html><html lang=\"en\"><head><title>sklearn-viz</title><style>div.sk-top-container {color: black;background-color: white;}div.sk-toggleable {background-color: white;}label.sk-toggleable__label {cursor: pointer;display: block;width: 100%;margin-bottom: 0;padding: 0.2em 0.3em;box-sizing: border-box;text-align: center;}div.sk-toggleable__content {max-height: 0;max-width: 0;overflow: hidden;text-align: left;background-color: #f0f8ff;}div.sk-toggleable__content pre {margin: 0.2em;color: black;border-radius: 0.25em;background-color: #f0f8ff;}input.sk-toggleable__control:checked~div.sk-toggleable__content {max-height: 200px;max-width: 100%;overflow: auto;}div.sk-estimator input.sk-toggleable__control:checked~label.sk-toggleable__label {background-color: #d4ebff;}div.sk-label input.sk-toggleable__control:checked~label.sk-toggleable__label {background-color: #d4ebff;}input.sk-hidden--visually {border: 0;clip: rect(1px 1px 1px 1px);clip: rect(1px, 1px, 1px, 1px);height: 1px;margin: -1px;overflow: hidden;padding: 0;position: absolute;width: 1px;}div.sk-estimator {font-family: monospace;background-color: #f0f8ff;margin: 0.25em 0.25em;border: 1px dotted black;border-radius: 0.25em;box-sizing: border-box;}div.sk-estimator:hover {background-color: #d4ebff;}div.sk-parallel-item::after {content: \"\";width: 100%;border-bottom: 1px solid gray;flex-grow: 1;}div.sk-label:hover label.sk-toggleable__label {background-color: #d4ebff;}div.sk-serial::before {content: \"\";position: absolute;border-left: 1px solid gray;box-sizing: border-box;top: 2em;bottom: 0;left: 50%;}div.sk-serial {display: flex;flex-direction: column;align-items: center;background-color: white;}div.sk-item {z-index: 1;}div.sk-parallel {display: flex;align-items: stretch;justify-content: center;background-color: white;}div.sk-parallel-item {display: flex;flex-direction: column;position: relative;background-color: white;}div.sk-parallel-item:first-child::after {align-self: flex-end;width: 50%;}div.sk-parallel-item:last-child::after {align-self: flex-start;width: 50%;}div.sk-parallel-item:only-child::after {width: 0;}div.sk-dashed-wrapped {border: 1px dashed gray;margin: 0.2em;box-sizing: border-box;padding-bottom: 0.1em;background-color: white;position: relative;}div.sk-label label {font-family: monospace;font-weight: bold;background-color: white;display: inline-block;line-height: 1.2em;}div.sk-label-container {position: relative;z-index: 2;text-align: center;}div.sk-container {display: flex;flex-direction: column;align-items: flex-start;position: relative;float: left;}</style></head><body><div class=\"sk-top-container\"><div class=\"sk-container\"><div class=\"sk-item sk-dashed-wrapped\"><div class=\"sk-label-container\"><div class=\"sk-label sk-toggleable\"><input class=\"sk-toggleable__control sk-hidden--visually\" id=\"c4475e6c-b734-4258-99d3-c01b219d02f6\" type=\"checkbox\" ><label class=\"sk-toggleable__label\" for=\"c4475e6c-b734-4258-99d3-c01b219d02f6\">Pipeline</label><div class=\"sk-toggleable__content\"><pre>Pipeline(steps=[('preprocessor',\n",
       "                 ColumnTransformer(transformers=[('cat',\n",
       "                                                  Pipeline(steps=[('impute',\n",
       "                                                                   SimpleImputer(fill_value='missing',\n",
       "                                                                                 strategy='constant')),\n",
       "                                                                  ('onehot',\n",
       "                                                                   OneHotEncoder(handle_unknown='ignore'))]),\n",
       "                                                  ['gender', 'age_bracket']),\n",
       "                                                 ('num',\n",
       "                                                  Pipeline(steps=[('impute',\n",
       "                                                                   SimpleImputer()),\n",
       "                                                                  ('scale',\n",
       "                                                                   StandardScaler())]),\n",
       "                                                  ['age', 'income'])])),\n",
       "                ('dim_reduce',\n",
       "                 FeatureUnion(transformer_list=[('pca', PCA(n_components=1)),\n",
       "                                                ('svd', TruncatedSVD())])),\n",
       "                ('hello', PCA()),\n",
       "                ('stacker',\n",
       "                 StackingClassifier(estimators=[('lr', LogisticRegression()),\n",
       "                                                ('svc', LinearSVC())]))])</pre></div></div></div><div class=\"sk-serial\"><div class=\"sk-item sk-dashed-wrapped\"><div class=\"sk-label-container\"><div class=\"sk-label sk-toggleable\"><input class=\"sk-toggleable__control sk-hidden--visually\" id=\"7551a933-6d1c-415f-8176-649d63888f6f\" type=\"checkbox\" ><label class=\"sk-toggleable__label\" for=\"7551a933-6d1c-415f-8176-649d63888f6f\">preprocessor: ColumnTransformer</label><div class=\"sk-toggleable__content\"><pre>ColumnTransformer(transformers=[('cat',\n",
       "                                 Pipeline(steps=[('impute',\n",
       "                                                  SimpleImputer(fill_value='missing',\n",
       "                                                                strategy='constant')),\n",
       "                                                 ('onehot',\n",
       "                                                  OneHotEncoder(handle_unknown='ignore'))]),\n",
       "                                 ['gender', 'age_bracket']),\n",
       "                                ('num',\n",
       "                                 Pipeline(steps=[('impute', SimpleImputer()),\n",
       "                                                 ('scale', StandardScaler())]),\n",
       "                                 ['age', 'income'])])</pre></div></div></div><div class=\"sk-parallel\"><div class=\"sk-parallel-item\"><div class=\"sk-label-container\"><div class=\"sk-label sk-toggleable\"><input class=\"sk-toggleable__control sk-hidden--visually\" id=\"d20b54d7-7fae-4d52-8b7d-57b58245c3f5\" type=\"checkbox\" ><label class=\"sk-toggleable__label\" for=\"d20b54d7-7fae-4d52-8b7d-57b58245c3f5\">cat</label><div class=\"sk-toggleable__content\"><pre>['gender', 'age_bracket']</pre></div></div></div><div class=\"sk-serial\"><div class=\"sk-item\"><div class=\"sk-serial\"><div class=\"sk-item\"><div class=\"sk-estimator sk-toggleable\"><input class=\"sk-toggleable__control sk-hidden--visually\" id=\"544e12f5-46bb-4b12-9a13-114626001452\" type=\"checkbox\" ><label class=\"sk-toggleable__label\" for=\"544e12f5-46bb-4b12-9a13-114626001452\">SimpleImputer</label><div class=\"sk-toggleable__content\"><pre>SimpleImputer(fill_value='missing', strategy='constant')</pre></div></div></div><div class=\"sk-item\"><div class=\"sk-estimator sk-toggleable\"><input class=\"sk-toggleable__control sk-hidden--visually\" id=\"ff9acc54-5c58-494c-8b5b-5f5a095bde41\" type=\"checkbox\" ><label class=\"sk-toggleable__label\" for=\"ff9acc54-5c58-494c-8b5b-5f5a095bde41\">OneHotEncoder</label><div class=\"sk-toggleable__content\"><pre>OneHotEncoder(handle_unknown='ignore')</pre></div></div></div></div></div></div></div><div class=\"sk-parallel-item\"><div class=\"sk-label-container\"><div class=\"sk-label sk-toggleable\"><input class=\"sk-toggleable__control sk-hidden--visually\" id=\"5430967e-1d78-453d-9534-f68170a403b7\" type=\"checkbox\" ><label class=\"sk-toggleable__label\" for=\"5430967e-1d78-453d-9534-f68170a403b7\">num</label><div class=\"sk-toggleable__content\"><pre>['age', 'income']</pre></div></div></div><div class=\"sk-serial\"><div class=\"sk-item\"><div class=\"sk-serial\"><div class=\"sk-item\"><div class=\"sk-estimator sk-toggleable\"><input class=\"sk-toggleable__control sk-hidden--visually\" id=\"fde7a924-ba20-4a98-a3d0-931daf4092a5\" type=\"checkbox\" ><label class=\"sk-toggleable__label\" for=\"fde7a924-ba20-4a98-a3d0-931daf4092a5\">SimpleImputer</label><div class=\"sk-toggleable__content\"><pre>SimpleImputer()</pre></div></div></div><div class=\"sk-item\"><div class=\"sk-estimator sk-toggleable\"><input class=\"sk-toggleable__control sk-hidden--visually\" id=\"eabc25d4-1ba9-4ded-971f-9b6b117e42f5\" type=\"checkbox\" ><label class=\"sk-toggleable__label\" for=\"eabc25d4-1ba9-4ded-971f-9b6b117e42f5\">StandardScaler</label><div class=\"sk-toggleable__content\"><pre>StandardScaler()</pre></div></div></div></div></div></div></div></div></div><div class=\"sk-item sk-dashed-wrapped\"><div class=\"sk-label-container\"><div class=\"sk-label sk-toggleable\"><input class=\"sk-toggleable__control sk-hidden--visually\" id=\"6df848db-a156-4170-b964-ac7319ae79fe\" type=\"checkbox\" ><label class=\"sk-toggleable__label\" for=\"6df848db-a156-4170-b964-ac7319ae79fe\">dim_reduce: FeatureUnion</label><div class=\"sk-toggleable__content\"><pre>FeatureUnion(transformer_list=[('pca', PCA(n_components=1)),\n",
       "                               ('svd', TruncatedSVD())])</pre></div></div></div><div class=\"sk-parallel\"><div class=\"sk-parallel-item\"><div class=\"sk-label-container\"><div class=\"sk-label sk-toggleable\"><input class=\"sk-toggleable__control sk-hidden--visually\" id=\"84feb8e7-ecbc-402c-baf6-d6d3f3f4ce0d\" type=\"checkbox\" ><label class=\"sk-toggleable__label\" for=\"84feb8e7-ecbc-402c-baf6-d6d3f3f4ce0d\">pca</label><div class=\"sk-toggleable__content\"><pre>PCA(n_components=1)</pre></div></div></div><div class=\"sk-serial\"><div class=\"sk-item\"><div class=\"sk-estimator sk-toggleable\"><input class=\"sk-toggleable__control sk-hidden--visually\" id=\"0bc4c97d-698f-420f-95ea-81a035748213\" type=\"checkbox\" ><label class=\"sk-toggleable__label\" for=\"0bc4c97d-698f-420f-95ea-81a035748213\">PCA</label><div class=\"sk-toggleable__content\"><pre>PCA(n_components=1)</pre></div></div></div></div></div><div class=\"sk-parallel-item\"><div class=\"sk-label-container\"><div class=\"sk-label sk-toggleable\"><input class=\"sk-toggleable__control sk-hidden--visually\" id=\"5cc32d9a-d745-429b-b246-3d6f18e48215\" type=\"checkbox\" ><label class=\"sk-toggleable__label\" for=\"5cc32d9a-d745-429b-b246-3d6f18e48215\">svd</label><div class=\"sk-toggleable__content\"><pre>TruncatedSVD()</pre></div></div></div><div class=\"sk-serial\"><div class=\"sk-item\"><div class=\"sk-estimator sk-toggleable\"><input class=\"sk-toggleable__control sk-hidden--visually\" id=\"2cb069f4-5530-45bd-b5bc-3eba9805b574\" type=\"checkbox\" ><label class=\"sk-toggleable__label\" for=\"2cb069f4-5530-45bd-b5bc-3eba9805b574\">TruncatedSVD</label><div class=\"sk-toggleable__content\"><pre>TruncatedSVD()</pre></div></div></div></div></div></div></div><div class=\"sk-item\"><div class=\"sk-estimator sk-toggleable\"><input class=\"sk-toggleable__control sk-hidden--visually\" id=\"d2477306-bb4c-42a2-8bb9-16bae1aff85f\" type=\"checkbox\" ><label class=\"sk-toggleable__label\" for=\"d2477306-bb4c-42a2-8bb9-16bae1aff85f\">PCA</label><div class=\"sk-toggleable__content\"><pre>PCA()</pre></div></div></div><div class=\"sk-item sk-dashed-wrapped\"><div class=\"sk-label-container\"><div class=\"sk-label sk-toggleable\"><input class=\"sk-toggleable__control sk-hidden--visually\" id=\"b6583fbc-8c50-490c-a744-ba057bc8676f\" type=\"checkbox\" ><label class=\"sk-toggleable__label\" for=\"b6583fbc-8c50-490c-a744-ba057bc8676f\">stacker: StackingClassifier</label><div class=\"sk-toggleable__content\"><pre>StackingClassifier(estimators=[('lr', LogisticRegression()),\n",
       "                               ('svc', LinearSVC())])</pre></div></div></div><div class=\"sk-serial\"><div class=\"sk-item\"><div class=\"sk-serial\"><div class=\"sk-item\"><div class=\"sk-parallel\"><div class=\"sk-parallel-item\"><div class=\"sk-label-container\"><div class=\"sk-label sk-toggleable\"><label>lr</label></div></div><div class=\"sk-serial\"><div class=\"sk-item\"><div class=\"sk-estimator sk-toggleable\"><input class=\"sk-toggleable__control sk-hidden--visually\" id=\"465ff777-53e0-44ff-8b98-1d73b4aee126\" type=\"checkbox\" ><label class=\"sk-toggleable__label\" for=\"465ff777-53e0-44ff-8b98-1d73b4aee126\">LogisticRegression</label><div class=\"sk-toggleable__content\"><pre>LogisticRegression()</pre></div></div></div></div></div><div class=\"sk-parallel-item\"><div class=\"sk-label-container\"><div class=\"sk-label sk-toggleable\"><label>svc</label></div></div><div class=\"sk-serial\"><div class=\"sk-item\"><div class=\"sk-estimator sk-toggleable\"><input class=\"sk-toggleable__control sk-hidden--visually\" id=\"dd33f9a1-ccbe-45f8-bbef-cf6083aea975\" type=\"checkbox\" ><label class=\"sk-toggleable__label\" for=\"dd33f9a1-ccbe-45f8-bbef-cf6083aea975\">LinearSVC</label><div class=\"sk-toggleable__content\"><pre>LinearSVC()</pre></div></div></div></div></div></div></div><div class=\"sk-item\"><div class=\"sk-estimator sk-toggleable\"><input class=\"sk-toggleable__control sk-hidden--visually\" id=\"bfa4968d-ba52-4877-9594-8e536f4a6d91\" type=\"checkbox\" ><label class=\"sk-toggleable__label\" for=\"bfa4968d-ba52-4877-9594-8e536f4a6d91\">LogisticRegression</label><div class=\"sk-toggleable__content\"><pre>LogisticRegression()</pre></div></div></div></div></div></div></div></div></div></div></div></body></html>"
      ],
      "text/plain": [
       "Pipeline(memory=None,\n",
       "         steps=[('preprocessor',\n",
       "                 ColumnTransformer(n_jobs=None, remainder='drop',\n",
       "                                   sparse_threshold=0.3,\n",
       "                                   transformer_weights=None,\n",
       "                                   transformers=[('cat',\n",
       "                                                  Pipeline(memory=None,\n",
       "                                                           steps=[('impute',\n",
       "                                                                   SimpleImputer(add_indicator=False,\n",
       "                                                                                 copy=True,\n",
       "                                                                                 fill_value='missing',\n",
       "                                                                                 missing_values=nan,\n",
       "                                                                                 strategy='constant',\n",
       "                                                                                 verbose=0)),\n",
       "                                                                  ('onehot',\n",
       "                                                                   OneHotEncoder(categories='au...\n",
       "                                                                    solver='lbfgs',\n",
       "                                                                    tol=0.0001,\n",
       "                                                                    verbose=0,\n",
       "                                                                    warm_start=False)),\n",
       "                                                ('svc',\n",
       "                                                 LinearSVC(C=1.0,\n",
       "                                                           class_weight=None,\n",
       "                                                           dual=True,\n",
       "                                                           fit_intercept=True,\n",
       "                                                           intercept_scaling=1,\n",
       "                                                           loss='squared_hinge',\n",
       "                                                           max_iter=1000,\n",
       "                                                           multi_class='ovr',\n",
       "                                                           penalty='l2',\n",
       "                                                           random_state=None,\n",
       "                                                           tol=0.0001,\n",
       "                                                           verbose=0))],\n",
       "                                    final_estimator=None, n_jobs=None,\n",
       "                                    passthrough=False, stack_method='auto',\n",
       "                                    verbose=0))],\n",
       "         verbose=False)"
      ]
     },
     "execution_count": 12,
     "metadata": {},
     "output_type": "execute_result"
    }
   ],
   "source": [
    "pipe5 = Pipeline([\n",
    "    ('preprocessor', preprcoessor),\n",
    "    ('dim_reduce', dim_reduce),\n",
    "    ('hello', PCA()),\n",
    "    ('stacker', clf)\n",
    "])\n",
    "pipe5"
   ]
  },
  {
   "cell_type": "code",
   "execution_count": 13,
   "metadata": {},
   "outputs": [
    {
     "data": {
      "text/html": [
       "<!DOCTYPE html><html lang=\"en\"><head><title>sklearn-viz</title><style>div.sk-top-container {color: black;background-color: white;}div.sk-toggleable {background-color: white;}label.sk-toggleable__label {cursor: pointer;display: block;width: 100%;margin-bottom: 0;padding: 0.2em 0.3em;box-sizing: border-box;text-align: center;}div.sk-toggleable__content {max-height: 0;max-width: 0;overflow: hidden;text-align: left;background-color: #f0f8ff;}div.sk-toggleable__content pre {margin: 0.2em;color: black;border-radius: 0.25em;background-color: #f0f8ff;}input.sk-toggleable__control:checked~div.sk-toggleable__content {max-height: 200px;max-width: 100%;overflow: auto;}div.sk-estimator input.sk-toggleable__control:checked~label.sk-toggleable__label {background-color: #d4ebff;}div.sk-label input.sk-toggleable__control:checked~label.sk-toggleable__label {background-color: #d4ebff;}input.sk-hidden--visually {border: 0;clip: rect(1px 1px 1px 1px);clip: rect(1px, 1px, 1px, 1px);height: 1px;margin: -1px;overflow: hidden;padding: 0;position: absolute;width: 1px;}div.sk-estimator {font-family: monospace;background-color: #f0f8ff;margin: 0.25em 0.25em;border: 1px dotted black;border-radius: 0.25em;box-sizing: border-box;}div.sk-estimator:hover {background-color: #d4ebff;}div.sk-parallel-item::after {content: \"\";width: 100%;border-bottom: 1px solid gray;flex-grow: 1;}div.sk-label:hover label.sk-toggleable__label {background-color: #d4ebff;}div.sk-serial::before {content: \"\";position: absolute;border-left: 1px solid gray;box-sizing: border-box;top: 2em;bottom: 0;left: 50%;}div.sk-serial {display: flex;flex-direction: column;align-items: center;background-color: white;}div.sk-item {z-index: 1;}div.sk-parallel {display: flex;align-items: stretch;justify-content: center;background-color: white;}div.sk-parallel-item {display: flex;flex-direction: column;position: relative;background-color: white;}div.sk-parallel-item:first-child::after {align-self: flex-end;width: 50%;}div.sk-parallel-item:last-child::after {align-self: flex-start;width: 50%;}div.sk-parallel-item:only-child::after {width: 0;}div.sk-dashed-wrapped {border: 1px dashed gray;margin: 0.2em;box-sizing: border-box;padding-bottom: 0.1em;background-color: white;position: relative;}div.sk-label label {font-family: monospace;font-weight: bold;background-color: white;display: inline-block;line-height: 1.2em;}div.sk-label-container {position: relative;z-index: 2;text-align: center;}div.sk-container {display: flex;flex-direction: column;align-items: flex-start;position: relative;float: left;}</style></head><body><div class=\"sk-top-container\"><div class=\"sk-container\"><div class=\"sk-item sk-dashed-wrapped\"><div class=\"sk-label-container\"><div class=\"sk-label sk-toggleable\"><input class=\"sk-toggleable__control sk-hidden--visually\" id=\"f8e7d5ed-095b-46c5-85eb-007ef24c5f4e\" type=\"checkbox\" ><label class=\"sk-toggleable__label\" for=\"f8e7d5ed-095b-46c5-85eb-007ef24c5f4e\">GridSearchCV</label><div class=\"sk-toggleable__content\"><pre>GridSearchCV(estimator=Pipeline(steps=[('preprocessor',\n",
       "                                        ColumnTransformer(transformers=[('cat',\n",
       "                                                                         Pipeline(steps=[('impute',\n",
       "                                                                                          SimpleImputer(fill_value='missing',\n",
       "                                                                                                        strategy='constant')),\n",
       "                                                                                         ('onehot',\n",
       "                                                                                          OneHotEncoder(handle_unknown='ignore'))]),\n",
       "                                                                         ['gender',\n",
       "                                                                          'age_bracket']),\n",
       "                                                                        ('num',\n",
       "                                                                         Pipeline(steps=[('impute',\n",
       "                                                                                          SimpleImputer()),\n",
       "                                                                                         ('scale',\n",
       "                                                                                          StandardScaler())]),\n",
       "                                                                         ['age',\n",
       "                                                                          'income'])])),\n",
       "                                       ('dim_reduce',\n",
       "                                        FeatureUnion(transformer_list=[('pca',\n",
       "                                                                        PCA(n_components=1)),\n",
       "                                                                       ('svd',\n",
       "                                                                        TruncatedSVD())])),\n",
       "                                       ('hello', PCA()),\n",
       "                                       ('stacker',\n",
       "                                        StackingClassifier(estimators=[('lr',\n",
       "                                                                        LogisticRegression()),\n",
       "                                                                       ('svc',\n",
       "                                                                        LinearSVC())]))]),\n",
       "             param_grid={})</pre></div></div></div><div class=\"sk-serial\"><div class=\"sk-item\"><div class=\"sk-label-container\"><div class=\"sk-label sk-toggleable\"><input class=\"sk-toggleable__control sk-hidden--visually\" id=\"d91e7045-43f3-4926-9a15-53573f34fbea\" type=\"checkbox\" ><label class=\"sk-toggleable__label\" for=\"d91e7045-43f3-4926-9a15-53573f34fbea\">Pipeline</label><div class=\"sk-toggleable__content\"><pre>Pipeline(steps=[('preprocessor',\n",
       "                 ColumnTransformer(transformers=[('cat',\n",
       "                                                  Pipeline(steps=[('impute',\n",
       "                                                                   SimpleImputer(fill_value='missing',\n",
       "                                                                                 strategy='constant')),\n",
       "                                                                  ('onehot',\n",
       "                                                                   OneHotEncoder(handle_unknown='ignore'))]),\n",
       "                                                  ['gender', 'age_bracket']),\n",
       "                                                 ('num',\n",
       "                                                  Pipeline(steps=[('impute',\n",
       "                                                                   SimpleImputer()),\n",
       "                                                                  ('scale',\n",
       "                                                                   StandardScaler())]),\n",
       "                                                  ['age', 'income'])])),\n",
       "                ('dim_reduce',\n",
       "                 FeatureUnion(transformer_list=[('pca', PCA(n_components=1)),\n",
       "                                                ('svd', TruncatedSVD())])),\n",
       "                ('hello', PCA()),\n",
       "                ('stacker',\n",
       "                 StackingClassifier(estimators=[('lr', LogisticRegression()),\n",
       "                                                ('svc', LinearSVC())]))])</pre></div></div></div><div class=\"sk-serial\"><div class=\"sk-item sk-dashed-wrapped\"><div class=\"sk-label-container\"><div class=\"sk-label sk-toggleable\"><input class=\"sk-toggleable__control sk-hidden--visually\" id=\"3f84895f-d7be-488f-90e8-7b6b21aa5a5e\" type=\"checkbox\" ><label class=\"sk-toggleable__label\" for=\"3f84895f-d7be-488f-90e8-7b6b21aa5a5e\">preprocessor: ColumnTransformer</label><div class=\"sk-toggleable__content\"><pre>ColumnTransformer(transformers=[('cat',\n",
       "                                 Pipeline(steps=[('impute',\n",
       "                                                  SimpleImputer(fill_value='missing',\n",
       "                                                                strategy='constant')),\n",
       "                                                 ('onehot',\n",
       "                                                  OneHotEncoder(handle_unknown='ignore'))]),\n",
       "                                 ['gender', 'age_bracket']),\n",
       "                                ('num',\n",
       "                                 Pipeline(steps=[('impute', SimpleImputer()),\n",
       "                                                 ('scale', StandardScaler())]),\n",
       "                                 ['age', 'income'])])</pre></div></div></div><div class=\"sk-parallel\"><div class=\"sk-parallel-item\"><div class=\"sk-label-container\"><div class=\"sk-label sk-toggleable\"><input class=\"sk-toggleable__control sk-hidden--visually\" id=\"f59597a9-2de0-4815-a8ef-ba87cd98b145\" type=\"checkbox\" ><label class=\"sk-toggleable__label\" for=\"f59597a9-2de0-4815-a8ef-ba87cd98b145\">cat</label><div class=\"sk-toggleable__content\"><pre>['gender', 'age_bracket']</pre></div></div></div><div class=\"sk-serial\"><div class=\"sk-item\"><div class=\"sk-serial\"><div class=\"sk-item\"><div class=\"sk-estimator sk-toggleable\"><input class=\"sk-toggleable__control sk-hidden--visually\" id=\"77b3f7f9-d5bc-4ccf-95fe-18bff76e5753\" type=\"checkbox\" ><label class=\"sk-toggleable__label\" for=\"77b3f7f9-d5bc-4ccf-95fe-18bff76e5753\">SimpleImputer</label><div class=\"sk-toggleable__content\"><pre>SimpleImputer(fill_value='missing', strategy='constant')</pre></div></div></div><div class=\"sk-item\"><div class=\"sk-estimator sk-toggleable\"><input class=\"sk-toggleable__control sk-hidden--visually\" id=\"af9cdb4e-9120-43b0-8ad5-b4f955b2c62b\" type=\"checkbox\" ><label class=\"sk-toggleable__label\" for=\"af9cdb4e-9120-43b0-8ad5-b4f955b2c62b\">OneHotEncoder</label><div class=\"sk-toggleable__content\"><pre>OneHotEncoder(handle_unknown='ignore')</pre></div></div></div></div></div></div></div><div class=\"sk-parallel-item\"><div class=\"sk-label-container\"><div class=\"sk-label sk-toggleable\"><input class=\"sk-toggleable__control sk-hidden--visually\" id=\"642b0430-3aae-4409-a022-d86a0cccefd5\" type=\"checkbox\" ><label class=\"sk-toggleable__label\" for=\"642b0430-3aae-4409-a022-d86a0cccefd5\">num</label><div class=\"sk-toggleable__content\"><pre>['age', 'income']</pre></div></div></div><div class=\"sk-serial\"><div class=\"sk-item\"><div class=\"sk-serial\"><div class=\"sk-item\"><div class=\"sk-estimator sk-toggleable\"><input class=\"sk-toggleable__control sk-hidden--visually\" id=\"d42964d1-eea5-47b3-82f6-26692866c4b6\" type=\"checkbox\" ><label class=\"sk-toggleable__label\" for=\"d42964d1-eea5-47b3-82f6-26692866c4b6\">SimpleImputer</label><div class=\"sk-toggleable__content\"><pre>SimpleImputer()</pre></div></div></div><div class=\"sk-item\"><div class=\"sk-estimator sk-toggleable\"><input class=\"sk-toggleable__control sk-hidden--visually\" id=\"5a8687f2-26a8-4677-841e-544262ed36de\" type=\"checkbox\" ><label class=\"sk-toggleable__label\" for=\"5a8687f2-26a8-4677-841e-544262ed36de\">StandardScaler</label><div class=\"sk-toggleable__content\"><pre>StandardScaler()</pre></div></div></div></div></div></div></div></div></div><div class=\"sk-item sk-dashed-wrapped\"><div class=\"sk-label-container\"><div class=\"sk-label sk-toggleable\"><input class=\"sk-toggleable__control sk-hidden--visually\" id=\"17e39c2f-d6cc-433c-9a55-0dca73391abe\" type=\"checkbox\" ><label class=\"sk-toggleable__label\" for=\"17e39c2f-d6cc-433c-9a55-0dca73391abe\">dim_reduce: FeatureUnion</label><div class=\"sk-toggleable__content\"><pre>FeatureUnion(transformer_list=[('pca', PCA(n_components=1)),\n",
       "                               ('svd', TruncatedSVD())])</pre></div></div></div><div class=\"sk-parallel\"><div class=\"sk-parallel-item\"><div class=\"sk-label-container\"><div class=\"sk-label sk-toggleable\"><input class=\"sk-toggleable__control sk-hidden--visually\" id=\"89e04e08-9ffa-4b73-934a-34c1bae190fd\" type=\"checkbox\" ><label class=\"sk-toggleable__label\" for=\"89e04e08-9ffa-4b73-934a-34c1bae190fd\">pca</label><div class=\"sk-toggleable__content\"><pre>PCA(n_components=1)</pre></div></div></div><div class=\"sk-serial\"><div class=\"sk-item\"><div class=\"sk-estimator sk-toggleable\"><input class=\"sk-toggleable__control sk-hidden--visually\" id=\"196ffc23-b6f9-487b-a9ac-12905aba8775\" type=\"checkbox\" ><label class=\"sk-toggleable__label\" for=\"196ffc23-b6f9-487b-a9ac-12905aba8775\">PCA</label><div class=\"sk-toggleable__content\"><pre>PCA(n_components=1)</pre></div></div></div></div></div><div class=\"sk-parallel-item\"><div class=\"sk-label-container\"><div class=\"sk-label sk-toggleable\"><input class=\"sk-toggleable__control sk-hidden--visually\" id=\"3f6b9b46-9d1f-47a5-857c-b978411cc145\" type=\"checkbox\" ><label class=\"sk-toggleable__label\" for=\"3f6b9b46-9d1f-47a5-857c-b978411cc145\">svd</label><div class=\"sk-toggleable__content\"><pre>TruncatedSVD()</pre></div></div></div><div class=\"sk-serial\"><div class=\"sk-item\"><div class=\"sk-estimator sk-toggleable\"><input class=\"sk-toggleable__control sk-hidden--visually\" id=\"0a283ecc-c66b-44bd-a4b1-3561ea4bf11f\" type=\"checkbox\" ><label class=\"sk-toggleable__label\" for=\"0a283ecc-c66b-44bd-a4b1-3561ea4bf11f\">TruncatedSVD</label><div class=\"sk-toggleable__content\"><pre>TruncatedSVD()</pre></div></div></div></div></div></div></div><div class=\"sk-item\"><div class=\"sk-estimator sk-toggleable\"><input class=\"sk-toggleable__control sk-hidden--visually\" id=\"e4be32d6-7aac-409c-b7f8-452b502bfe7f\" type=\"checkbox\" ><label class=\"sk-toggleable__label\" for=\"e4be32d6-7aac-409c-b7f8-452b502bfe7f\">PCA</label><div class=\"sk-toggleable__content\"><pre>PCA()</pre></div></div></div><div class=\"sk-item sk-dashed-wrapped\"><div class=\"sk-label-container\"><div class=\"sk-label sk-toggleable\"><input class=\"sk-toggleable__control sk-hidden--visually\" id=\"c5790e88-9960-4c2e-af8c-50814255a418\" type=\"checkbox\" ><label class=\"sk-toggleable__label\" for=\"c5790e88-9960-4c2e-af8c-50814255a418\">stacker: StackingClassifier</label><div class=\"sk-toggleable__content\"><pre>StackingClassifier(estimators=[('lr', LogisticRegression()),\n",
       "                               ('svc', LinearSVC())])</pre></div></div></div><div class=\"sk-serial\"><div class=\"sk-item\"><div class=\"sk-serial\"><div class=\"sk-item\"><div class=\"sk-parallel\"><div class=\"sk-parallel-item\"><div class=\"sk-label-container\"><div class=\"sk-label sk-toggleable\"><label>lr</label></div></div><div class=\"sk-serial\"><div class=\"sk-item\"><div class=\"sk-estimator sk-toggleable\"><input class=\"sk-toggleable__control sk-hidden--visually\" id=\"a0b6353c-211f-4518-b474-e31911e4e5d6\" type=\"checkbox\" ><label class=\"sk-toggleable__label\" for=\"a0b6353c-211f-4518-b474-e31911e4e5d6\">LogisticRegression</label><div class=\"sk-toggleable__content\"><pre>LogisticRegression()</pre></div></div></div></div></div><div class=\"sk-parallel-item\"><div class=\"sk-label-container\"><div class=\"sk-label sk-toggleable\"><label>svc</label></div></div><div class=\"sk-serial\"><div class=\"sk-item\"><div class=\"sk-estimator sk-toggleable\"><input class=\"sk-toggleable__control sk-hidden--visually\" id=\"ccc47af3-59b8-40a3-b0c0-b50d6dbf07b8\" type=\"checkbox\" ><label class=\"sk-toggleable__label\" for=\"ccc47af3-59b8-40a3-b0c0-b50d6dbf07b8\">LinearSVC</label><div class=\"sk-toggleable__content\"><pre>LinearSVC()</pre></div></div></div></div></div></div></div><div class=\"sk-item\"><div class=\"sk-estimator sk-toggleable\"><input class=\"sk-toggleable__control sk-hidden--visually\" id=\"5fd8e544-1709-471b-a431-210b65d3e262\" type=\"checkbox\" ><label class=\"sk-toggleable__label\" for=\"5fd8e544-1709-471b-a431-210b65d3e262\">LogisticRegression</label><div class=\"sk-toggleable__content\"><pre>LogisticRegression()</pre></div></div></div></div></div></div></div></div></div></div></div></div></div></body></html>"
      ],
      "text/plain": [
       "GridSearchCV(cv=None, error_score=nan,\n",
       "             estimator=Pipeline(memory=None,\n",
       "                                steps=[('preprocessor',\n",
       "                                        ColumnTransformer(n_jobs=None,\n",
       "                                                          remainder='drop',\n",
       "                                                          sparse_threshold=0.3,\n",
       "                                                          transformer_weights=None,\n",
       "                                                          transformers=[('cat',\n",
       "                                                                         Pipeline(memory=None,\n",
       "                                                                                  steps=[('impute',\n",
       "                                                                                          SimpleImputer(add_indicator=False,\n",
       "                                                                                                        copy=True,\n",
       "                                                                                                        fill_value='missing',\n",
       "                                                                                                        missing_values=nan,\n",
       "                                                                                                        strategy='constant',\n",
       "                                                                                                        ver...\n",
       "                                                                                  intercept_scaling=1,\n",
       "                                                                                  loss='squared_hinge',\n",
       "                                                                                  max_iter=1000,\n",
       "                                                                                  multi_class='ovr',\n",
       "                                                                                  penalty='l2',\n",
       "                                                                                  random_state=None,\n",
       "                                                                                  tol=0.0001,\n",
       "                                                                                  verbose=0))],\n",
       "                                                           final_estimator=None,\n",
       "                                                           n_jobs=None,\n",
       "                                                           passthrough=False,\n",
       "                                                           stack_method='auto',\n",
       "                                                           verbose=0))],\n",
       "                                verbose=False),\n",
       "             iid='deprecated', n_jobs=None, param_grid={},\n",
       "             pre_dispatch='2*n_jobs', refit=True, return_train_score=False,\n",
       "             scoring=None, verbose=0)"
      ]
     },
     "execution_count": 13,
     "metadata": {},
     "output_type": "execute_result"
    }
   ],
   "source": [
    "# meta estimator\n",
    "GridSearchCV(pipe5, {})"
   ]
  },
  {
   "cell_type": "code",
   "execution_count": 24,
   "metadata": {},
   "outputs": [
    {
     "data": {
      "text/html": [
       "<!DOCTYPE html><html lang=\"en\"><head><title>sklearn-viz</title><style>div.sk-top-container {color: black;background-color: white;}div.sk-toggleable {background-color: white;}label.sk-toggleable__label {cursor: pointer;display: block;width: 100%;margin-bottom: 0;padding: 0.2em 0.3em;box-sizing: border-box;text-align: center;}div.sk-toggleable__content {max-height: 0;max-width: 0;overflow: hidden;text-align: left;background-color: #f0f8ff;}div.sk-toggleable__content pre {margin: 0.2em;color: black;border-radius: 0.25em;background-color: #f0f8ff;}input.sk-toggleable__control:checked~div.sk-toggleable__content {max-height: 200px;max-width: 100%;overflow: auto;}div.sk-estimator input.sk-toggleable__control:checked~label.sk-toggleable__label {background-color: #d4ebff;}div.sk-label input.sk-toggleable__control:checked~label.sk-toggleable__label {background-color: #d4ebff;}input.sk-hidden--visually {border: 0;clip: rect(1px 1px 1px 1px);clip: rect(1px, 1px, 1px, 1px);height: 1px;margin: -1px;overflow: hidden;padding: 0;position: absolute;width: 1px;}div.sk-estimator {font-family: monospace;background-color: #f0f8ff;margin: 0.25em 0.25em;border: 1px dotted black;border-radius: 0.25em;box-sizing: border-box;}div.sk-estimator:hover {background-color: #d4ebff;}div.sk-parallel-item::after {content: \"\";width: 100%;border-bottom: 1px solid gray;flex-grow: 1;}div.sk-label:hover label.sk-toggleable__label {background-color: #d4ebff;}div.sk-serial::before {content: \"\";position: absolute;border-left: 1px solid gray;box-sizing: border-box;top: 2em;bottom: 0;left: 50%;}div.sk-serial {display: flex;flex-direction: column;align-items: center;background-color: white;}div.sk-item {z-index: 1;}div.sk-parallel {display: flex;align-items: stretch;justify-content: center;background-color: white;}div.sk-parallel-item {display: flex;flex-direction: column;position: relative;background-color: white;}div.sk-parallel-item:first-child::after {align-self: flex-end;width: 50%;}div.sk-parallel-item:last-child::after {align-self: flex-start;width: 50%;}div.sk-parallel-item:only-child::after {width: 0;}div.sk-dashed-wrapped {border: 1px dashed gray;margin: 0.2em;box-sizing: border-box;padding-bottom: 0.1em;background-color: white;position: relative;}div.sk-label label {font-family: monospace;font-weight: bold;background-color: white;display: inline-block;line-height: 1.2em;}div.sk-label-container {position: relative;z-index: 2;text-align: center;}div.sk-container {display: flex;flex-direction: column;align-items: flex-start;position: relative;float: left;}</style></head><body><div class=\"sk-top-container\"><div class=\"sk-container\"><div class=\"sk-item sk-dashed-wrapped\"><div class=\"sk-label-container\"><div class=\"sk-label sk-toggleable\"><input class=\"sk-toggleable__control sk-hidden--visually\" id=\"423057c9-afc0-493d-a32a-199e1d1a730a\" type=\"checkbox\" ><label class=\"sk-toggleable__label\" for=\"423057c9-afc0-493d-a32a-199e1d1a730a\">Pipeline</label><div class=\"sk-toggleable__content\"><pre>Pipeline(steps=[('prep',\n",
       "                 ColumnTransformer(transformers=[('cat',\n",
       "                                                  Pipeline(steps=[('impute',\n",
       "                                                                   SimpleImputer(fill_value='missing',\n",
       "                                                                                 strategy='constant')),\n",
       "                                                                  ('onehot',\n",
       "                                                                   OneHotEncoder(handle_unknown='ignore'))]),\n",
       "                                                  ['gender', 'age_bracket']),\n",
       "                                                 ('num',\n",
       "                                                  Pipeline(steps=[('impute',\n",
       "                                                                   SimpleImputer()),\n",
       "                                                                  ('scale',\n",
       "                                                                   StandardScaler()),\n",
       "                                                                  ('dim_reduce',\n",
       "                                                                   FeatureUnion(transformer_list=[('pca',\n",
       "                                                                                                   PCA(n_components=1)),\n",
       "                                                                                                  ('svd',\n",
       "                                                                                                   TruncatedSVD())]))]),\n",
       "                                                  ['age', 'income'])])),\n",
       "                ('clf',\n",
       "                 VotingClassifier(estimators=[('rf',\n",
       "                                               Pipeline(steps=[('preprocessor',\n",
       "                                                                StandardScaler()),\n",
       "                                                               ('lr',\n",
       "                                                                LogisticRegression())])),\n",
       "                                              ('mlp', MLPClassifier()),\n",
       "                                              ('lr', LogisticRegression())]))])</pre></div></div></div><div class=\"sk-serial\"><div class=\"sk-item sk-dashed-wrapped\"><div class=\"sk-label-container\"><div class=\"sk-label sk-toggleable\"><input class=\"sk-toggleable__control sk-hidden--visually\" id=\"66330cb7-5246-4d69-a7a6-e15d43a49df6\" type=\"checkbox\" ><label class=\"sk-toggleable__label\" for=\"66330cb7-5246-4d69-a7a6-e15d43a49df6\">prep: ColumnTransformer</label><div class=\"sk-toggleable__content\"><pre>ColumnTransformer(transformers=[('cat',\n",
       "                                 Pipeline(steps=[('impute',\n",
       "                                                  SimpleImputer(fill_value='missing',\n",
       "                                                                strategy='constant')),\n",
       "                                                 ('onehot',\n",
       "                                                  OneHotEncoder(handle_unknown='ignore'))]),\n",
       "                                 ['gender', 'age_bracket']),\n",
       "                                ('num',\n",
       "                                 Pipeline(steps=[('impute', SimpleImputer()),\n",
       "                                                 ('scale', StandardScaler()),\n",
       "                                                 ('dim_reduce',\n",
       "                                                  FeatureUnion(transformer_list=[('pca',\n",
       "                                                                                  PCA(n_components=1)),\n",
       "                                                                                 ('svd',\n",
       "                                                                                  TruncatedSVD())]))]),\n",
       "                                 ['age', 'income'])])</pre></div></div></div><div class=\"sk-parallel\"><div class=\"sk-parallel-item\"><div class=\"sk-label-container\"><div class=\"sk-label sk-toggleable\"><input class=\"sk-toggleable__control sk-hidden--visually\" id=\"0dab6d0c-d283-4637-9e55-eb1a73fe1fcc\" type=\"checkbox\" ><label class=\"sk-toggleable__label\" for=\"0dab6d0c-d283-4637-9e55-eb1a73fe1fcc\">cat</label><div class=\"sk-toggleable__content\"><pre>['gender', 'age_bracket']</pre></div></div></div><div class=\"sk-serial\"><div class=\"sk-item\"><div class=\"sk-serial\"><div class=\"sk-item\"><div class=\"sk-estimator sk-toggleable\"><input class=\"sk-toggleable__control sk-hidden--visually\" id=\"cd3b010a-6541-43a2-a6b9-957f7dbfc99c\" type=\"checkbox\" ><label class=\"sk-toggleable__label\" for=\"cd3b010a-6541-43a2-a6b9-957f7dbfc99c\">SimpleImputer</label><div class=\"sk-toggleable__content\"><pre>SimpleImputer(fill_value='missing', strategy='constant')</pre></div></div></div><div class=\"sk-item\"><div class=\"sk-estimator sk-toggleable\"><input class=\"sk-toggleable__control sk-hidden--visually\" id=\"5f5383e4-26df-4cf5-95ee-7d2f6e4bd245\" type=\"checkbox\" ><label class=\"sk-toggleable__label\" for=\"5f5383e4-26df-4cf5-95ee-7d2f6e4bd245\">OneHotEncoder</label><div class=\"sk-toggleable__content\"><pre>OneHotEncoder(handle_unknown='ignore')</pre></div></div></div></div></div></div></div><div class=\"sk-parallel-item\"><div class=\"sk-label-container\"><div class=\"sk-label sk-toggleable\"><input class=\"sk-toggleable__control sk-hidden--visually\" id=\"5f55ab34-10cc-49be-a7c5-71efc01176ad\" type=\"checkbox\" ><label class=\"sk-toggleable__label\" for=\"5f55ab34-10cc-49be-a7c5-71efc01176ad\">num</label><div class=\"sk-toggleable__content\"><pre>['age', 'income']</pre></div></div></div><div class=\"sk-serial\"><div class=\"sk-item\"><div class=\"sk-serial\"><div class=\"sk-item\"><div class=\"sk-estimator sk-toggleable\"><input class=\"sk-toggleable__control sk-hidden--visually\" id=\"5f6d4442-a468-4670-81ac-c21d7a246175\" type=\"checkbox\" ><label class=\"sk-toggleable__label\" for=\"5f6d4442-a468-4670-81ac-c21d7a246175\">SimpleImputer</label><div class=\"sk-toggleable__content\"><pre>SimpleImputer()</pre></div></div></div><div class=\"sk-item\"><div class=\"sk-estimator sk-toggleable\"><input class=\"sk-toggleable__control sk-hidden--visually\" id=\"6389ce7c-8a48-4252-bf4b-c63694631015\" type=\"checkbox\" ><label class=\"sk-toggleable__label\" for=\"6389ce7c-8a48-4252-bf4b-c63694631015\">StandardScaler</label><div class=\"sk-toggleable__content\"><pre>StandardScaler()</pre></div></div></div><div class=\"sk-item sk-dashed-wrapped\"><div class=\"sk-label-container\"><div class=\"sk-label sk-toggleable\"><input class=\"sk-toggleable__control sk-hidden--visually\" id=\"933da7a9-3d49-405a-9f12-a1574e2ee379\" type=\"checkbox\" ><label class=\"sk-toggleable__label\" for=\"933da7a9-3d49-405a-9f12-a1574e2ee379\">dim_reduce: FeatureUnion</label><div class=\"sk-toggleable__content\"><pre>FeatureUnion(transformer_list=[('pca', PCA(n_components=1)),\n",
       "                               ('svd', TruncatedSVD())])</pre></div></div></div><div class=\"sk-parallel\"><div class=\"sk-parallel-item\"><div class=\"sk-label-container\"><div class=\"sk-label sk-toggleable\"><input class=\"sk-toggleable__control sk-hidden--visually\" id=\"c5a4ff98-f84f-4e44-b22f-23152335f926\" type=\"checkbox\" ><label class=\"sk-toggleable__label\" for=\"c5a4ff98-f84f-4e44-b22f-23152335f926\">pca</label><div class=\"sk-toggleable__content\"><pre>PCA(n_components=1)</pre></div></div></div><div class=\"sk-serial\"><div class=\"sk-item\"><div class=\"sk-estimator sk-toggleable\"><input class=\"sk-toggleable__control sk-hidden--visually\" id=\"27dd78d1-0d3f-47c9-8d02-7ce7c2fe4afd\" type=\"checkbox\" ><label class=\"sk-toggleable__label\" for=\"27dd78d1-0d3f-47c9-8d02-7ce7c2fe4afd\">PCA</label><div class=\"sk-toggleable__content\"><pre>PCA(n_components=1)</pre></div></div></div></div></div><div class=\"sk-parallel-item\"><div class=\"sk-label-container\"><div class=\"sk-label sk-toggleable\"><input class=\"sk-toggleable__control sk-hidden--visually\" id=\"6d25b13b-cc15-4b1b-8149-6f4e8dc3c69d\" type=\"checkbox\" ><label class=\"sk-toggleable__label\" for=\"6d25b13b-cc15-4b1b-8149-6f4e8dc3c69d\">svd</label><div class=\"sk-toggleable__content\"><pre>TruncatedSVD()</pre></div></div></div><div class=\"sk-serial\"><div class=\"sk-item\"><div class=\"sk-estimator sk-toggleable\"><input class=\"sk-toggleable__control sk-hidden--visually\" id=\"487a3126-8e55-4543-86c3-01f66ec4cb39\" type=\"checkbox\" ><label class=\"sk-toggleable__label\" for=\"487a3126-8e55-4543-86c3-01f66ec4cb39\">TruncatedSVD</label><div class=\"sk-toggleable__content\"><pre>TruncatedSVD()</pre></div></div></div></div></div></div></div></div></div></div></div></div></div><div class=\"sk-item sk-dashed-wrapped\"><div class=\"sk-label-container\"><div class=\"sk-label sk-toggleable\"><input class=\"sk-toggleable__control sk-hidden--visually\" id=\"1330588a-186d-41d9-96f9-5f5f8045a4b5\" type=\"checkbox\" ><label class=\"sk-toggleable__label\" for=\"1330588a-186d-41d9-96f9-5f5f8045a4b5\">clf: VotingClassifier</label><div class=\"sk-toggleable__content\"><pre>VotingClassifier(estimators=[('rf',\n",
       "                              Pipeline(steps=[('preprocessor',\n",
       "                                               StandardScaler()),\n",
       "                                              ('lr', LogisticRegression())])),\n",
       "                             ('mlp', MLPClassifier()),\n",
       "                             ('lr', LogisticRegression())])</pre></div></div></div><div class=\"sk-parallel\"><div class=\"sk-parallel-item\"><div class=\"sk-label-container\"><div class=\"sk-label sk-toggleable\"><input class=\"sk-toggleable__control sk-hidden--visually\" id=\"c2eb0147-28c3-4736-aee0-327cd604362a\" type=\"checkbox\" ><label class=\"sk-toggleable__label\" for=\"c2eb0147-28c3-4736-aee0-327cd604362a\">rf</label><div class=\"sk-toggleable__content\"><pre>Pipeline(steps=[('preprocessor', StandardScaler()),\n",
       "                ('lr', LogisticRegression())])</pre></div></div></div><div class=\"sk-serial\"><div class=\"sk-item\"><div class=\"sk-serial\"><div class=\"sk-item\"><div class=\"sk-estimator sk-toggleable\"><input class=\"sk-toggleable__control sk-hidden--visually\" id=\"f4ff22cd-e2d0-428d-9798-e58d4b60e565\" type=\"checkbox\" ><label class=\"sk-toggleable__label\" for=\"f4ff22cd-e2d0-428d-9798-e58d4b60e565\">StandardScaler</label><div class=\"sk-toggleable__content\"><pre>StandardScaler()</pre></div></div></div><div class=\"sk-item\"><div class=\"sk-estimator sk-toggleable\"><input class=\"sk-toggleable__control sk-hidden--visually\" id=\"aa1b4e1d-22de-4bdf-8a1a-c1e4553d35dd\" type=\"checkbox\" ><label class=\"sk-toggleable__label\" for=\"aa1b4e1d-22de-4bdf-8a1a-c1e4553d35dd\">LogisticRegression</label><div class=\"sk-toggleable__content\"><pre>LogisticRegression()</pre></div></div></div></div></div></div></div><div class=\"sk-parallel-item\"><div class=\"sk-label-container\"><div class=\"sk-label sk-toggleable\"><input class=\"sk-toggleable__control sk-hidden--visually\" id=\"4c01d742-2e2c-4ca2-803d-e92d1b310420\" type=\"checkbox\" ><label class=\"sk-toggleable__label\" for=\"4c01d742-2e2c-4ca2-803d-e92d1b310420\">mlp</label><div class=\"sk-toggleable__content\"><pre>MLPClassifier()</pre></div></div></div><div class=\"sk-serial\"><div class=\"sk-item\"><div class=\"sk-estimator sk-toggleable\"><input class=\"sk-toggleable__control sk-hidden--visually\" id=\"0776be7c-a99e-4ea1-9fa8-6632b36d1f82\" type=\"checkbox\" ><label class=\"sk-toggleable__label\" for=\"0776be7c-a99e-4ea1-9fa8-6632b36d1f82\">MLPClassifier</label><div class=\"sk-toggleable__content\"><pre>MLPClassifier()</pre></div></div></div></div></div><div class=\"sk-parallel-item\"><div class=\"sk-label-container\"><div class=\"sk-label sk-toggleable\"><input class=\"sk-toggleable__control sk-hidden--visually\" id=\"671e7d71-3bff-49f4-a019-338861b51772\" type=\"checkbox\" ><label class=\"sk-toggleable__label\" for=\"671e7d71-3bff-49f4-a019-338861b51772\">lr</label><div class=\"sk-toggleable__content\"><pre>LogisticRegression()</pre></div></div></div><div class=\"sk-serial\"><div class=\"sk-item\"><div class=\"sk-estimator sk-toggleable\"><input class=\"sk-toggleable__control sk-hidden--visually\" id=\"58c79243-d208-498b-9d45-5427a99d0fef\" type=\"checkbox\" ><label class=\"sk-toggleable__label\" for=\"58c79243-d208-498b-9d45-5427a99d0fef\">LogisticRegression</label><div class=\"sk-toggleable__content\"><pre>LogisticRegression()</pre></div></div></div></div></div></div></div></div></div></div></div></body></html>"
      ],
      "text/plain": [
       "Pipeline(memory=None,\n",
       "         steps=[('prep',\n",
       "                 ColumnTransformer(n_jobs=None, remainder='drop',\n",
       "                                   sparse_threshold=0.3,\n",
       "                                   transformer_weights=None,\n",
       "                                   transformers=[('cat',\n",
       "                                                  Pipeline(memory=None,\n",
       "                                                           steps=[('impute',\n",
       "                                                                   SimpleImputer(add_indicator=False,\n",
       "                                                                                 copy=True,\n",
       "                                                                                 fill_value='missing',\n",
       "                                                                                 missing_values=nan,\n",
       "                                                                                 strategy='constant',\n",
       "                                                                                 verbose=0)),\n",
       "                                                                  ('onehot',\n",
       "                                                                   OneHotEncoder(categories='auto',\n",
       "                                                                                 drop...\n",
       "                                                             warm_start=False)),\n",
       "                                              ('lr',\n",
       "                                               LogisticRegression(C=1.0,\n",
       "                                                                  class_weight=None,\n",
       "                                                                  dual=False,\n",
       "                                                                  fit_intercept=True,\n",
       "                                                                  intercept_scaling=1,\n",
       "                                                                  l1_ratio=None,\n",
       "                                                                  max_iter=100,\n",
       "                                                                  multi_class='auto',\n",
       "                                                                  n_jobs=None,\n",
       "                                                                  penalty='l2',\n",
       "                                                                  random_state=None,\n",
       "                                                                  solver='lbfgs',\n",
       "                                                                  tol=0.0001,\n",
       "                                                                  verbose=0,\n",
       "                                                                  warm_start=False))],\n",
       "                                  flatten_transform=True, n_jobs=None,\n",
       "                                  verbose=False, voting='hard',\n",
       "                                  weights=None))],\n",
       "         verbose=False)"
      ]
     },
     "execution_count": 24,
     "metadata": {},
     "output_type": "execute_result"
    }
   ],
   "source": [
    "# weird pipeline\n",
    "cat_pipe2 = Pipeline([\n",
    "    ('impute', SimpleImputer(strategy='constant', fill_value='missing')),\n",
    "    ('onehot', OneHotEncoder(handle_unknown='ignore'))\n",
    "])\n",
    "\n",
    "num_pipe = Pipeline([\n",
    "    ('impute', SimpleImputer()),\n",
    "    ('scale', StandardScaler()),\n",
    "    ('dim_reduce', dim_reduce)\n",
    "])\n",
    "\n",
    "preprcoessor = ColumnTransformer([\n",
    "    ('cat', cat_pipe2, ['gender', 'age_bracket']),\n",
    "    ('num', num_pipe, ['age', 'income'])\n",
    "])\n",
    "\n",
    "pipe6 = Pipeline([\n",
    "    ('prep', preprcoessor),\n",
    "    ('clf', vote_clf)\n",
    "])\n",
    "pipe6"
   ]
  }
 ],
 "metadata": {
  "kernelspec": {
   "display_name": "sk3",
   "language": "python",
   "name": "conda-env-sk3-py"
  },
  "language_info": {
   "codemirror_mode": {
    "name": "ipython",
    "version": 3
   },
   "file_extension": ".py",
   "mimetype": "text/x-python",
   "name": "python",
   "nbconvert_exporter": "python",
   "pygments_lexer": "ipython3",
   "version": "3.7.5"
  }
 },
 "nbformat": 4,
 "nbformat_minor": 4
}
